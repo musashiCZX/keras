{
  "nbformat": 4,
  "nbformat_minor": 0,
  "metadata": {
    "kernelspec": {
      "display_name": "Python 3.7.9 64-bit ('gantest': conda)",
      "language": "python",
      "name": "python37964bitgantestcondaa185d19983f04a6b8b2364b9d0a00403"
    },
    "language_info": {
      "codemirror_mode": {
        "name": "ipython",
        "version": 3
      },
      "file_extension": ".py",
      "mimetype": "text/x-python",
      "name": "python",
      "nbconvert_exporter": "python",
      "pygments_lexer": "ipython3",
      "version": "3.7.9-final"
    },
    "colab": {
      "name": "A3_RNN.ipynb",
      "provenance": [],
      "collapsed_sections": [],
      "include_colab_link": true
    }
  },
  "cells": [
    {
      "cell_type": "markdown",
      "metadata": {
        "id": "view-in-github",
        "colab_type": "text"
      },
      "source": [
        "<a href=\"https://colab.research.google.com/github/musashiCZX/keras/blob/master/A3_RNN.ipynb\" target=\"_parent\"><img src=\"https://colab.research.google.com/assets/colab-badge.svg\" alt=\"Open In Colab\"/></a>"
      ]
    },
    {
      "cell_type": "markdown",
      "metadata": {
        "id": "FZ7Xx__nJmj7"
      },
      "source": [
        "# Introduction to Deep Learning\n",
        "## Assignment 3\n",
        "### Task 1: Recurrent Neural Networks\n",
        "<img src=\"https://miro.medium.com/max/1400/1*1JcHGUU7rFgtXC_mydUA_Q.jpeg\" width=\"500\"> \n",
        "\n",
        "The goal of this task is to learn how to use encoder-decoder recurrent models. Specifically we will be dealing with a sequence to sequence problem and try to develop a neural network that can learn the principles behind simple arithmetic operations.\n",
        "\n",
        "\n",
        "\n",
        "To work on this notebook you should create a copy of it."
      ]
    },
    {
      "cell_type": "code",
      "metadata": {
        "id": "w3nzYbXOJmj8"
      },
      "source": [
        "import tensorflow as tf\n",
        "import matplotlib.pyplot as plt\n",
        "import cv2\n",
        "import numpy as np\n",
        "import tensorflow as tf\n",
        "from sklearn.model_selection import train_test_split\n",
        "\n",
        "from tensorflow.keras.layers import Dense, RNN, LSTM, Flatten, TimeDistributed, LSTMCell\n",
        "from tensorflow.keras.layers import RepeatVector, Conv2D, SimpleRNN, GRU, Reshape, ConvLSTM2D, Conv2DTranspose"
      ],
      "execution_count": null,
      "outputs": []
    },
    {
      "cell_type": "markdown",
      "metadata": {
        "id": "sP__1utGJmj_"
      },
      "source": [
        "# Function definitions for creating the dataset\n",
        "\n",
        "In order to create image queries of simple arithmetic operations such as '51+31' or '42-10' we need to create images of '+' and '-' signs using ***open-cv*** library. We will use these operand signs together with the MNIST dataset."
      ]
    },
    {
      "cell_type": "code",
      "metadata": {
        "id": "Z7RGPMxLJmkA"
      },
      "source": [
        "# Create plus/minus signs\n",
        "def generate_images(cross=False, n=50):\n",
        "    x = np.random.randint(12, 16, (n, 2))\n",
        "    y1 = np.random.randint(4, 8, n)\n",
        "    y2 = np.random.randint(20, 24, n)\n",
        "    \n",
        "    blank = np.zeros([n, 28, 28])\n",
        "    for i in range(n):\n",
        "        line = cv2.line(blank[i], (y1[i], x[i,0]), (y2[i], x[i, 1]), (255,0,0), 2, cv2.LINE_AA)\n",
        "        if cross:\n",
        "            line = cv2.line(blank[i], (x[i,0], y1[i]), (x[i, 1], y2[i]), (255,0,0), 2, cv2.LINE_AA)\n",
        "\n",
        "    return blank\n",
        "\n",
        "def show_generated(images):\n",
        "    for i in range(20):\n",
        "        plt.subplot(5, 5, i+1)\n",
        "        plt.axis('off')\n",
        "        plt.imshow(images[i])\n",
        "    plt.show()\n",
        "\n",
        "show_generated(generate_images())\n",
        "show_generated(generate_images(cross=True))"
      ],
      "execution_count": null,
      "outputs": []
    },
    {
      "cell_type": "code",
      "metadata": {
        "tags": [],
        "id": "Lx-Pt6ypJmkD"
      },
      "source": [
        "import random\n",
        "\n",
        "def create_data(highest_integer):\n",
        "    \"\"\"\n",
        "    Creates the following data for all pairs of integers up to [highest integer]+[highest_integer]:\n",
        "\n",
        "    @return:\n",
        "    X_text: '151+ 21' -> text query of an arithmetic operation\n",
        "    X_img : Stack of MNIST images corresponding to the query (7 x 28 x 28)\n",
        "    y_text: ' 172' -> answer of the arithmetic text query\n",
        "    y_img :  Stack of MNIST images corresponding to the answer (4 x 28 x 28)\n",
        "\n",
        "    Images for digits are picked randomly from the whole MNIST dataset.\n",
        "    \"\"\"\n",
        "\n",
        "    num_indices = [np.where(MNIST_labels==x) for x in range(10)]\n",
        "    num_data = [MNIST_data[inds] for inds in num_indices]\n",
        "    image_mapping = dict(zip(unique_characters[:10], num_data))\n",
        "    image_mapping['-'] = generate_images()\n",
        "    image_mapping['+'] = generate_images(cross=True)\n",
        "    image_mapping[' '] = np.zeros([1, 28, 28])\n",
        "\n",
        "    X_text, X_img, y_text, y_img = [], [], [], []\n",
        "    for i in range(highest_integer + 1):\n",
        "        for j in range(highest_integer + 1):\n",
        "            \n",
        "            i_char = to_padded_chars(i, max_len=max_int_length)\n",
        "            j_char = to_padded_chars(j, max_len=max_int_length)\n",
        "\n",
        "            for sign in ['-', '+']:\n",
        "                query_string = i_char + sign + j_char\n",
        "                query_image = []\n",
        "                for n, char in enumerate(query_string):\n",
        "                    image_set = image_mapping[char]\n",
        "                    index = np.random.randint(0, len(image_set), 1)\n",
        "                    query_image.append(image_set[index].squeeze())\n",
        "\n",
        "                result = eval(query_string)\n",
        "                result_string = to_padded_chars(result, max_len=max_answer_length)\n",
        "                result_image = []\n",
        "                for n, char in enumerate(result_string):\n",
        "                    image_set = image_mapping[char]\n",
        "                    index = np.random.randint(0, len(image_set), 1)\n",
        "                    result_image.append(image_set[index].squeeze())\n",
        "\n",
        "                X_text.append(query_string)\n",
        "                X_img.append(np.stack(query_image))\n",
        "                y_text.append(result_string)\n",
        "                y_img.append(np.stack(result_image))\n",
        "            \n",
        "    return np.stack(X_text), np.stack(X_img)/255., np.stack(y_text), np.stack(y_img)/255.\n",
        "  \n",
        "def to_padded_chars(integer, max_len=3, pad_right=False):\n",
        "    \"\"\"\n",
        "    Returns a string of len()=max_len, containing the integer padded with ' ' on either right or left side\n",
        "    \"\"\"\n",
        "    length = len(str(integer))\n",
        "    padding = (max_len - length) * ' '\n",
        "    if pad_right:\n",
        "        return str(integer) + padding\n",
        "    else:\n",
        "        return padding + str(integer)\n"
      ],
      "execution_count": null,
      "outputs": []
    },
    {
      "cell_type": "markdown",
      "metadata": {
        "id": "bTMHYBf4baih"
      },
      "source": [
        "# Creating our data\n",
        "\n",
        "The dataset consists of 80000 samples that have two kinds of inputs and labels:\n",
        "\n",
        "  X_text: strings containing queries of length 7: ['  1+  1', '174- 18', ...] \n",
        "\n",
        "  X_image: a stack of images representing a single query, dimensions: [7, 28, 28]\n",
        "\n",
        "  y_text: strings containing answers of length 4: ['   2', ' 156']\n",
        "\n",
        "  y_image: a stack of images that represents the answer to a query, dimensions: [4, 28, 28]"
      ]
    },
    {
      "cell_type": "code",
      "metadata": {
        "scrolled": false,
        "id": "y0N1vtdLJmkG",
        "colab": {
          "base_uri": "https://localhost:8080/",
          "height": 1000
        },
        "outputId": "05d5ed82-5d84-459b-e98e-196fd06728c1"
      },
      "source": [
        "# Illustrate the generated query/answer pairs\n",
        "\n",
        "unique_characters = '0123456789+- ' # All unique characters that are used in the queries (13 in total: digits 0-9, 2 operands [+, -], and a space character ' '.)\n",
        "highest_integer = 199 # Highest value of integers contained in the queries\n",
        "max_int_length = len(str(highest_integer)) # \n",
        "max_query_length = max_int_length * 2 + 1 # Maximum length of the query string (consists of two integers and an operand [e.g. '22+10'])\n",
        "max_answer_length = max_int_length + 1    # Maximum length of the answer string\n",
        "\n",
        "# Create the data (might take around a minute)\n",
        "(MNIST_data, MNIST_labels), _ = tf.keras.datasets.mnist.load_data()\n",
        "X_text, X_img, y_text, y_img = create_data(highest_integer)\n",
        "print(X_text.shape, X_img.shape, y_text.shape, y_img.shape)\n",
        "\n",
        "\n",
        "## Display the samples that were created\n",
        "def display_sample(n):\n",
        "    labs = ['X_img:', 'y_img:']\n",
        "    for i, data in enumerate([X_img, y_img]):\n",
        "        plt.subplot(1,2,i+1)\n",
        "        plt.axis('off')\n",
        "        plt.title(labs[i])\n",
        "        plt.imshow(np.hstack(data[n]), cmap='gray')\n",
        "    print('='*50, f'\\nSample ID: {n}\\n\\nX_text: \"{X_text[n]}\" = y_text: \"{y_text[n]}\"')\n",
        "    plt.show()\n",
        "\n",
        "for _ in range(10):\n",
        "    display_sample(np.random.randint(0, 80000, 1)[0])"
      ],
      "execution_count": null,
      "outputs": [
        {
          "output_type": "stream",
          "name": "stdout",
          "text": [
            "(80000,) (80000, 7, 28, 28) (80000,) (80000, 4, 28, 28)\n",
            "================================================== \n",
            "Sample ID: 20921\n",
            "\n",
            "X_text: \" 52+ 60\" = y_text: \" 112\"\n"
          ]
        },
        {
          "output_type": "display_data",
          "data": {
            "image/png": "[encoded data removed]",
            "text/plain": [
              "<Figure size 432x288 with 2 Axes>"
            ]
          },
          "metadata": {
            "needs_background": "light"
          }
        },
        {
          "output_type": "stream",
          "name": "stdout",
          "text": [
            "================================================== \n",
            "Sample ID: 24069\n",
            "\n",
            "X_text: \" 60+ 34\" = y_text: \"  94\"\n"
          ]
        },
        {
          "output_type": "display_data",
          "data": {
            "image/png": "[encoded data removed]",
            "text/plain": [
              "<Figure size 432x288 with 2 Axes>"
            ]
          },
          "metadata": {
            "needs_background": "light"
          }
        },
        {
          "output_type": "stream",
          "name": "stdout",
          "text": [
            "================================================== \n",
            "Sample ID: 25089\n",
            "\n",
            "X_text: \" 62+144\" = y_text: \" 206\"\n"
          ]
        },
        {
          "output_type": "display_data",
          "data": {
            "image/png": "[encoded data removed]",
            "text/plain": [
              "<Figure size 432x288 with 2 Axes>"
            ]
          },
          "metadata": {
            "needs_background": "light"
          }
        },
        {
          "output_type": "stream",
          "name": "stdout",
          "text": [
            "================================================== \n",
            "Sample ID: 53244\n",
            "\n",
            "X_text: \"133- 22\" = y_text: \" 111\"\n"
          ]
        },
        {
          "output_type": "display_data",
          "data": {
            "image/png": "[encoded data removed]",
            "text/plain": [
              "<Figure size 432x288 with 2 Axes>"
            ]
          },
          "metadata": {
            "needs_background": "light"
          }
        },
        {
          "output_type": "stream",
          "name": "stdout",
          "text": [
            "================================================== \n",
            "Sample ID: 64251\n",
            "\n",
            "X_text: \"160+125\" = y_text: \" 285\"\n"
          ]
        },
        {
          "output_type": "display_data",
          "data": {
            "image/png": "[encoded data removed]",
            "text/plain": [
              "<Figure size 432x288 with 2 Axes>"
            ]
          },
          "metadata": {
            "needs_background": "light"
          }
        },
        {
          "output_type": "stream",
          "name": "stdout",
          "text": [
            "================================================== \n",
            "Sample ID: 18523\n",
            "\n",
            "X_text: \" 46+ 61\" = y_text: \" 107\"\n"
          ]
        },
        {
          "output_type": "display_data",
          "data": {
            "image/png": "[encoded data removed]",
            "text/plain": [
              "<Figure size 432x288 with 2 Axes>"
            ]
          },
          "metadata": {
            "needs_background": "light"
          }
        },
        {
          "output_type": "stream",
          "name": "stdout",
          "text": [
            "================================================== \n",
            "Sample ID: 6912\n",
            "\n",
            "X_text: \" 17- 56\" = y_text: \" -39\"\n"
          ]
        },
        {
          "output_type": "display_data",
          "data": {
            "image/png": "[encoded data removed]",
            "text/plain": [
              "<Figure size 432x288 with 2 Axes>"
            ]
          },
          "metadata": {
            "needs_background": "light"
          }
        },
        {
          "output_type": "stream",
          "name": "stdout",
          "text": [
            "================================================== \n",
            "Sample ID: 4203\n",
            "\n",
            "X_text: \" 10+101\" = y_text: \" 111\"\n"
          ]
        },
        {
          "output_type": "display_data",
          "data": {
            "image/png": "[encoded data removed]",
            "text/plain": [
              "<Figure size 432x288 with 2 Axes>"
            ]
          },
          "metadata": {
            "needs_background": "light"
          }
        },
        {
          "output_type": "stream",
          "name": "stdout",
          "text": [
            "================================================== \n",
            "Sample ID: 36161\n",
            "\n",
            "X_text: \" 90+ 80\" = y_text: \" 170\"\n"
          ]
        },
        {
          "output_type": "display_data",
          "data": {
            "image/png": "[encoded data removed]",
            "text/plain": [
              "<Figure size 432x288 with 2 Axes>"
            ]
          },
          "metadata": {
            "needs_background": "light"
          }
        },
        {
          "output_type": "stream",
          "name": "stdout",
          "text": [
            "================================================== \n",
            "Sample ID: 11302\n",
            "\n",
            "X_text: \" 28- 51\" = y_text: \" -23\"\n"
          ]
        },
        {
          "output_type": "display_data",
          "data": {
            "image/png": "[encoded data removed]",
            "text/plain": [
              "<Figure size 432x288 with 2 Axes>"
            ]
          },
          "metadata": {
            "needs_background": "light"
          }
        }
      ]
    },
    {
      "cell_type": "code",
      "metadata": {
        "id": "rePVm6duJmkJ",
        "colab": {
          "base_uri": "https://localhost:8080/"
        },
        "outputId": "18052f77-877f-4c11-d425-88e571b2b8d9"
      },
      "source": [
        "# One-hot encoding/decoding the text queries/answers so that they can be processed using RNNs\n",
        "# You should use these functions to convert your strings and read out the output of your networks\n",
        "\n",
        "def encode_labels(labels, max_len=4):\n",
        "    n = len(labels)\n",
        "    length = len(labels[0])\n",
        "    char_map = dict(zip(unique_characters, range(len(unique_characters))))\n",
        "    one_hot = np.zeros([n, length, len(unique_characters)])\n",
        "    for i, label in enumerate(labels):\n",
        "        m = np.zeros([length, len(unique_characters)])\n",
        "        for j, char in enumerate(label):\n",
        "            m[j, char_map[char]] = 1\n",
        "        one_hot[i] = m\n",
        "\n",
        "    return one_hot \n",
        "\n",
        "def decode_labels(labels):\n",
        "    pred = np.argmax(labels, axis=1)\n",
        "    predicted = ''.join([unique_characters[i] for i in pred])\n",
        "\n",
        "    return predicted\n",
        "\n",
        "X_text_onehot = encode_labels(X_text)\n",
        "y_text_onehot = encode_labels(y_text)\n",
        "\n",
        "print(X_text_onehot.shape, y_text_onehot.shape)"
      ],
      "execution_count": null,
      "outputs": [
        {
          "output_type": "stream",
          "name": "stdout",
          "text": [
            "(80000, 7, 13) (80000, 4, 13)\n"
          ]
        }
      ]
    },
    {
      "cell_type": "markdown",
      "metadata": {
        "id": "7-pNByj-JmkL"
      },
      "source": [
        "---\n",
        "---\n",
        "\n",
        "# 1. Text-to-text RNN model\n",
        "\n",
        "The following code showcases how Recurrent neural networks are built using Keras. Several new layers are going to be used:\n",
        "\n",
        "1. LSTM \n",
        "2. TimeDistributed\n",
        "3. RepeatVector"
      ]
    },
    {
      "cell_type": "markdown",
      "metadata": {
        "id": "iyFuSEGyYS7v"
      },
      "source": [
        "The following code shows the basic architecture of a Recurrent Neural Network that usees\n",
        "LSTM (Long Short Term Memory) layers which can be replaced either with SimpleRNN or GRU (Gated Recurrent Units).\n"
      ]
    },
    {
      "cell_type": "markdown",
      "metadata": {
        "id": "HPKKMUMxZmVS"
      },
      "source": [
        "\n",
        "<img src=\"https://miro.medium.com/max/1400/1*1JcHGUU7rFgtXC_mydUA_Q.jpeg\" width=\"500\"> \n"
      ]
    },
    {
      "cell_type": "code",
      "metadata": {
        "id": "Tll54DIrZwbK",
        "colab": {
          "base_uri": "https://localhost:8080/"
        },
        "outputId": "5f4a3360-789e-4865-9da7-d574966f834a"
      },
      "source": [
        "# We start by initializing a sequential model\n",
        "text2text = tf.keras.Sequential()\n",
        "\n",
        "# \"Encode\" the input sequence using an RNN, producing an output of size 256.\n",
        "# In this case the size of our input vectors is [7, 13] as we have queries of length 7 and 13 unique characters. Each of these 7 elements in the query will be fed to the network one by one,\n",
        "# as shown in the image above (except with 7 elements).\n",
        "# Hint: In other applications, where your input sequences have a variable length (e.g. sentences), you would use input_shape=(None, unique_characters).\n",
        "text2text.add(LSTM(256, input_shape=(max_query_length, len(unique_characters))))\n",
        "\n",
        "# As the decoder RNN's input, repeatedly provide with the last output of RNN for each time step. Repeat 4 times as that's the maximum length of the output (e.g. '  1-199' = '-198')\n",
        "# when using 3-digit integers in queries. In other words, the RNN will always produce 4 characters as its output.\n",
        "text2text.add(RepeatVector(max_answer_length))\n",
        "\n",
        "# By setting return_sequences to True, return not only the last output but all the outputs so far in the form of (num_samples, timesteps, output_dim). This is necessary as TimeDistributed in the below expects\n",
        "# the first dimension to be the timesteps.\n",
        "text2text.add(LSTM(128, return_sequences=True))\n",
        "\n",
        "# Apply a dense layer to the every temporal slice of an input. For each of step of the output sequence, decide which character should be chosen.\n",
        "text2text.add(TimeDistributed(Dense(len(unique_characters), activation='softmax')))\n",
        "\n",
        "# Next we compile the model using categorical crossentropy as our loss function.\n",
        "text2text.compile(loss='categorical_crossentropy', optimizer='adam', metrics=['accuracy'])\n",
        "text2text.summary()"
      ],
      "execution_count": null,
      "outputs": [
        {
          "output_type": "stream",
          "name": "stdout",
          "text": [
            "Model: \"sequential\"\n",
            "_________________________________________________________________\n",
            " Layer (type)                Output Shape              Param #   \n",
            "=================================================================\n",
            " lstm (LSTM)                 (None, 256)               276480    \n",
            "                                                                 \n",
            " repeat_vector (RepeatVector  (None, 4, 256)           0         \n",
            " )                                                               \n",
            "                                                                 \n",
            " lstm_1 (LSTM)               (None, 4, 128)            197120    \n",
            "                                                                 \n",
            " time_distributed (TimeDistr  (None, 4, 13)            1677      \n",
            " ibuted)                                                         \n",
            "                                                                 \n",
            "=================================================================\n",
            "Total params: 475,277\n",
            "Trainable params: 475,277\n",
            "Non-trainable params: 0\n",
            "_________________________________________________________________\n"
          ]
        }
      ]
    },
    {
      "cell_type": "markdown",
      "metadata": {
        "id": "kB099ajoZ5kR"
      },
      "source": [
        ""
      ]
    },
    {
      "cell_type": "code",
      "metadata": {
        "id": "Sj0AajQ0JmkM",
        "outputId": "5d177860-6738-4af4-d7a2-7373c87ea354"
      },
      "source": [
        ""
      ],
      "execution_count": null,
      "outputs": [
        {
          "output_type": "stream",
          "text": [
            "Model: \"sequential_1\"\n",
            "_________________________________________________________________\n",
            "Layer (type)                 Output Shape              Param #   \n",
            "=================================================================\n",
            "lstm (LSTM)                  (None, 256)               276480    \n",
            "_________________________________________________________________\n",
            "repeat_vector (RepeatVector) (None, 3, 256)            0         \n",
            "_________________________________________________________________\n",
            "lstm_1 (LSTM)                (None, 3, 128)            197120    \n",
            "_________________________________________________________________\n",
            "time_distributed (TimeDistri (None, 3, 13)             1677      \n",
            "=================================================================\n",
            "Total params: 475,277\n",
            "Trainable params: 475,277\n",
            "Non-trainable params: 0\n",
            "_________________________________________________________________\n"
          ],
          "name": "stdout"
        }
      ]
    },
    {
      "cell_type": "markdown",
      "metadata": {
        "id": "byu4iUIyaUDz"
      },
      "source": [
        ""
      ]
    },
    {
      "cell_type": "markdown",
      "metadata": {
        "id": "r4xRDPrXaFGD"
      },
      "source": [
        "### Your tasks:\n"
      ]
    },
    {
      "cell_type": "code",
      "metadata": {
        "id": "mz6QkPAdzywk"
      },
      "source": [
        "# Train and experiment with the text-to-text RNN Model by using X_text and y_text as your inputs/outputs\n",
        "# 1. Try different ratios of train/test splits\n",
        "# 2. Try to find more optimal architectures\n",
        "\n",
        "\n"
      ],
      "execution_count": null,
      "outputs": []
    },
    {
      "cell_type": "markdown",
      "metadata": {
        "id": "MTUqbQrbaKfB"
      },
      "source": [
        "\n",
        "---\n",
        "---\n",
        "\n",
        "# 2. Image to text RNN Model\n",
        "\n",
        "Hint: There are two ways of building the encoder for such a model - again by using the regular LSTM cells or recurrect convolutional layers [ConvLSTM2D](https://keras.io/api/layers/recurrent_layers/conv_lstm2d/).\n",
        "\n",
        "The goal here is to use X_img as inputs and y_text as outputs."
      ]
    },
    {
      "cell_type": "code",
      "metadata": {
        "id": "pxgO1YYvaEax"
      },
      "source": [
        "# Your code\n",
        "\n",
        "\n",
        "\n",
        "\n"
      ],
      "execution_count": null,
      "outputs": []
    },
    {
      "cell_type": "markdown",
      "metadata": {
        "id": "GnGyo_DIlymz"
      },
      "source": [
        "---\n",
        "---\n",
        "\n",
        "# 3. Text to image RNN Model\n",
        "\n",
        "Hint: to make this model work well you will need deconvolutional layers in your decoder (look up ***Conv2DTranspose*** layer). To connect this from a flat latent vector you will also need an operation which is opposite to a ***Flatten*** layer that you usually use in convolutional architectures - for this look up the ***Reshape*** layer.\n",
        "\n",
        "The goal here is to use X_text as inputs and y_img as outputs."
      ]
    },
    {
      "cell_type": "code",
      "metadata": {
        "id": "KSBADh9s3YqD"
      },
      "source": [
        "# Your code\n",
        "\n",
        "\n",
        "\n",
        "\n"
      ],
      "execution_count": null,
      "outputs": []
    }
  ]
}