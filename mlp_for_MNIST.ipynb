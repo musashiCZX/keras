{
  "nbformat": 4,
  "nbformat_minor": 0,
  "metadata": {
    "colab": {
      "name": "mlp for MNIST.ipynb",
      "provenance": [],
      "collapsed_sections": [],
      "authorship_tag": "ABX9TyP1+DFUANnl69KpfD2xzTTS",
      "include_colab_link": true
    },
    "kernelspec": {
      "name": "python3",
      "display_name": "Python 3"
    },
    "language_info": {
      "name": "python"
    }
  },
  "cells": [
    {
      "cell_type": "markdown",
      "metadata": {
        "id": "view-in-github",
        "colab_type": "text"
      },
      "source": [
        "<a href=\"https://colab.research.google.com/github/musashiCZX/keras/blob/master/mlp_for_MNIST.ipynb\" target=\"_parent\"><img src=\"https://colab.research.google.com/assets/colab-badge.svg\" alt=\"Open In Colab\"/></a>"
      ]
    },
    {
      "cell_type": "code",
      "metadata": {
        "id": "598eWrHt7Tlq"
      },
      "source": [
        "import tensorflow as tf\n",
        "import keras\n",
        "from keras.datasets import mnist\n",
        "from keras.models import Sequential\n",
        "from keras.layers import Dense, Dropout\n",
        "from tensorflow.keras.optimizers import RMSprop\n",
        "from scipy.stats import reciprocal\n",
        "from sklearn.model_selection import RandomizedSearchCV\n",
        "import numpy as np"
      ],
      "execution_count": null,
      "outputs": []
    },
    {
      "cell_type": "code",
      "metadata": {
        "id": "pGtg2QwS7bNf"
      },
      "source": [
        "(X_train_full, y_train_full), (X_test, y_test) = mnist.load_data() ####Load the data."
      ],
      "execution_count": null,
      "outputs": []
    },
    {
      "cell_type": "code",
      "metadata": {
        "id": "I8MBTjEv7inO"
      },
      "source": [
        "X_valid = X_train_full[:5000].astype('float32')\n",
        "y_valid = y_train_full[:5000]\n",
        "X_train = X_train_full[5000:].astype('float32')\n",
        "y_train = y_train_full[5000:]    #####Split the valid data out."
      ],
      "execution_count": null,
      "outputs": []
    },
    {
      "cell_type": "code",
      "metadata": {
        "id": "LVaHLBrh75Tu"
      },
      "source": [
        "model = keras.models.Sequential()\n",
        "model.add(keras.layers.Flatten(input_shape = [28,28]))\n",
        "model.add(keras.layers.Dense(300, activation='relu'))\n",
        "model.add(keras.layers.Dense(100, activation='relu'))\n",
        "model.add(keras.layers.Dense(10, activation='softmax'))  ###Build the structure of the model. Here we follow the model of Aurelien's book.\n",
        "                              ###Two hidden layers with relu activation function.\n",
        "                              ###Output layer with softmax activation.\n"
      ],
      "execution_count": null,
      "outputs": []
    },
    {
      "cell_type": "markdown",
      "metadata": {
        "id": "ZJlWYZ3oPatb"
      },
      "source": [
        "Check the structure of the model.\n"
      ]
    },
    {
      "cell_type": "code",
      "metadata": {
        "id": "54UdJ726gCYM"
      },
      "source": [
        "model.summary()"
      ],
      "execution_count": null,
      "outputs": []
    },
    {
      "cell_type": "code",
      "metadata": {
        "id": "2f37toJfD7iH"
      },
      "source": [
        "num_classes = 10\n",
        "y_train = tf.keras.utils.to_categorical(y_train, num_classes)\n",
        "y_valid = tf.keras.utils.to_categorical(y_valid, num_classes)\n",
        "y_test = tf.keras.utils.to_categorical(y_test, num_classes)\n",
        "\n",
        "###We redesign the categories to a matrix with n row and m columns where n denotes the size of the train set and m denotes the number of classes."
      ],
      "execution_count": null,
      "outputs": []
    },
    {
      "cell_type": "code",
      "metadata": {
        "id": "sELdoyvXEQ3N"
      },
      "source": [
        "model.compile(optimizer = RMSprop(learning_rate=0.001), loss = 'categorical_crossentropy', metrics = ['accuracy'])\n",
        "### In the compiling, we apply the RMSprop optimizer which is used in the example code. The loss function is cateforical_crossentropy.\n",
        "### We also calculate the accuracy to trace the performance when we train the model."
      ],
      "execution_count": null,
      "outputs": []
    },
    {
      "cell_type": "code",
      "metadata": {
        "id": "QFBplDQF82Gm"
      },
      "source": [
        "history = model.fit(X_train, y_train, epochs = 10, validation_data=(X_valid, y_valid), batch_size=100)"
      ],
      "execution_count": null,
      "outputs": []
    },
    {
      "cell_type": "code",
      "metadata": {
        "id": "pfgA_ZnPN8W4"
      },
      "source": [
        "score = model.evaluate(X_test, y_test, verbose=0)\n",
        "print('Test loss:', score[0])\n",
        "print('Test accuracy:', score[1])"
      ],
      "execution_count": null,
      "outputs": []
    },
    {
      "cell_type": "code",
      "metadata": {
        "id": "Xvtyw1QUPrj1"
      },
      "source": [
        "model.save('model_basic.h5')"
      ],
      "execution_count": null,
      "outputs": []
    },
    {
      "cell_type": "markdown",
      "metadata": {
        "id": "Cjs4AVigV5-b"
      },
      "source": [
        "Visulize the trend of the measures."
      ]
    },
    {
      "cell_type": "code",
      "metadata": {
        "id": "v-W2B9Yme3cR"
      },
      "source": [
        "import pandas as pd\n",
        "import matplotlib.pyplot as plt\n",
        "pd.DataFrame(history.history).plot(figsize=(8, 5))\n",
        "plt.grid(True)\n",
        "plt.gca().set_ylim(0,2)\n",
        "plt.show()"
      ],
      "execution_count": null,
      "outputs": []
    },
    {
      "cell_type": "code",
      "metadata": {
        "id": "Gf-xVcnXQjeW"
      },
      "source": [
        "###########################The model template.\n",
        "model_elu = keras.models.Sequential()\n",
        "model_elu.add(keras.layers.Flatten(input_shape = [28,28]))\n",
        "model_elu.add(keras.layers.BatchNormalization())\n",
        "model_elu.add(keras.layers.Dense(300, activation='elu', kernel_initializer = 'he_normal'))\n",
        "model_elu.add(keras.layers.BatchNormalization())\n",
        "model_elu.add(keras.layers.Dense(100, activation='elu', kernel_initializer = 'he_uniform'))\n",
        "model_elu.add(keras.layers.BatchNormalization())\n",
        "model_elu.add(keras.layers.Dense(10, activation='softmax'))\n",
        "model_elu.compile()"
      ],
      "execution_count": null,
      "outputs": []
    },
    {
      "cell_type": "markdown",
      "metadata": {
        "id": "IMikQaSUPtjc"
      },
      "source": [
        "Next, we try to modify the activation function and apply new kernel initializer to improve the performance of our model."
      ]
    },
    {
      "cell_type": "code",
      "metadata": {
        "id": "yXOwTkFXfNX6"
      },
      "source": [
        "model_elu = keras.models.Sequential()\n",
        "model_elu.add(keras.layers.Flatten(input_shape = [28,28]))\n",
        "model_elu.add(keras.layers.Dense(300, activation='elu'))\n",
        "model_elu.add(keras.layers.Dense(100, activation='elu'))\n",
        "model_elu.add(keras.layers.Dense(10, activation='softmax'))\n",
        "model_elu.compile(optimizer = RMSprop(learning_rate=0.001), loss = 'categorical_crossentropy', metrics = ['accuracy'])"
      ],
      "execution_count": null,
      "outputs": []
    },
    {
      "cell_type": "code",
      "metadata": {
        "id": "K3EhD2UfWV2F"
      },
      "source": [
        "model_elu.save('model_elu.h5')"
      ],
      "execution_count": null,
      "outputs": []
    },
    {
      "cell_type": "code",
      "metadata": {
        "id": "GKj58qwFQJ9G"
      },
      "source": [
        "history_elu = model_elu.fit(X_train, y_train, epochs = 10, validation_data=(X_valid, y_valid), batch_size = 100)\n",
        "score_elu = model_elu.evaluate(X_test, y_test, verbose=0)\n",
        "print('Test loss:', score_elu[0])\n",
        "print('Test accuracy:', score_elu[1])"
      ],
      "execution_count": null,
      "outputs": []
    },
    {
      "cell_type": "code",
      "metadata": {
        "colab": {
          "base_uri": "https://localhost:8080/",
          "height": 324
        },
        "id": "xGlQGDhzXnK4",
        "outputId": "0f9825dd-f671-40ca-b8fb-ff480e9fee3f"
      },
      "source": [
        "import pandas as pd\n",
        "import matplotlib.pyplot as plt\n",
        "pd.DataFrame(history_elu.history).plot(figsize=(8, 5))\n",
        "plt.grid(True)\n",
        "plt.gca().set_ylim(0,2)\n",
        "plt.show()"
      ],
      "execution_count": null,
      "outputs": [
        {
          "output_type": "display_data",
          "data": {
            "image/png": "[encoded data removed]",
            "text/plain": [
              "<Figure size 576x360 with 1 Axes>"
            ]
          },
          "metadata": {
            "needs_background": "light"
          }
        }
      ]
    },
    {
      "cell_type": "markdown",
      "metadata": {
        "id": "2jIHrz72WiDN"
      },
      "source": [
        "The performace is higher than the original model. \\\\\n",
        "Then we apply leak-relu activation function to refit the model.\n"
      ]
    },
    {
      "cell_type": "code",
      "metadata": {
        "colab": {
          "base_uri": "https://localhost:8080/"
        },
        "id": "pU_JGhqkW6Km",
        "outputId": "c8af04a4-643e-49a7-fb17-d1ec4faa9025"
      },
      "source": [
        "leaky_relu = keras.layers.LeakyReLU(alpha=0.2)\n",
        "model_leaky_relu = keras.models.Sequential()\n",
        "model_leaky_relu.add(keras.layers.Flatten(input_shape = [28,28]))\n",
        "model_leaky_relu.add(keras.layers.Dense(300, activation=leaky_relu))\n",
        "model_leaky_relu.add(keras.layers.Dense(100, activation=leaky_relu))\n",
        "model_leaky_relu.add(keras.layers.Dense(10, activation='softmax'))\n",
        "model_leaky_relu.compile(optimizer = RMSprop(learning_rate=0.001), loss = 'categorical_crossentropy', metrics = ['accuracy'])\n",
        "model_leaky_relu.save('model_leaky_relu.h5')\n",
        "history_leaky_relu = model_leaky_relu.fit(X_train, y_train, epochs = 10, validation_data=(X_valid, y_valid), batch_size=100)\n",
        "score_leaky_relu = model_leaky_relu.evaluate(X_test, y_test, verbose=0)\n",
        "print('Test loss:', score_leaky_relu[0])\n",
        "print('Test accuracy:', score_leaky_relu[1])"
      ],
      "execution_count": null,
      "outputs": [
        {
          "output_type": "stream",
          "name": "stdout",
          "text": [
            "Epoch 1/10\n",
            "550/550 [==============================] - 5s 8ms/step - loss: 11.6635 - accuracy: 0.6956 - val_loss: 3.5932 - val_accuracy: 0.7558\n",
            "Epoch 2/10\n",
            "550/550 [==============================] - 4s 8ms/step - loss: 4.5989 - accuracy: 0.7463 - val_loss: 29.1416 - val_accuracy: 0.4088\n",
            "Epoch 3/10\n",
            "550/550 [==============================] - 4s 8ms/step - loss: 3.8297 - accuracy: 0.7707 - val_loss: 1.9998 - val_accuracy: 0.8106\n",
            "Epoch 4/10\n",
            "550/550 [==============================] - 4s 8ms/step - loss: 3.1726 - accuracy: 0.7807 - val_loss: 2.2206 - val_accuracy: 0.8162\n",
            "Epoch 5/10\n",
            "550/550 [==============================] - 4s 8ms/step - loss: 2.6077 - accuracy: 0.7910 - val_loss: 1.5143 - val_accuracy: 0.8074\n",
            "Epoch 6/10\n",
            "550/550 [==============================] - 4s 8ms/step - loss: 1.9003 - accuracy: 0.7995 - val_loss: 1.7380 - val_accuracy: 0.7980\n",
            "Epoch 7/10\n",
            "550/550 [==============================] - 4s 8ms/step - loss: 1.7679 - accuracy: 0.8056 - val_loss: 1.6263 - val_accuracy: 0.7976\n",
            "Epoch 8/10\n",
            "550/550 [==============================] - 4s 8ms/step - loss: 1.3863 - accuracy: 0.8113 - val_loss: 1.4999 - val_accuracy: 0.7906\n",
            "Epoch 9/10\n",
            "550/550 [==============================] - 4s 8ms/step - loss: 1.3198 - accuracy: 0.8183 - val_loss: 1.0890 - val_accuracy: 0.8206\n",
            "Epoch 10/10\n",
            "550/550 [==============================] - 4s 8ms/step - loss: 1.0915 - accuracy: 0.8259 - val_loss: 0.8455 - val_accuracy: 0.8514\n",
            "Test loss: 0.9028034210205078\n",
            "Test accuracy: 0.8418999910354614\n"
          ]
        }
      ]
    },
    {
      "cell_type": "markdown",
      "metadata": {
        "id": "SzGo0XSAaFPj"
      },
      "source": [
        "The Loss is bigger than the elu model.\n",
        "\n",
        "However, the accuracy on the test set is higher than the elu. Additionally, the model performs equally on the test set and the train set."
      ]
    },
    {
      "cell_type": "code",
      "metadata": {
        "colab": {
          "base_uri": "https://localhost:8080/",
          "height": 324
        },
        "id": "eGtxei3XXsQX",
        "outputId": "d95a0172-8fbd-4910-e68d-498a32c9a6ff"
      },
      "source": [
        "import pandas as pd\n",
        "import matplotlib.pyplot as plt\n",
        "pd.DataFrame(history_leaky_relu.history).plot(figsize=(8, 5))\n",
        "plt.grid(True)\n",
        "plt.gca().set_ylim(0,4)\n",
        "plt.show()"
      ],
      "execution_count": null,
      "outputs": [
        {
          "output_type": "display_data",
          "data": {
            "image/png": "[encoded data removed]",
            "text/plain": [
              "<Figure size 576x360 with 1 Axes>"
            ]
          },
          "metadata": {
            "needs_background": "light"
          }
        }
      ]
    },
    {
      "cell_type": "markdown",
      "metadata": {
        "id": "JsudP9tLInT-"
      },
      "source": [
        "We keep the leaky-relu activation function. Then add the batch normalization on the model."
      ]
    },
    {
      "cell_type": "code",
      "metadata": {
        "colab": {
          "base_uri": "https://localhost:8080/"
        },
        "id": "Zwp4rf-yImYn",
        "outputId": "39bf863c-7ba3-49d8-ad20-81ead6543b1e"
      },
      "source": [
        "model_leaky_relu_BN = keras.models.Sequential()\n",
        "model_leaky_relu_BN.add(keras.layers.Flatten(input_shape = [28,28]))\n",
        "model_leaky_relu_BN.add(keras.layers.BatchNormalization())\n",
        "model_leaky_relu_BN.add(keras.layers.Dense(300, activation=leaky_relu))\n",
        "model_leaky_relu_BN.add(keras.layers.BatchNormalization())\n",
        "model_leaky_relu_BN.add(keras.layers.Dense(100, activation=leaky_relu))\n",
        "model_leaky_relu_BN.add(keras.layers.BatchNormalization())\n",
        "model_leaky_relu_BN.add(keras.layers.Dense(10, activation='softmax'))\n",
        "model_leaky_relu_BN.compile(optimizer = RMSprop(learning_rate=0.001), loss = 'categorical_crossentropy', metrics = ['accuracy'])\n",
        "model_leaky_relu_BN.save('model_leaky_relu_BN.h5')\n",
        "history_leaky_relu_BN = model_leaky_relu_BN.fit(X_train, y_train, epochs = 10, validation_data=(X_valid, y_valid), batch_size=100)\n",
        "score_leaky_relu_BN = model_leaky_relu_BN.evaluate(X_test, y_test, verbose=0)\n",
        "print('Test loss:', score_leaky_relu_BN[0])\n",
        "print('Test accuracy:', score_leaky_relu_BN[1])"
      ],
      "execution_count": null,
      "outputs": [
        {
          "output_type": "stream",
          "name": "stdout",
          "text": [
            "Epoch 1/10\n",
            "550/550 [==============================] - 7s 12ms/step - loss: 0.4559 - accuracy: 0.8355 - val_loss: 0.3710 - val_accuracy: 0.8638\n",
            "Epoch 2/10\n",
            "550/550 [==============================] - 6s 11ms/step - loss: 0.3499 - accuracy: 0.8718 - val_loss: 0.3566 - val_accuracy: 0.8780\n",
            "Epoch 3/10\n",
            "550/550 [==============================] - 6s 11ms/step - loss: 0.3151 - accuracy: 0.8838 - val_loss: 0.3669 - val_accuracy: 0.8764\n",
            "Epoch 4/10\n",
            "550/550 [==============================] - 6s 11ms/step - loss: 0.2930 - accuracy: 0.8915 - val_loss: 0.3711 - val_accuracy: 0.8864\n",
            "Epoch 5/10\n",
            "550/550 [==============================] - 6s 11ms/step - loss: 0.2706 - accuracy: 0.9005 - val_loss: 0.3496 - val_accuracy: 0.8840\n",
            "Epoch 6/10\n",
            "550/550 [==============================] - 6s 11ms/step - loss: 0.2565 - accuracy: 0.9055 - val_loss: 0.3498 - val_accuracy: 0.8944\n",
            "Epoch 7/10\n",
            "550/550 [==============================] - 6s 12ms/step - loss: 0.2438 - accuracy: 0.9089 - val_loss: 0.3528 - val_accuracy: 0.8842\n",
            "Epoch 8/10\n",
            "550/550 [==============================] - 6s 11ms/step - loss: 0.2291 - accuracy: 0.9153 - val_loss: 0.3764 - val_accuracy: 0.8864\n",
            "Epoch 9/10\n",
            "550/550 [==============================] - 6s 11ms/step - loss: 0.2214 - accuracy: 0.9170 - val_loss: 0.3291 - val_accuracy: 0.8944\n",
            "Epoch 10/10\n",
            "550/550 [==============================] - 6s 11ms/step - loss: 0.2102 - accuracy: 0.9222 - val_loss: 0.4511 - val_accuracy: 0.8796\n",
            "Test loss: 0.39639925956726074\n",
            "Test accuracy: 0.8772000074386597\n"
          ]
        }
      ]
    },
    {
      "cell_type": "markdown",
      "metadata": {
        "id": "mhGCNukFKY4l"
      },
      "source": [
        "The accuracy is improved for approximately 2%. Since the former accuracy is 95%. The increasing rate is approximately 40%."
      ]
    },
    {
      "cell_type": "code",
      "metadata": {
        "colab": {
          "base_uri": "https://localhost:8080/",
          "height": 324
        },
        "id": "vWxki4_9J_N-",
        "outputId": "6b68f0ad-be23-4180-db7b-702322db7af8"
      },
      "source": [
        "import pandas as pd\n",
        "import matplotlib.pyplot as plt\n",
        "pd.DataFrame(history_leaky_relu_BN.history).plot(figsize=(8, 5))\n",
        "plt.grid(True)\n",
        "plt.gca().set_ylim(0,4)\n",
        "plt.show()"
      ],
      "execution_count": null,
      "outputs": [
        {
          "output_type": "display_data",
          "data": {
            "image/png": "[encoded data removed]",
            "text/plain": [
              "<Figure size 576x360 with 1 Axes>"
            ]
          },
          "metadata": {
            "needs_background": "light"
          }
        }
      ]
    },
    {
      "cell_type": "markdown",
      "metadata": {
        "id": "RYk2RfNLLS9d"
      },
      "source": [
        "Next, base on the leaky-relu model with batch normalization, we apply the 'he_normal' and 'he_uniform' initializer to the model.\n"
      ]
    },
    {
      "cell_type": "code",
      "metadata": {
        "colab": {
          "base_uri": "https://localhost:8080/"
        },
        "id": "ADzY-jwALjvk",
        "outputId": "24bfc355-9497-4b5e-e7c8-58341df5d3c5"
      },
      "source": [
        "model_leaky_relu_BN_init = keras.models.Sequential()\n",
        "model_leaky_relu_BN_init.add(keras.layers.Flatten(input_shape = [28,28]))\n",
        "model_leaky_relu_BN_init.add(keras.layers.BatchNormalization())\n",
        "model_leaky_relu_BN_init.add(keras.layers.Dense(300, activation=leaky_relu, kernel_initializer = 'he_normal'))\n",
        "model_leaky_relu_BN_init.add(keras.layers.BatchNormalization())\n",
        "model_leaky_relu_BN_init.add(keras.layers.Dense(100, activation=leaky_relu, kernel_initializer = 'he_uniform'))\n",
        "model_leaky_relu_BN_init.add(keras.layers.BatchNormalization())\n",
        "model_leaky_relu_BN_init.add(keras.layers.Dense(10, activation='softmax'))\n",
        "model_leaky_relu_BN_init.compile(optimizer = RMSprop(learning_rate=0.001), loss = 'categorical_crossentropy', metrics = ['accuracy'])\n",
        "history_leaky_relu_BN_init = model_leaky_relu_BN_init.fit(X_train, y_train, epochs = 10, validation_data=(X_valid, y_valid),batch_size=100)\n",
        "score_leaky_relu_BN_init = model_leaky_relu_BN_init.evaluate(X_test, y_test, verbose=0)\n",
        "print('Test loss:', score_leaky_relu_BN_init[0])\n",
        "print('Test accuracy:', score_leaky_relu_BN_init[1])"
      ],
      "execution_count": null,
      "outputs": [
        {
          "output_type": "stream",
          "name": "stdout",
          "text": [
            "Epoch 1/10\n",
            "550/550 [==============================] - 7s 12ms/step - loss: 0.4588 - accuracy: 0.8345 - val_loss: 0.3977 - val_accuracy: 0.8576\n",
            "Epoch 2/10\n",
            "550/550 [==============================] - 6s 11ms/step - loss: 0.3509 - accuracy: 0.8721 - val_loss: 0.3548 - val_accuracy: 0.8772\n",
            "Epoch 3/10\n",
            "550/550 [==============================] - 6s 11ms/step - loss: 0.3130 - accuracy: 0.8841 - val_loss: 0.3648 - val_accuracy: 0.8754\n",
            "Epoch 4/10\n",
            "550/550 [==============================] - 6s 11ms/step - loss: 0.2883 - accuracy: 0.8928 - val_loss: 0.3542 - val_accuracy: 0.8808\n",
            "Epoch 5/10\n",
            "550/550 [==============================] - 6s 11ms/step - loss: 0.2683 - accuracy: 0.8999 - val_loss: 0.3190 - val_accuracy: 0.8948\n",
            "Epoch 6/10\n",
            "550/550 [==============================] - 6s 11ms/step - loss: 0.2533 - accuracy: 0.9058 - val_loss: 0.3377 - val_accuracy: 0.8908\n",
            "Epoch 7/10\n",
            "550/550 [==============================] - 6s 11ms/step - loss: 0.2379 - accuracy: 0.9119 - val_loss: 0.4022 - val_accuracy: 0.8876\n",
            "Epoch 8/10\n",
            "550/550 [==============================] - 6s 11ms/step - loss: 0.2266 - accuracy: 0.9164 - val_loss: 0.3697 - val_accuracy: 0.8994\n",
            "Epoch 9/10\n",
            "550/550 [==============================] - 6s 11ms/step - loss: 0.2154 - accuracy: 0.9197 - val_loss: 0.3495 - val_accuracy: 0.8952\n",
            "Epoch 10/10\n",
            "550/550 [==============================] - 6s 11ms/step - loss: 0.2057 - accuracy: 0.9223 - val_loss: 0.3423 - val_accuracy: 0.8972\n",
            "Test loss: 0.33897218108177185\n",
            "Test accuracy: 0.887499988079071\n"
          ]
        }
      ]
    },
    {
      "cell_type": "code",
      "metadata": {
        "id": "_NMCrmFFMYas"
      },
      "source": [
        "import pandas as pd\n",
        "import matplotlib.pyplot as plt\n",
        "txt = 'The accuracy is approximately the same as the model without setting initializer.'\n",
        "pd.DataFrame(history_leaky_relu_BN_init.history).plot(figsize=(8, 5))\n",
        "plt.grid(True)\n",
        "plt.gca().set_ylim(0,1.5)\n",
        "plt.xlabel(xlabel = 'Echo')\n",
        "plt.ylabel(ylabel = 'score')\n",
        "plt.title('The performance of the model_leaky_relu_BN_init model')\n",
        "plt.figtext(0.5, 0.01, txt, wrap=True, horizontalalignment='center', fontsize=12)\n",
        "plt.show()"
      ],
      "execution_count": null,
      "outputs": []
    },
    {
      "cell_type": "markdown",
      "metadata": {
        "id": "zj5WbYNiM4R9"
      },
      "source": [
        "The accuracy is approximately same as the model without initializer.\n",
        "\n",
        "Then we add the dropout regularization on the model."
      ]
    },
    {
      "cell_type": "code",
      "metadata": {
        "colab": {
          "base_uri": "https://localhost:8080/"
        },
        "id": "eF-vQ2CRNH6c",
        "outputId": "46a22d89-42af-4c04-f12f-d3e4ab0f77aa"
      },
      "source": [
        "model_leaky_relu_BN_init_drop = keras.models.Sequential()\n",
        "model_leaky_relu_BN_init_drop.add(keras.layers.Flatten(input_shape = [28,28]))\n",
        "model_leaky_relu_BN_init_drop.add(keras.layers.BatchNormalization())\n",
        "model_leaky_relu_BN_init_drop.add(keras.layers.Dense(300, activation=leaky_relu, kernel_initializer = 'he_normal'))\n",
        "model_leaky_relu_BN_init_drop.add(Dropout(0.2))\n",
        "model_leaky_relu_BN_init_drop.add(keras.layers.BatchNormalization())\n",
        "model_leaky_relu_BN_init_drop.add(keras.layers.Dense(100, activation=leaky_relu, kernel_initializer = 'he_uniform'))\n",
        "model_leaky_relu_BN_init_drop.add(Dropout(0.2))\n",
        "model_leaky_relu_BN_init_drop.add(keras.layers.BatchNormalization())\n",
        "model_leaky_relu_BN_init_drop.add(keras.layers.Dense(10, activation='softmax'))\n",
        "model_leaky_relu_BN_init_drop.compile(optimizer = RMSprop(learning_rate=0.001), loss = 'categorical_crossentropy', metrics = ['accuracy'])\n",
        "history_leaky_relu_BN_init_drop = model_leaky_relu_BN_init_drop.fit(X_train, y_train, epochs = 10, validation_data=(X_valid, y_valid),batch_size=100)\n",
        "score_leaky_relu_BN_init_drop = model_leaky_relu_BN_init_drop.evaluate(X_test, y_test, verbose=0)\n",
        "print('Test loss:', score_leaky_relu_BN_init_drop[0])\n",
        "print('Test accuracy:', score_leaky_relu_BN_init_drop[1])"
      ],
      "execution_count": null,
      "outputs": [
        {
          "output_type": "stream",
          "name": "stdout",
          "text": [
            "Epoch 1/10\n",
            "550/550 [==============================] - 8s 12ms/step - loss: 0.5141 - accuracy: 0.8177 - val_loss: 0.3768 - val_accuracy: 0.8676\n",
            "Epoch 2/10\n",
            "550/550 [==============================] - 6s 11ms/step - loss: 0.3990 - accuracy: 0.8552 - val_loss: 0.3541 - val_accuracy: 0.8788\n",
            "Epoch 3/10\n",
            "550/550 [==============================] - 6s 12ms/step - loss: 0.3640 - accuracy: 0.8691 - val_loss: 0.3597 - val_accuracy: 0.8782\n",
            "Epoch 4/10\n",
            "550/550 [==============================] - 6s 11ms/step - loss: 0.3427 - accuracy: 0.8762 - val_loss: 0.3554 - val_accuracy: 0.8790\n",
            "Epoch 5/10\n",
            "550/550 [==============================] - 6s 12ms/step - loss: 0.3266 - accuracy: 0.8813 - val_loss: 0.3863 - val_accuracy: 0.8770\n",
            "Epoch 6/10\n",
            "550/550 [==============================] - 6s 11ms/step - loss: 0.3179 - accuracy: 0.8840 - val_loss: 0.3376 - val_accuracy: 0.8894\n",
            "Epoch 7/10\n",
            "550/550 [==============================] - 7s 12ms/step - loss: 0.3045 - accuracy: 0.8880 - val_loss: 0.3549 - val_accuracy: 0.8908\n",
            "Epoch 8/10\n",
            "550/550 [==============================] - 6s 11ms/step - loss: 0.2964 - accuracy: 0.8914 - val_loss: 0.3660 - val_accuracy: 0.8926\n",
            "Epoch 9/10\n",
            "550/550 [==============================] - 6s 12ms/step - loss: 0.2894 - accuracy: 0.8943 - val_loss: 0.3648 - val_accuracy: 0.8930\n",
            "Epoch 10/10\n",
            "550/550 [==============================] - 6s 12ms/step - loss: 0.2839 - accuracy: 0.8964 - val_loss: 0.4016 - val_accuracy: 0.8900\n",
            "Test loss: 0.3693116307258606\n",
            "Test accuracy: 0.8769000172615051\n"
          ]
        }
      ]
    },
    {
      "cell_type": "code",
      "metadata": {
        "colab": {
          "base_uri": "https://localhost:8080/",
          "height": 363
        },
        "id": "WSvOuzSONiPt",
        "outputId": "c9a3d5ee-df7e-4df5-f18a-3fdb4ab4c2bf"
      },
      "source": [
        "import pandas as pd\n",
        "import matplotlib.pyplot as plt\n",
        "txt = 'The accuracy improves little from the model without setting regularization.'\n",
        "pd.DataFrame(history_leaky_relu_BN_init_drop.history).plot(figsize=(8, 5))\n",
        "plt.grid(True)\n",
        "plt.gca().set_ylim(0,1.5)\n",
        "plt.xlabel(xlabel = 'Echo')\n",
        "plt.ylabel(ylabel = 'score')\n",
        "plt.title('The performance of the model_leaky_relu_BN_init_drop model')\n",
        "plt.figtext(0.5, 0.01, txt, wrap=True, horizontalalignment='center', fontsize=12)\n",
        "plt.show()"
      ],
      "execution_count": null,
      "outputs": [
        {
          "output_type": "display_data",
          "data": {
            "image/png": "[encoded data removed]",
            "text/plain": [
              "<Figure size 576x360 with 1 Axes>"
            ]
          },
          "metadata": {
            "needs_background": "light"
          }
        }
      ]
    },
    {
      "cell_type": "markdown",
      "metadata": {
        "id": "xEAZ_RkEcGmD"
      },
      "source": [
        "Additionally, we also apply l1 and l2 regularization to the model."
      ]
    },
    {
      "cell_type": "markdown",
      "metadata": {
        "id": "aWl4dCwFcQmh"
      },
      "source": [
        "The model with l1 regularization with parameter $\\lambda = 0.01$"
      ]
    },
    {
      "cell_type": "code",
      "metadata": {
        "colab": {
          "base_uri": "https://localhost:8080/"
        },
        "id": "DEGHRfyXcGKd",
        "outputId": "deebd337-0ed2-4e4e-adc7-408f703c0ad3"
      },
      "source": [
        "model_leaky_relu_BN_init_l1 = keras.models.Sequential()\n",
        "model_leaky_relu_BN_init_l1.add(keras.layers.Flatten(input_shape = [28,28]))\n",
        "model_leaky_relu_BN_init_l1.add(keras.layers.BatchNormalization())\n",
        "model_leaky_relu_BN_init_l1.add(keras.layers.Dense(300, activation=leaky_relu, kernel_initializer = 'he_normal', kernel_regularizer = keras.regularizers.l1(0.01)))\n",
        "model_leaky_relu_BN_init_l1.add(keras.layers.BatchNormalization())\n",
        "model_leaky_relu_BN_init_l1.add(keras.layers.Dense(100, activation=leaky_relu, kernel_initializer = 'he_uniform', kernel_regularizer = keras.regularizers.l1(0.01)))\n",
        "model_leaky_relu_BN_init_l1.add(keras.layers.BatchNormalization())\n",
        "model_leaky_relu_BN_init_l1.add(keras.layers.Dense(10, activation='softmax'))\n",
        "model_leaky_relu_BN_init_l1.compile(optimizer = RMSprop(learning_rate=0.001), loss = 'categorical_crossentropy', metrics = ['accuracy'])\n",
        "history_leaky_relu_BN_init_l1 = model_leaky_relu_BN_init_l1.fit(X_train, y_train, epochs = 10, validation_data=(X_valid, y_valid),batch_size=100)\n",
        "score_leaky_relu_BN_init_l1 = model_leaky_relu_BN_init_l1.evaluate(X_test, y_test, verbose=0)\n",
        "print('Test loss:', score_leaky_relu_BN_init_l1[0])\n",
        "print('Test accuracy:', score_leaky_relu_BN_init_l1[1])"
      ],
      "execution_count": null,
      "outputs": [
        {
          "output_type": "stream",
          "name": "stdout",
          "text": [
            "Epoch 1/10\n",
            "550/550 [==============================] - 8s 12ms/step - loss: 11.0099 - accuracy: 0.7163 - val_loss: 2.5290 - val_accuracy: 0.7558\n",
            "Epoch 2/10\n",
            "550/550 [==============================] - 7s 12ms/step - loss: 2.4717 - accuracy: 0.7778 - val_loss: 2.1213 - val_accuracy: 0.8210\n",
            "Epoch 3/10\n",
            "550/550 [==============================] - 7s 12ms/step - loss: 2.2931 - accuracy: 0.7926 - val_loss: 2.4172 - val_accuracy: 0.7630\n",
            "Epoch 4/10\n",
            "550/550 [==============================] - 6s 12ms/step - loss: 2.1666 - accuracy: 0.8045 - val_loss: 2.0356 - val_accuracy: 0.8208\n",
            "Epoch 5/10\n",
            "550/550 [==============================] - 7s 12ms/step - loss: 2.0938 - accuracy: 0.8125 - val_loss: 2.0813 - val_accuracy: 0.7860\n",
            "Epoch 6/10\n",
            "550/550 [==============================] - 7s 12ms/step - loss: 2.0441 - accuracy: 0.8150 - val_loss: 2.0613 - val_accuracy: 0.8050\n",
            "Epoch 7/10\n",
            "550/550 [==============================] - 7s 12ms/step - loss: 2.0318 - accuracy: 0.8169 - val_loss: 1.8847 - val_accuracy: 0.8262\n",
            "Epoch 8/10\n",
            "550/550 [==============================] - 7s 12ms/step - loss: 1.9958 - accuracy: 0.8203 - val_loss: 1.9707 - val_accuracy: 0.8226\n",
            "Epoch 9/10\n",
            "550/550 [==============================] - 7s 12ms/step - loss: 1.9915 - accuracy: 0.8207 - val_loss: 1.9928 - val_accuracy: 0.8128\n",
            "Epoch 10/10\n",
            "550/550 [==============================] - 7s 12ms/step - loss: 1.9916 - accuracy: 0.8210 - val_loss: 2.0049 - val_accuracy: 0.8140\n",
            "Test loss: 2.0375614166259766\n",
            "Test accuracy: 0.798799991607666\n"
          ]
        }
      ]
    },
    {
      "cell_type": "code",
      "metadata": {
        "colab": {
          "base_uri": "https://localhost:8080/",
          "height": 363
        },
        "id": "D_WsZbNpcs0R",
        "outputId": "43eaf37c-cc8f-47d2-f4c0-7a4a4e5b5432"
      },
      "source": [
        "import pandas as pd\n",
        "import matplotlib.pyplot as plt\n",
        "txt = 'The accuracy improves little from the model without setting regularization.'\n",
        "pd.DataFrame(history_leaky_relu_BN_init_l1.history).plot(figsize=(8, 5))\n",
        "plt.grid(True)\n",
        "plt.gca().set_ylim(0,5)\n",
        "plt.xlabel(xlabel = 'Echo')\n",
        "plt.ylabel(ylabel = 'score')\n",
        "plt.title('The performance of the model_leaky_relu_BN_init_drop model')\n",
        "plt.figtext(0.5, 0.01, txt, wrap=True, horizontalalignment='center', fontsize=12)\n",
        "plt.show()"
      ],
      "execution_count": null,
      "outputs": [
        {
          "output_type": "display_data",
          "data": {
            "image/png": "[encoded data removed]",
            "text/plain": [
              "<Figure size 576x360 with 1 Axes>"
            ]
          },
          "metadata": {
            "needs_background": "light"
          }
        }
      ]
    },
    {
      "cell_type": "markdown",
      "metadata": {
        "id": "lMq5abc3iSG8"
      },
      "source": [
        "The performance is much lower than the model without regularization. "
      ]
    },
    {
      "cell_type": "markdown",
      "metadata": {
        "id": "eTKkqEydcyqU"
      },
      "source": [
        "The model with l2 regularization with parameter $\\lambda = 0.01$"
      ]
    },
    {
      "cell_type": "code",
      "metadata": {
        "colab": {
          "base_uri": "https://localhost:8080/"
        },
        "id": "9EMSDELec3uo",
        "outputId": "42180b04-a3fe-40e4-807a-8aa4d3a2e80a"
      },
      "source": [
        "model_leaky_relu_BN_init_l2 = keras.models.Sequential()\n",
        "model_leaky_relu_BN_init_l2.add(keras.layers.Flatten(input_shape = [28,28]))\n",
        "model_leaky_relu_BN_init_l2.add(keras.layers.BatchNormalization())\n",
        "model_leaky_relu_BN_init_l2.add(keras.layers.Dense(300, activation=leaky_relu, kernel_initializer = 'he_normal', kernel_regularizer = keras.regularizers.l2(0.01)))\n",
        "model_leaky_relu_BN_init_l2.add(keras.layers.BatchNormalization())\n",
        "model_leaky_relu_BN_init_l2.add(keras.layers.Dense(100, activation=leaky_relu, kernel_initializer = 'he_uniform', kernel_regularizer = keras.regularizers.l2(0.01)))\n",
        "model_leaky_relu_BN_init_l2.add(keras.layers.BatchNormalization())\n",
        "model_leaky_relu_BN_init_l2.add(keras.layers.Dense(10, activation='softmax'))\n",
        "model_leaky_relu_BN_init_l2.compile(optimizer = RMSprop(learning_rate=0.001), loss = 'categorical_crossentropy', metrics = ['accuracy'])\n",
        "history_leaky_relu_BN_init_l2 = model_leaky_relu_BN_init_l2.fit(X_train, y_train, epochs = 10, validation_data=(X_valid, y_valid),batch_size=100)\n",
        "score_leaky_relu_BN_init_l2 = model_leaky_relu_BN_init_l2.evaluate(X_test, y_test, verbose=0)\n",
        "print('Test loss:', score_leaky_relu_BN_init_l2[0])\n",
        "print('Test accuracy:', score_leaky_relu_BN_init_l2[1])"
      ],
      "execution_count": null,
      "outputs": [
        {
          "output_type": "stream",
          "name": "stdout",
          "text": [
            "Epoch 1/10\n",
            "550/550 [==============================] - 8s 12ms/step - loss: 1.9116 - accuracy: 0.8112 - val_loss: 0.6433 - val_accuracy: 0.8348\n",
            "Epoch 2/10\n",
            "550/550 [==============================] - 6s 12ms/step - loss: 0.6196 - accuracy: 0.8285 - val_loss: 0.5216 - val_accuracy: 0.8612\n",
            "Epoch 3/10\n",
            "550/550 [==============================] - 6s 12ms/step - loss: 0.5766 - accuracy: 0.8369 - val_loss: 0.5192 - val_accuracy: 0.8580\n",
            "Epoch 4/10\n",
            "550/550 [==============================] - 7s 12ms/step - loss: 0.5491 - accuracy: 0.8418 - val_loss: 0.5353 - val_accuracy: 0.8474\n",
            "Epoch 5/10\n",
            "550/550 [==============================] - 7s 12ms/step - loss: 0.5180 - accuracy: 0.8507 - val_loss: 0.5367 - val_accuracy: 0.8454\n",
            "Epoch 6/10\n",
            "550/550 [==============================] - 7s 12ms/step - loss: 0.4934 - accuracy: 0.8563 - val_loss: 0.4631 - val_accuracy: 0.8662\n",
            "Epoch 7/10\n",
            "550/550 [==============================] - 7s 13ms/step - loss: 0.4812 - accuracy: 0.8577 - val_loss: 0.4463 - val_accuracy: 0.8664\n",
            "Epoch 8/10\n",
            "550/550 [==============================] - 7s 12ms/step - loss: 0.4682 - accuracy: 0.8600 - val_loss: 0.4934 - val_accuracy: 0.8482\n",
            "Epoch 9/10\n",
            "550/550 [==============================] - 7s 12ms/step - loss: 0.4582 - accuracy: 0.8621 - val_loss: 0.4467 - val_accuracy: 0.8672\n",
            "Epoch 10/10\n",
            "550/550 [==============================] - 7s 12ms/step - loss: 0.4539 - accuracy: 0.8616 - val_loss: 0.4698 - val_accuracy: 0.8532\n",
            "Test loss: 0.503004252910614\n",
            "Test accuracy: 0.8411999940872192\n"
          ]
        }
      ]
    },
    {
      "cell_type": "code",
      "metadata": {
        "colab": {
          "base_uri": "https://localhost:8080/",
          "height": 363
        },
        "id": "Ump0mgLQdI2i",
        "outputId": "d721401a-f3ce-4e9c-88ab-b9ba93832f13"
      },
      "source": [
        "import pandas as pd\n",
        "import matplotlib.pyplot as plt\n",
        "txt = 'The accuracy improves little from the model without setting regularization.'\n",
        "pd.DataFrame(history_leaky_relu_BN_init_l2.history).plot(figsize=(8, 5))\n",
        "plt.grid(True)\n",
        "plt.gca().set_ylim(0,1.5)\n",
        "plt.xlabel(xlabel = 'Echo')\n",
        "plt.ylabel(ylabel = 'score')\n",
        "plt.title('The performance of the model_leaky_relu_BN_init_drop model')\n",
        "plt.figtext(0.5, 0.01, txt, wrap=True, horizontalalignment='center', fontsize=12)\n",
        "plt.show()"
      ],
      "execution_count": null,
      "outputs": [
        {
          "output_type": "display_data",
          "data": {
            "image/png": "[encoded data removed]",
            "text/plain": [
              "<Figure size 576x360 with 1 Axes>"
            ]
          },
          "metadata": {
            "needs_background": "light"
          }
        }
      ]
    },
    {
      "cell_type": "markdown",
      "metadata": {
        "id": "__OWylgyipKu"
      },
      "source": [
        "The l2 regularization performs better than the l1 regularization. Althought the performance is reasonable, the accuracy is still lower than the model without regularization. \n",
        "\n",
        "Since the accuracy of the l1 regularization model and the original model are significantly various, we need to tune the parameter of l1 regularization model to improve the performance. Hence we modify the parameter to 0.001 instead."
      ]
    },
    {
      "cell_type": "code",
      "metadata": {
        "id": "8eBkP7oHlxSp"
      },
      "source": [
        "model_leaky_relu_BN_init_l1_modify = keras.models.Sequential()\n",
        "model_leaky_relu_BN_init_l1_modify.add(keras.layers.Flatten(input_shape = [28,28]))\n",
        "model_leaky_relu_BN_init_l1_modify.add(keras.layers.BatchNormalization())\n",
        "model_leaky_relu_BN_init_l1_modify.add(keras.layers.Dense(300, activation=leaky_relu, kernel_initializer = 'he_normal', kernel_regularizer = keras.regularizers.l1(0.001)))\n",
        "model_leaky_relu_BN_init_l1_modify.add(keras.layers.BatchNormalization())\n",
        "model_leaky_relu_BN_init_l1_modify.add(keras.layers.Dense(100, activation=leaky_relu, kernel_initializer = 'he_uniform', kernel_regularizer = keras.regularizers.l1(0.001)))\n",
        "model_leaky_relu_BN_init_l1_modify.add(keras.layers.BatchNormalization())\n",
        "model_leaky_relu_BN_init_l1_modify.add(keras.layers.Dense(10, activation='softmax'))\n",
        "model_leaky_relu_BN_init_l1_modify.compile(optimizer = RMSprop(learning_rate=0.001), loss = 'categorical_crossentropy', metrics = ['accuracy'])\n",
        "history_leaky_relu_BN_init_l1_modify = model_leaky_relu_BN_init_l1_modify.fit(X_train, y_train, epochs = 10, validation_data=(X_valid, y_valid),batch_size=100)\n",
        "score_leaky_relu_BN_init_l1_modify = model_leaky_relu_BN_init_l1_modify.evaluate(X_test, y_test, verbose=0)\n",
        "print('Test loss:', score_leaky_relu_BN_init_l1_modify[0])\n",
        "print('Test accuracy:', score_leaky_relu_BN_init_l1_modify[1])"
      ],
      "execution_count": null,
      "outputs": []
    },
    {
      "cell_type": "code",
      "metadata": {
        "colab": {
          "base_uri": "https://localhost:8080/",
          "height": 363
        },
        "id": "C-lITwWLmCTQ",
        "outputId": "3e1208ea-4582-4c93-f38a-0dbc8d72e07e"
      },
      "source": [
        "import pandas as pd\n",
        "import matplotlib.pyplot as plt\n",
        "txt = 'The accuracy improves little from the model without setting regularization.'\n",
        "pd.DataFrame(history_leaky_relu_BN_init_l1_modify.history).plot(figsize=(8, 5))\n",
        "plt.grid(True)\n",
        "plt.gca().set_ylim(0,2.5)\n",
        "plt.xlabel(xlabel = 'Echo')\n",
        "plt.ylabel(ylabel = 'score')\n",
        "plt.title('The performance of the model_leaky_relu_BN_init_drop model')\n",
        "plt.figtext(0.5, 0.01, txt, wrap=True, horizontalalignment='center', fontsize=12)\n",
        "plt.show()"
      ],
      "execution_count": null,
      "outputs": [
        {
          "output_type": "display_data",
          "data": {
            "image/png": "[encoded data removed]",
            "text/plain": [
              "<Figure size 576x360 with 1 Axes>"
            ]
          },
          "metadata": {
            "needs_background": "light"
          }
        }
      ]
    },
    {
      "cell_type": "markdown",
      "metadata": {
        "id": "QzVgmNVSp6zw"
      },
      "source": [
        "The accuracy reaches 95%, which is a much more reasonable performance."
      ]
    },
    {
      "cell_type": "markdown",
      "metadata": {
        "id": "R1nC0zcfWX0G"
      },
      "source": [
        "The accuracy keeps solid when we add the regularization, initializer, and batch normalization. Therefore, we consider to change the structure of the model to improve the performance. Here we keep 2 hidden layers and modify the number of neurons of both hidden layers to 500.Then refit the model to assess the performance.\n"
      ]
    },
    {
      "cell_type": "code",
      "metadata": {
        "colab": {
          "base_uri": "https://localhost:8080/"
        },
        "id": "l9KLX5kmWXX4",
        "outputId": "107b165c-d3a7-41b4-d152-fffa17d1468d"
      },
      "source": [
        "model_leaky_relu_BN_init_drop_modify = keras.models.Sequential()\n",
        "model_leaky_relu_BN_init_drop_modify.add(keras.layers.Flatten(input_shape = [28,28]))\n",
        "model_leaky_relu_BN_init_drop_modify.add(keras.layers.BatchNormalization())\n",
        "model_leaky_relu_BN_init_drop_modify.add(keras.layers.Dense(500, activation=leaky_relu, kernel_initializer = 'he_normal'))\n",
        "model_leaky_relu_BN_init_drop_modify.add(Dropout(0.2))\n",
        "model_leaky_relu_BN_init_drop_modify.add(keras.layers.BatchNormalization())\n",
        "model_leaky_relu_BN_init_drop_modify.add(keras.layers.Dense(500, activation=leaky_relu, kernel_initializer = 'he_uniform'))\n",
        "model_leaky_relu_BN_init_drop_modify.add(Dropout(0.2))\n",
        "model_leaky_relu_BN_init_drop_modify.add(keras.layers.BatchNormalization())\n",
        "model_leaky_relu_BN_init_drop_modify.add(keras.layers.Dense(10, activation='softmax'))\n",
        "model_leaky_relu_BN_init_drop_modify.compile(optimizer = RMSprop(learning_rate=0.001), loss = 'categorical_crossentropy', metrics = ['accuracy'])\n",
        "history_leaky_relu_BN_init_drop_modify = model_leaky_relu_BN_init_drop_modify.fit(X_train, y_train, epochs = 10, validation_data=(X_valid, y_valid),batch_size=100)\n",
        "score_leaky_relu_BN_init_drop_modify = model_leaky_relu_BN_init_drop_modify.evaluate(X_test, y_test, verbose=0)\n",
        "print('Test loss:', score_leaky_relu_BN_init_drop_modify[0])\n",
        "print('Test accuracy:', score_leaky_relu_BN_init_drop_modify[1])"
      ],
      "execution_count": null,
      "outputs": [
        {
          "output_type": "stream",
          "name": "stdout",
          "text": [
            "Epoch 1/10\n",
            "550/550 [==============================] - 13s 21ms/step - loss: 0.5284 - accuracy: 0.8134 - val_loss: 0.3974 - val_accuracy: 0.8612\n",
            "Epoch 2/10\n",
            "550/550 [==============================] - 12s 21ms/step - loss: 0.3918 - accuracy: 0.8569 - val_loss: 0.3659 - val_accuracy: 0.8764\n",
            "Epoch 3/10\n",
            "550/550 [==============================] - 12s 21ms/step - loss: 0.3524 - accuracy: 0.8735 - val_loss: 0.3810 - val_accuracy: 0.8678\n",
            "Epoch 4/10\n",
            "550/550 [==============================] - 12s 21ms/step - loss: 0.3316 - accuracy: 0.8788 - val_loss: 0.3477 - val_accuracy: 0.8832\n",
            "Epoch 5/10\n",
            "550/550 [==============================] - 11s 21ms/step - loss: 0.3136 - accuracy: 0.8849 - val_loss: 0.3674 - val_accuracy: 0.8892\n",
            "Epoch 6/10\n",
            "550/550 [==============================] - 12s 22ms/step - loss: 0.2977 - accuracy: 0.8916 - val_loss: 0.3416 - val_accuracy: 0.8880\n",
            "Epoch 7/10\n",
            "550/550 [==============================] - 13s 24ms/step - loss: 0.2887 - accuracy: 0.8941 - val_loss: 0.3298 - val_accuracy: 0.8914\n",
            "Epoch 8/10\n",
            "550/550 [==============================] - 13s 24ms/step - loss: 0.2779 - accuracy: 0.8978 - val_loss: 0.3415 - val_accuracy: 0.8926\n",
            "Epoch 9/10\n",
            "550/550 [==============================] - 13s 24ms/step - loss: 0.2657 - accuracy: 0.9021 - val_loss: 0.3463 - val_accuracy: 0.8932\n",
            "Epoch 10/10\n",
            "550/550 [==============================] - 13s 24ms/step - loss: 0.2591 - accuracy: 0.9053 - val_loss: 0.3435 - val_accuracy: 0.8914\n",
            "Test loss: 0.35172078013420105\n",
            "Test accuracy: 0.880299985408783\n"
          ]
        }
      ]
    },
    {
      "cell_type": "code",
      "metadata": {
        "colab": {
          "base_uri": "https://localhost:8080/",
          "height": 363
        },
        "id": "-Lddg6IFXH4s",
        "outputId": "3d6fd09f-dee1-4261-9f63-1fd3f47fdab0"
      },
      "source": [
        "import pandas as pd\n",
        "import matplotlib.pyplot as plt\n",
        "txt = 'The accuracy improves little from the model without setting regularization.'\n",
        "pd.DataFrame(history_leaky_relu_BN_init_drop_modify.history).plot(figsize=(8, 5))\n",
        "plt.grid(True)\n",
        "plt.gca().set_ylim(0,1.5)\n",
        "plt.xlabel(xlabel = 'Echo')\n",
        "plt.ylabel(ylabel = 'score')\n",
        "plt.title('The performance of the model_leaky_relu_BN_init_drop_modify model')\n",
        "plt.figtext(0.5, 0.01, txt, wrap=True, horizontalalignment='center', fontsize=12)\n",
        "plt.show()"
      ],
      "execution_count": null,
      "outputs": [
        {
          "output_type": "display_data",
          "data": {
            "image/png": "[encoded data removed]",
            "text/plain": [
              "<Figure size 576x360 with 1 Axes>"
            ]
          },
          "metadata": {
            "needs_background": "light"
          }
        }
      ]
    },
    {
      "cell_type": "markdown",
      "metadata": {
        "id": "VVNJr1-OsKPJ"
      },
      "source": [
        "Optimization"
      ]
    },
    {
      "cell_type": "code",
      "metadata": {
        "id": "BP_nJmQXsMUt"
      },
      "source": [
        "def build_model(n_hidden=1, n_neurons=30, learning_rate=3e-3, input_shape = [28,28]):\n",
        "  model = keras.models.Sequential()\n",
        "  model.add(keras.layers.Flatten(input_shape = [28,28]))\n",
        "  options = {'kernel_initializer': 'he_normal',}\n",
        "  for layer in range(n_hidden):\n",
        "    model.add(keras.layers.BatchNormalization())\n",
        "    model.add(keras.layers.Dense(n_neurons, activation=leaky_relu, **options))\n",
        "    model.add(Dropout(0.2))\n",
        "    \n",
        "  model.add(keras.layers.Dense(10, activation = 'softmax'))\n",
        "  model.compile(loss='categorical_crossentropy', optimizer=RMSprop(learning_rate), metrics=['accuracy'])\n",
        "  return model"
      ],
      "execution_count": null,
      "outputs": []
    },
    {
      "cell_type": "code",
      "metadata": {
        "colab": {
          "base_uri": "https://localhost:8080/"
        },
        "id": "5mrQ4LIPsbzN",
        "outputId": "08e00f72-1962-4d4c-b829-6b5cf7075926"
      },
      "source": [
        "keras_classify = keras.wrappers.scikit_learn.KerasClassifier(build_model)"
      ],
      "execution_count": null,
      "outputs": [
        {
          "output_type": "stream",
          "name": "stderr",
          "text": [
            "/usr/local/lib/python3.7/dist-packages/ipykernel_launcher.py:1: DeprecationWarning: KerasClassifier is deprecated, use Sci-Keras (https://github.com/adriangb/scikeras) instead.\n",
            "  \"\"\"Entry point for launching an IPython kernel.\n"
          ]
        }
      ]
    },
    {
      "cell_type": "code",
      "metadata": {
        "id": "A85lkSRgGD1K"
      },
      "source": [
        "param_distribs = {\n",
        "  \"n_hidden\": [0, 1],\n",
        "  \"n_neurons\": np.arange(300, 400, step = 20),\n",
        "  \"learning_rate\": np.arange(5e-4, 2e-3, step = 5e-4),\n",
        "}"
      ],
      "execution_count": null,
      "outputs": []
    },
    {
      "cell_type": "code",
      "metadata": {
        "colab": {
          "base_uri": "https://localhost:8080/"
        },
        "id": "VNBuAJKeIAOf",
        "outputId": "9481d208-380b-4c0e-9cd0-c7c8a46ee05a"
      },
      "source": [
        "rnd_search_cv = RandomizedSearchCV(keras_classify, param_distribs, n_iter=10, cv=3)\n",
        "rnd_search_cv.fit(X_train, y_train, epochs=10,\n",
        "  validation_data=(X_valid, y_valid))"
      ],
      "execution_count": null,
      "outputs": [
        {
          "output_type": "stream",
          "name": "stdout",
          "text": [
            "Epoch 1/10\n",
            "1146/1146 [==============================] - 8s 6ms/step - loss: 0.3526 - accuracy: 0.8945 - val_loss: 0.8520 - val_accuracy: 0.9370\n",
            "Epoch 2/10\n",
            "1146/1146 [==============================] - 7s 6ms/step - loss: 0.2103 - accuracy: 0.9387 - val_loss: 0.3928 - val_accuracy: 0.9502\n",
            "Epoch 3/10\n",
            "1146/1146 [==============================] - 7s 6ms/step - loss: 0.1723 - accuracy: 0.9495 - val_loss: 0.7142 - val_accuracy: 0.9518\n",
            "Epoch 4/10\n",
            "1146/1146 [==============================] - 7s 6ms/step - loss: 0.1445 - accuracy: 0.9576 - val_loss: 0.5859 - val_accuracy: 0.9550\n",
            "Epoch 5/10\n",
            "1146/1146 [==============================] - 7s 6ms/step - loss: 0.1295 - accuracy: 0.9622 - val_loss: 0.8582 - val_accuracy: 0.9602\n",
            "Epoch 6/10\n",
            "1146/1146 [==============================] - 7s 6ms/step - loss: 0.1140 - accuracy: 0.9652 - val_loss: 0.8866 - val_accuracy: 0.9594\n",
            "Epoch 7/10\n",
            "1146/1146 [==============================] - 7s 6ms/step - loss: 0.1117 - accuracy: 0.9666 - val_loss: 0.7608 - val_accuracy: 0.9576\n",
            "Epoch 8/10\n",
            "1146/1146 [==============================] - 7s 6ms/step - loss: 0.0985 - accuracy: 0.9700 - val_loss: 0.7170 - val_accuracy: 0.9606\n",
            "Epoch 9/10\n",
            "1146/1146 [==============================] - 7s 6ms/step - loss: 0.0930 - accuracy: 0.9717 - val_loss: 0.8790 - val_accuracy: 0.9618\n",
            "Epoch 10/10\n",
            "1146/1146 [==============================] - 7s 6ms/step - loss: 0.0934 - accuracy: 0.9708 - val_loss: 0.7863 - val_accuracy: 0.9628\n",
            "573/573 [==============================] - 2s 2ms/step - loss: 0.8217 - accuracy: 0.9593\n",
            "Epoch 1/10\n",
            "1146/1146 [==============================] - 8s 6ms/step - loss: 0.3457 - accuracy: 0.8972 - val_loss: 0.6154 - val_accuracy: 0.9352\n",
            "Epoch 2/10\n",
            "1146/1146 [==============================] - 7s 6ms/step - loss: 0.2141 - accuracy: 0.9385 - val_loss: 0.4938 - val_accuracy: 0.9498\n",
            "Epoch 3/10\n",
            "1146/1146 [==============================] - 7s 6ms/step - loss: 0.1718 - accuracy: 0.9492 - val_loss: 0.6850 - val_accuracy: 0.9506\n",
            "Epoch 4/10\n",
            "1146/1146 [==============================] - 7s 6ms/step - loss: 0.1432 - accuracy: 0.9574 - val_loss: 0.5980 - val_accuracy: 0.9566\n",
            "Epoch 5/10\n",
            "1146/1146 [==============================] - 7s 6ms/step - loss: 0.1313 - accuracy: 0.9614 - val_loss: 0.5685 - val_accuracy: 0.9572\n",
            "Epoch 6/10\n",
            "1146/1146 [==============================] - 7s 6ms/step - loss: 0.1141 - accuracy: 0.9667 - val_loss: 0.5590 - val_accuracy: 0.9582\n",
            "Epoch 7/10\n",
            "1146/1146 [==============================] - 7s 6ms/step - loss: 0.1035 - accuracy: 0.9696 - val_loss: 0.6044 - val_accuracy: 0.9632\n",
            "Epoch 8/10\n",
            "1146/1146 [==============================] - 7s 6ms/step - loss: 0.0947 - accuracy: 0.9709 - val_loss: 0.7254 - val_accuracy: 0.9636\n",
            "Epoch 9/10\n",
            "1146/1146 [==============================] - 7s 6ms/step - loss: 0.0931 - accuracy: 0.9713 - val_loss: 0.4717 - val_accuracy: 0.9616\n",
            "Epoch 10/10\n",
            "1146/1146 [==============================] - 7s 6ms/step - loss: 0.0858 - accuracy: 0.9738 - val_loss: 0.5447 - val_accuracy: 0.9642\n",
            "573/573 [==============================] - 2s 3ms/step - loss: 0.4869 - accuracy: 0.9622\n",
            "Epoch 1/10\n",
            "1146/1146 [==============================] - 8s 6ms/step - loss: 0.3518 - accuracy: 0.8948 - val_loss: 0.6074 - val_accuracy: 0.9356\n",
            "Epoch 2/10\n",
            "1146/1146 [==============================] - 7s 6ms/step - loss: 0.2069 - accuracy: 0.9397 - val_loss: 0.6116 - val_accuracy: 0.9500\n",
            "Epoch 3/10\n",
            "1146/1146 [==============================] - 7s 6ms/step - loss: 0.1648 - accuracy: 0.9527 - val_loss: 0.5885 - val_accuracy: 0.9470\n",
            "Epoch 4/10\n",
            "1146/1146 [==============================] - 7s 6ms/step - loss: 0.1436 - accuracy: 0.9581 - val_loss: 0.7564 - val_accuracy: 0.9582\n",
            "Epoch 5/10\n",
            "1146/1146 [==============================] - 7s 6ms/step - loss: 0.1264 - accuracy: 0.9632 - val_loss: 0.5926 - val_accuracy: 0.9616\n",
            "Epoch 6/10\n",
            "1146/1146 [==============================] - 7s 6ms/step - loss: 0.1180 - accuracy: 0.9649 - val_loss: 0.5457 - val_accuracy: 0.9606\n",
            "Epoch 7/10\n",
            "1146/1146 [==============================] - 7s 6ms/step - loss: 0.1083 - accuracy: 0.9676 - val_loss: 0.5440 - val_accuracy: 0.9630\n",
            "Epoch 8/10\n",
            "1146/1146 [==============================] - 7s 6ms/step - loss: 0.0971 - accuracy: 0.9703 - val_loss: 0.5239 - val_accuracy: 0.9626\n",
            "Epoch 9/10\n",
            "1146/1146 [==============================] - 7s 6ms/step - loss: 0.0926 - accuracy: 0.9727 - val_loss: 0.5828 - val_accuracy: 0.9638\n",
            "Epoch 10/10\n",
            "1146/1146 [==============================] - 7s 6ms/step - loss: 0.0861 - accuracy: 0.9741 - val_loss: 0.6017 - val_accuracy: 0.9606\n",
            "573/573 [==============================] - 2s 2ms/step - loss: 0.4406 - accuracy: 0.9609\n",
            "Epoch 1/10\n",
            "1146/1146 [==============================] - 8s 6ms/step - loss: 0.3499 - accuracy: 0.9018 - val_loss: 0.5395 - val_accuracy: 0.9414\n",
            "Epoch 2/10\n",
            "1146/1146 [==============================] - 7s 6ms/step - loss: 0.2219 - accuracy: 0.9396 - val_loss: 0.9150 - val_accuracy: 0.9498\n",
            "Epoch 3/10\n",
            "1146/1146 [==============================] - 7s 6ms/step - loss: 0.1841 - accuracy: 0.9482 - val_loss: 0.7765 - val_accuracy: 0.9514\n",
            "Epoch 4/10\n",
            "1146/1146 [==============================] - 7s 6ms/step - loss: 0.1633 - accuracy: 0.9544 - val_loss: 0.5507 - val_accuracy: 0.9532\n",
            "Epoch 5/10\n",
            "1146/1146 [==============================] - 7s 6ms/step - loss: 0.1540 - accuracy: 0.9572 - val_loss: 1.1452 - val_accuracy: 0.9514\n",
            "Epoch 6/10\n",
            "1146/1146 [==============================] - 7s 6ms/step - loss: 0.1439 - accuracy: 0.9593 - val_loss: 1.3658 - val_accuracy: 0.9454\n",
            "Epoch 7/10\n",
            "1146/1146 [==============================] - 7s 6ms/step - loss: 0.1430 - accuracy: 0.9592 - val_loss: 0.4613 - val_accuracy: 0.9586\n",
            "Epoch 8/10\n",
            "1146/1146 [==============================] - 7s 6ms/step - loss: 0.1319 - accuracy: 0.9614 - val_loss: 0.7582 - val_accuracy: 0.9574\n",
            "Epoch 9/10\n",
            "1146/1146 [==============================] - 7s 6ms/step - loss: 0.1329 - accuracy: 0.9620 - val_loss: 1.1474 - val_accuracy: 0.9588\n",
            "Epoch 10/10\n",
            "1146/1146 [==============================] - 7s 6ms/step - loss: 0.1190 - accuracy: 0.9661 - val_loss: 0.8552 - val_accuracy: 0.9582\n",
            "573/573 [==============================] - 2s 3ms/step - loss: 1.2551 - accuracy: 0.9567\n",
            "Epoch 1/10\n",
            "1146/1146 [==============================] - 8s 6ms/step - loss: 0.3493 - accuracy: 0.9006 - val_loss: 0.4963 - val_accuracy: 0.9406\n",
            "Epoch 2/10\n",
            "1146/1146 [==============================] - 7s 6ms/step - loss: 0.2192 - accuracy: 0.9400 - val_loss: 0.3913 - val_accuracy: 0.9482\n",
            "Epoch 3/10\n",
            "1146/1146 [==============================] - 7s 6ms/step - loss: 0.1830 - accuracy: 0.9459 - val_loss: 0.5064 - val_accuracy: 0.9514\n",
            "Epoch 4/10\n",
            "1146/1146 [==============================] - 7s 6ms/step - loss: 0.1629 - accuracy: 0.9545 - val_loss: 0.7392 - val_accuracy: 0.9522\n",
            "Epoch 5/10\n",
            "1146/1146 [==============================] - 7s 6ms/step - loss: 0.1540 - accuracy: 0.9578 - val_loss: 0.8226 - val_accuracy: 0.9568\n",
            "Epoch 6/10\n",
            "1146/1146 [==============================] - 7s 6ms/step - loss: 0.1459 - accuracy: 0.9581 - val_loss: 0.8728 - val_accuracy: 0.9548\n",
            "Epoch 7/10\n",
            "1146/1146 [==============================] - 7s 6ms/step - loss: 0.1371 - accuracy: 0.9612 - val_loss: 0.9034 - val_accuracy: 0.9570\n",
            "Epoch 8/10\n",
            "1146/1146 [==============================] - 7s 6ms/step - loss: 0.1360 - accuracy: 0.9628 - val_loss: 0.6123 - val_accuracy: 0.9586\n",
            "Epoch 9/10\n",
            "1146/1146 [==============================] - 7s 6ms/step - loss: 0.1264 - accuracy: 0.9640 - val_loss: 0.5777 - val_accuracy: 0.9634\n",
            "Epoch 10/10\n",
            "1146/1146 [==============================] - 7s 6ms/step - loss: 0.1191 - accuracy: 0.9645 - val_loss: 0.6744 - val_accuracy: 0.9616\n",
            "573/573 [==============================] - 2s 3ms/step - loss: 0.5914 - accuracy: 0.9605\n",
            "Epoch 1/10\n",
            "1146/1146 [==============================] - 8s 6ms/step - loss: 0.3517 - accuracy: 0.9002 - val_loss: 0.5388 - val_accuracy: 0.9462\n",
            "Epoch 2/10\n",
            "1146/1146 [==============================] - 7s 6ms/step - loss: 0.2182 - accuracy: 0.9388 - val_loss: 0.7140 - val_accuracy: 0.9514\n",
            "Epoch 3/10\n",
            "1146/1146 [==============================] - 7s 6ms/step - loss: 0.1852 - accuracy: 0.9480 - val_loss: 0.4676 - val_accuracy: 0.9554\n",
            "Epoch 4/10\n",
            "1146/1146 [==============================] - 7s 6ms/step - loss: 0.1657 - accuracy: 0.9531 - val_loss: 0.6421 - val_accuracy: 0.9542\n",
            "Epoch 5/10\n",
            "1146/1146 [==============================] - 7s 6ms/step - loss: 0.1568 - accuracy: 0.9559 - val_loss: 0.4941 - val_accuracy: 0.9568\n",
            "Epoch 6/10\n",
            "1146/1146 [==============================] - 7s 6ms/step - loss: 0.1399 - accuracy: 0.9602 - val_loss: 1.6744 - val_accuracy: 0.9556\n",
            "Epoch 7/10\n",
            "1146/1146 [==============================] - 7s 6ms/step - loss: 0.1415 - accuracy: 0.9605 - val_loss: 0.7698 - val_accuracy: 0.9548\n",
            "Epoch 8/10\n",
            "1146/1146 [==============================] - 7s 6ms/step - loss: 0.1291 - accuracy: 0.9625 - val_loss: 0.4996 - val_accuracy: 0.9618\n",
            "Epoch 9/10\n",
            "1146/1146 [==============================] - 7s 6ms/step - loss: 0.1270 - accuracy: 0.9651 - val_loss: 0.6649 - val_accuracy: 0.9562\n",
            "Epoch 10/10\n",
            "1146/1146 [==============================] - 7s 6ms/step - loss: 0.1226 - accuracy: 0.9659 - val_loss: 0.9829 - val_accuracy: 0.9558\n",
            "573/573 [==============================] - 2s 2ms/step - loss: 0.8547 - accuracy: 0.9597\n",
            "Epoch 1/10\n",
            "1146/1146 [==============================] - 3s 2ms/step - loss: 12.1933 - accuracy: 0.8259 - val_loss: 8.6430 - val_accuracy: 0.8824\n",
            "Epoch 2/10\n",
            "1146/1146 [==============================] - 2s 2ms/step - loss: 8.5510 - accuracy: 0.8685 - val_loss: 8.1372 - val_accuracy: 0.8718\n",
            "Epoch 3/10\n",
            "1146/1146 [==============================] - 2s 2ms/step - loss: 7.8887 - accuracy: 0.8762 - val_loss: 8.1835 - val_accuracy: 0.8816\n",
            "Epoch 4/10\n",
            "1146/1146 [==============================] - 2s 2ms/step - loss: 7.6769 - accuracy: 0.8798 - val_loss: 9.7089 - val_accuracy: 0.8674\n",
            "Epoch 5/10\n",
            "1146/1146 [==============================] - 2s 2ms/step - loss: 7.4747 - accuracy: 0.8814 - val_loss: 8.2588 - val_accuracy: 0.8810\n",
            "Epoch 6/10\n",
            "1146/1146 [==============================] - 2s 2ms/step - loss: 7.4469 - accuracy: 0.8829 - val_loss: 8.4104 - val_accuracy: 0.8750\n",
            "Epoch 7/10\n",
            "1146/1146 [==============================] - 2s 2ms/step - loss: 7.4027 - accuracy: 0.8854 - val_loss: 6.7591 - val_accuracy: 0.8968\n",
            "Epoch 8/10\n",
            "1146/1146 [==============================] - 2s 2ms/step - loss: 7.1557 - accuracy: 0.8873 - val_loss: 8.0546 - val_accuracy: 0.8820\n",
            "Epoch 9/10\n",
            "1146/1146 [==============================] - 2s 2ms/step - loss: 7.2590 - accuracy: 0.8864 - val_loss: 11.2180 - val_accuracy: 0.8402\n",
            "Epoch 10/10\n",
            "1146/1146 [==============================] - 2s 2ms/step - loss: 7.1632 - accuracy: 0.8883 - val_loss: 9.7707 - val_accuracy: 0.8694\n",
            "573/573 [==============================] - 1s 2ms/step - loss: 10.8639 - accuracy: 0.8563\n",
            "Epoch 1/10\n",
            "1146/1146 [==============================] - 3s 2ms/step - loss: 12.1250 - accuracy: 0.8253 - val_loss: 9.0954 - val_accuracy: 0.8640\n",
            "Epoch 2/10\n",
            "1146/1146 [==============================] - 2s 2ms/step - loss: 8.3000 - accuracy: 0.8719 - val_loss: 9.4605 - val_accuracy: 0.8640\n",
            "Epoch 3/10\n",
            "1146/1146 [==============================] - 2s 2ms/step - loss: 7.8808 - accuracy: 0.8765 - val_loss: 7.6727 - val_accuracy: 0.8862\n",
            "Epoch 4/10\n",
            "1146/1146 [==============================] - 2s 2ms/step - loss: 7.5421 - accuracy: 0.8815 - val_loss: 7.7465 - val_accuracy: 0.8928\n",
            "Epoch 5/10\n",
            "1146/1146 [==============================] - 2s 2ms/step - loss: 7.4770 - accuracy: 0.8841 - val_loss: 7.4914 - val_accuracy: 0.8870\n",
            "Epoch 6/10\n",
            "1146/1146 [==============================] - 2s 2ms/step - loss: 7.3657 - accuracy: 0.8856 - val_loss: 6.9598 - val_accuracy: 0.8958\n",
            "Epoch 7/10\n",
            "1146/1146 [==============================] - 2s 2ms/step - loss: 7.2296 - accuracy: 0.8890 - val_loss: 7.2156 - val_accuracy: 0.9060\n",
            "Epoch 8/10\n",
            "1146/1146 [==============================] - 2s 2ms/step - loss: 7.1333 - accuracy: 0.8895 - val_loss: 6.8518 - val_accuracy: 0.9030\n",
            "Epoch 9/10\n",
            "1146/1146 [==============================] - 2s 2ms/step - loss: 7.1090 - accuracy: 0.8894 - val_loss: 8.8736 - val_accuracy: 0.8772\n",
            "Epoch 10/10\n",
            "1146/1146 [==============================] - 2s 2ms/step - loss: 7.1105 - accuracy: 0.8867 - val_loss: 8.6135 - val_accuracy: 0.8820\n",
            "573/573 [==============================] - 1s 2ms/step - loss: 10.0638 - accuracy: 0.8671\n",
            "Epoch 1/10\n",
            "1146/1146 [==============================] - 2s 2ms/step - loss: 12.2519 - accuracy: 0.8276 - val_loss: 6.7209 - val_accuracy: 0.8938\n",
            "Epoch 2/10\n",
            "1146/1146 [==============================] - 2s 2ms/step - loss: 8.6046 - accuracy: 0.8687 - val_loss: 8.8812 - val_accuracy: 0.8612\n",
            "Epoch 3/10\n",
            "1146/1146 [==============================] - 2s 2ms/step - loss: 8.0345 - accuracy: 0.8743 - val_loss: 8.3092 - val_accuracy: 0.8696\n",
            "Epoch 4/10\n",
            "1146/1146 [==============================] - 2s 2ms/step - loss: 7.7453 - accuracy: 0.8780 - val_loss: 9.1352 - val_accuracy: 0.8712\n",
            "Epoch 5/10\n",
            "1146/1146 [==============================] - 2s 2ms/step - loss: 7.7531 - accuracy: 0.8795 - val_loss: 6.7842 - val_accuracy: 0.9002\n",
            "Epoch 6/10\n",
            "1146/1146 [==============================] - 2s 2ms/step - loss: 7.5376 - accuracy: 0.8826 - val_loss: 8.5380 - val_accuracy: 0.8766\n",
            "Epoch 7/10\n",
            "1146/1146 [==============================] - 2s 2ms/step - loss: 7.4662 - accuracy: 0.8834 - val_loss: 8.2012 - val_accuracy: 0.8796\n",
            "Epoch 8/10\n",
            "1146/1146 [==============================] - 2s 2ms/step - loss: 7.4754 - accuracy: 0.8829 - val_loss: 7.2417 - val_accuracy: 0.8968\n",
            "Epoch 9/10\n",
            "1146/1146 [==============================] - 2s 2ms/step - loss: 7.3384 - accuracy: 0.8853 - val_loss: 7.9292 - val_accuracy: 0.8878\n",
            "Epoch 10/10\n",
            "1146/1146 [==============================] - 2s 2ms/step - loss: 7.3114 - accuracy: 0.8866 - val_loss: 7.6715 - val_accuracy: 0.8892\n",
            "573/573 [==============================] - 1s 2ms/step - loss: 8.3715 - accuracy: 0.8840\n",
            "Epoch 1/10\n",
            "1146/1146 [==============================] - 2s 2ms/step - loss: 12.2145 - accuracy: 0.8258 - val_loss: 6.9415 - val_accuracy: 0.8900\n",
            "Epoch 2/10\n",
            "1146/1146 [==============================] - 2s 2ms/step - loss: 8.5037 - accuracy: 0.8708 - val_loss: 8.7042 - val_accuracy: 0.8764\n",
            "Epoch 3/10\n",
            "1146/1146 [==============================] - 2s 2ms/step - loss: 8.0154 - accuracy: 0.8749 - val_loss: 7.2902 - val_accuracy: 0.8922\n",
            "Epoch 4/10\n",
            "1146/1146 [==============================] - 2s 2ms/step - loss: 7.7742 - accuracy: 0.8785 - val_loss: 7.7006 - val_accuracy: 0.8794\n",
            "Epoch 5/10\n",
            "1146/1146 [==============================] - 2s 2ms/step - loss: 7.5846 - accuracy: 0.8810 - val_loss: 7.3090 - val_accuracy: 0.8862\n",
            "Epoch 6/10\n",
            "1146/1146 [==============================] - 2s 2ms/step - loss: 7.5263 - accuracy: 0.8815 - val_loss: 8.0727 - val_accuracy: 0.8714\n",
            "Epoch 7/10\n",
            "1146/1146 [==============================] - 2s 2ms/step - loss: 7.2737 - accuracy: 0.8838 - val_loss: 7.2857 - val_accuracy: 0.8928\n",
            "Epoch 8/10\n",
            "1146/1146 [==============================] - 2s 2ms/step - loss: 7.2669 - accuracy: 0.8854 - val_loss: 8.0083 - val_accuracy: 0.8832\n",
            "Epoch 9/10\n",
            "1146/1146 [==============================] - 2s 2ms/step - loss: 7.2475 - accuracy: 0.8848 - val_loss: 7.2734 - val_accuracy: 0.8874\n",
            "Epoch 10/10\n",
            "1146/1146 [==============================] - 2s 2ms/step - loss: 7.1497 - accuracy: 0.8879 - val_loss: 8.6122 - val_accuracy: 0.8672\n",
            "573/573 [==============================] - 1s 2ms/step - loss: 9.9277 - accuracy: 0.8616\n",
            "Epoch 1/10\n",
            "1146/1146 [==============================] - 3s 2ms/step - loss: 11.6853 - accuracy: 0.8318 - val_loss: 7.5734 - val_accuracy: 0.8830\n",
            "Epoch 2/10\n",
            "1146/1146 [==============================] - 2s 2ms/step - loss: 8.2990 - accuracy: 0.8733 - val_loss: 7.3260 - val_accuracy: 0.8952\n",
            "Epoch 3/10\n",
            "1146/1146 [==============================] - 2s 2ms/step - loss: 7.8333 - accuracy: 0.8803 - val_loss: 8.6294 - val_accuracy: 0.8724\n",
            "Epoch 4/10\n",
            "1146/1146 [==============================] - 2s 2ms/step - loss: 7.5418 - accuracy: 0.8833 - val_loss: 8.7946 - val_accuracy: 0.8664\n",
            "Epoch 5/10\n",
            "1146/1146 [==============================] - 2s 2ms/step - loss: 7.4326 - accuracy: 0.8835 - val_loss: 6.8430 - val_accuracy: 0.9072\n",
            "Epoch 6/10\n",
            "1146/1146 [==============================] - 2s 2ms/step - loss: 7.4003 - accuracy: 0.8868 - val_loss: 7.8574 - val_accuracy: 0.8952\n",
            "Epoch 7/10\n",
            "1146/1146 [==============================] - 2s 2ms/step - loss: 7.2807 - accuracy: 0.8874 - val_loss: 7.4837 - val_accuracy: 0.8810\n",
            "Epoch 8/10\n",
            "1146/1146 [==============================] - 2s 2ms/step - loss: 7.2316 - accuracy: 0.8866 - val_loss: 8.4208 - val_accuracy: 0.8828\n",
            "Epoch 9/10\n",
            "1146/1146 [==============================] - 2s 2ms/step - loss: 7.1644 - accuracy: 0.8884 - val_loss: 8.5424 - val_accuracy: 0.8830\n",
            "Epoch 10/10\n",
            "1146/1146 [==============================] - 2s 2ms/step - loss: 7.1313 - accuracy: 0.8897 - val_loss: 7.2737 - val_accuracy: 0.9008\n",
            "573/573 [==============================] - 1s 2ms/step - loss: 8.8497 - accuracy: 0.8882\n",
            "Epoch 1/10\n",
            "1146/1146 [==============================] - 3s 2ms/step - loss: 12.2627 - accuracy: 0.8253 - val_loss: 9.0357 - val_accuracy: 0.8614\n",
            "Epoch 2/10\n",
            "1146/1146 [==============================] - 2s 2ms/step - loss: 8.7097 - accuracy: 0.8685 - val_loss: 6.8617 - val_accuracy: 0.8960\n",
            "Epoch 3/10\n",
            "1146/1146 [==============================] - 2s 2ms/step - loss: 8.2066 - accuracy: 0.8756 - val_loss: 7.9799 - val_accuracy: 0.8784\n",
            "Epoch 4/10\n",
            "1146/1146 [==============================] - 2s 2ms/step - loss: 7.7099 - accuracy: 0.8792 - val_loss: 8.1054 - val_accuracy: 0.8840\n",
            "Epoch 5/10\n",
            "1146/1146 [==============================] - 2s 2ms/step - loss: 7.6881 - accuracy: 0.8798 - val_loss: 7.2501 - val_accuracy: 0.8924\n",
            "Epoch 6/10\n",
            "1146/1146 [==============================] - 2s 2ms/step - loss: 7.5640 - accuracy: 0.8823 - val_loss: 6.6578 - val_accuracy: 0.9048\n",
            "Epoch 7/10\n",
            "1146/1146 [==============================] - 2s 2ms/step - loss: 7.5318 - accuracy: 0.8828 - val_loss: 7.4413 - val_accuracy: 0.8880\n",
            "Epoch 8/10\n",
            "1146/1146 [==============================] - 2s 2ms/step - loss: 7.3420 - accuracy: 0.8844 - val_loss: 7.6576 - val_accuracy: 0.8912\n",
            "Epoch 9/10\n",
            "1146/1146 [==============================] - 2s 2ms/step - loss: 7.4309 - accuracy: 0.8864 - val_loss: 9.3830 - val_accuracy: 0.8600\n",
            "Epoch 10/10\n",
            "1146/1146 [==============================] - 2s 2ms/step - loss: 7.4102 - accuracy: 0.8879 - val_loss: 10.8950 - val_accuracy: 0.8546\n",
            "573/573 [==============================] - 1s 2ms/step - loss: 11.9460 - accuracy: 0.8464\n",
            "Epoch 1/10\n",
            "1146/1146 [==============================] - 10s 8ms/step - loss: 0.3418 - accuracy: 0.9018 - val_loss: 0.3953 - val_accuracy: 0.9294\n",
            "Epoch 2/10\n",
            "1146/1146 [==============================] - 9s 8ms/step - loss: 0.2013 - accuracy: 0.9417 - val_loss: 0.5557 - val_accuracy: 0.9510\n",
            "Epoch 3/10\n",
            "1146/1146 [==============================] - 9s 8ms/step - loss: 0.1638 - accuracy: 0.9525 - val_loss: 0.5437 - val_accuracy: 0.9558\n",
            "Epoch 4/10\n",
            "1146/1146 [==============================] - 9s 8ms/step - loss: 0.1410 - accuracy: 0.9585 - val_loss: 0.7273 - val_accuracy: 0.9590\n",
            "Epoch 5/10\n",
            "1146/1146 [==============================] - 9s 8ms/step - loss: 0.1313 - accuracy: 0.9622 - val_loss: 0.7105 - val_accuracy: 0.9556\n",
            "Epoch 6/10\n",
            "1146/1146 [==============================] - 9s 8ms/step - loss: 0.1225 - accuracy: 0.9648 - val_loss: 0.5190 - val_accuracy: 0.9590\n",
            "Epoch 7/10\n",
            "1146/1146 [==============================] - 9s 8ms/step - loss: 0.1154 - accuracy: 0.9662 - val_loss: 0.9281 - val_accuracy: 0.9550\n",
            "Epoch 8/10\n",
            "1146/1146 [==============================] - 9s 8ms/step - loss: 0.1114 - accuracy: 0.9671 - val_loss: 0.9954 - val_accuracy: 0.9624\n",
            "Epoch 9/10\n",
            "1146/1146 [==============================] - 9s 8ms/step - loss: 0.1055 - accuracy: 0.9691 - val_loss: 1.0165 - val_accuracy: 0.9578\n",
            "Epoch 10/10\n",
            "1146/1146 [==============================] - 9s 8ms/step - loss: 0.0979 - accuracy: 0.9710 - val_loss: 0.8555 - val_accuracy: 0.9612\n",
            "573/573 [==============================] - 2s 3ms/step - loss: 1.4782 - accuracy: 0.9565\n",
            "Epoch 1/10\n",
            "1146/1146 [==============================] - 10s 8ms/step - loss: 0.3396 - accuracy: 0.9023 - val_loss: 0.5973 - val_accuracy: 0.9442\n",
            "Epoch 2/10\n",
            "1146/1146 [==============================] - 9s 8ms/step - loss: 0.2017 - accuracy: 0.9425 - val_loss: 0.7873 - val_accuracy: 0.9482\n",
            "Epoch 3/10\n",
            "1146/1146 [==============================] - 9s 8ms/step - loss: 0.1670 - accuracy: 0.9528 - val_loss: 0.8685 - val_accuracy: 0.9538\n",
            "Epoch 4/10\n",
            "1146/1146 [==============================] - 9s 8ms/step - loss: 0.1391 - accuracy: 0.9591 - val_loss: 0.5478 - val_accuracy: 0.9530\n",
            "Epoch 5/10\n",
            "1146/1146 [==============================] - 9s 8ms/step - loss: 0.1311 - accuracy: 0.9618 - val_loss: 0.4547 - val_accuracy: 0.9588\n",
            "Epoch 6/10\n",
            "1146/1146 [==============================] - 9s 8ms/step - loss: 0.1172 - accuracy: 0.9657 - val_loss: 0.9867 - val_accuracy: 0.9618\n",
            "Epoch 7/10\n",
            "1146/1146 [==============================] - 9s 8ms/step - loss: 0.1129 - accuracy: 0.9662 - val_loss: 0.6264 - val_accuracy: 0.9622\n",
            "Epoch 8/10\n",
            "1146/1146 [==============================] - 9s 8ms/step - loss: 0.1037 - accuracy: 0.9692 - val_loss: 0.6957 - val_accuracy: 0.9610\n",
            "Epoch 9/10\n",
            "1146/1146 [==============================] - 9s 8ms/step - loss: 0.1004 - accuracy: 0.9704 - val_loss: 0.9989 - val_accuracy: 0.9628\n",
            "Epoch 10/10\n",
            "1146/1146 [==============================] - 9s 8ms/step - loss: 0.0958 - accuracy: 0.9703 - val_loss: 0.8586 - val_accuracy: 0.9630\n",
            "573/573 [==============================] - 2s 3ms/step - loss: 0.8043 - accuracy: 0.9642\n",
            "Epoch 1/10\n",
            "1146/1146 [==============================] - 10s 8ms/step - loss: 0.3396 - accuracy: 0.9025 - val_loss: 0.6438 - val_accuracy: 0.9418\n",
            "Epoch 2/10\n",
            "1146/1146 [==============================] - 9s 8ms/step - loss: 0.2035 - accuracy: 0.9406 - val_loss: 0.7167 - val_accuracy: 0.9550\n",
            "Epoch 3/10\n",
            "1146/1146 [==============================] - 9s 8ms/step - loss: 0.1655 - accuracy: 0.9527 - val_loss: 0.6073 - val_accuracy: 0.9538\n",
            "Epoch 4/10\n",
            "1146/1146 [==============================] - 9s 8ms/step - loss: 0.1438 - accuracy: 0.9582 - val_loss: 0.5705 - val_accuracy: 0.9614\n",
            "Epoch 5/10\n",
            "1146/1146 [==============================] - 9s 8ms/step - loss: 0.1261 - accuracy: 0.9637 - val_loss: 0.7943 - val_accuracy: 0.9612\n",
            "Epoch 6/10\n",
            "1146/1146 [==============================] - 9s 8ms/step - loss: 0.1225 - accuracy: 0.9648 - val_loss: 0.7813 - val_accuracy: 0.9584\n",
            "Epoch 7/10\n",
            "1146/1146 [==============================] - 9s 8ms/step - loss: 0.1106 - accuracy: 0.9681 - val_loss: 0.8392 - val_accuracy: 0.9570\n",
            "Epoch 8/10\n",
            "1146/1146 [==============================] - 9s 8ms/step - loss: 0.1054 - accuracy: 0.9687 - val_loss: 0.7103 - val_accuracy: 0.9624\n",
            "Epoch 9/10\n",
            "1146/1146 [==============================] - 9s 8ms/step - loss: 0.1054 - accuracy: 0.9703 - val_loss: 0.6259 - val_accuracy: 0.9604\n",
            "Epoch 10/10\n",
            "1146/1146 [==============================] - 9s 8ms/step - loss: 0.1002 - accuracy: 0.9709 - val_loss: 0.8156 - val_accuracy: 0.9596\n",
            "573/573 [==============================] - 2s 3ms/step - loss: 0.6049 - accuracy: 0.9602\n",
            "Epoch 1/10\n",
            "1146/1146 [==============================] - 9s 7ms/step - loss: 0.3513 - accuracy: 0.8951 - val_loss: 0.4596 - val_accuracy: 0.9380\n",
            "Epoch 2/10\n",
            "1146/1146 [==============================] - 8s 7ms/step - loss: 0.2058 - accuracy: 0.9399 - val_loss: 0.3601 - val_accuracy: 0.9466\n",
            "Epoch 3/10\n",
            "1146/1146 [==============================] - 8s 7ms/step - loss: 0.1638 - accuracy: 0.9527 - val_loss: 0.3419 - val_accuracy: 0.9530\n",
            "Epoch 4/10\n",
            "1146/1146 [==============================] - 8s 7ms/step - loss: 0.1395 - accuracy: 0.9583 - val_loss: 0.4751 - val_accuracy: 0.9544\n",
            "Epoch 5/10\n",
            "1146/1146 [==============================] - 8s 7ms/step - loss: 0.1240 - accuracy: 0.9630 - val_loss: 0.3700 - val_accuracy: 0.9588\n",
            "Epoch 6/10\n",
            "1146/1146 [==============================] - 8s 7ms/step - loss: 0.1148 - accuracy: 0.9662 - val_loss: 0.6492 - val_accuracy: 0.9616\n",
            "Epoch 7/10\n",
            "1146/1146 [==============================] - 8s 7ms/step - loss: 0.1025 - accuracy: 0.9688 - val_loss: 0.4869 - val_accuracy: 0.9596\n",
            "Epoch 8/10\n",
            "1146/1146 [==============================] - 8s 7ms/step - loss: 0.0959 - accuracy: 0.9714 - val_loss: 0.4114 - val_accuracy: 0.9606\n",
            "Epoch 9/10\n",
            "1146/1146 [==============================] - 8s 7ms/step - loss: 0.0911 - accuracy: 0.9722 - val_loss: 0.4309 - val_accuracy: 0.9620\n",
            "Epoch 10/10\n",
            "1146/1146 [==============================] - 8s 7ms/step - loss: 0.0865 - accuracy: 0.9739 - val_loss: 0.6403 - val_accuracy: 0.9604\n",
            "573/573 [==============================] - 2s 3ms/step - loss: 1.3653 - accuracy: 0.9607\n",
            "Epoch 1/10\n",
            "1146/1146 [==============================] - 9s 8ms/step - loss: 0.3399 - accuracy: 0.9003 - val_loss: 0.5857 - val_accuracy: 0.9356\n",
            "Epoch 2/10\n",
            "1146/1146 [==============================] - 9s 7ms/step - loss: 0.2035 - accuracy: 0.9404 - val_loss: 0.5722 - val_accuracy: 0.9468\n",
            "Epoch 3/10\n",
            "1146/1146 [==============================] - 9s 8ms/step - loss: 0.1625 - accuracy: 0.9533 - val_loss: 0.4886 - val_accuracy: 0.9538\n",
            "Epoch 4/10\n",
            "1146/1146 [==============================] - 9s 8ms/step - loss: 0.1401 - accuracy: 0.9589 - val_loss: 0.6836 - val_accuracy: 0.9578\n",
            "Epoch 5/10\n",
            "1146/1146 [==============================] - 9s 8ms/step - loss: 0.1248 - accuracy: 0.9625 - val_loss: 0.2850 - val_accuracy: 0.9632\n",
            "Epoch 6/10\n",
            "1146/1146 [==============================] - 9s 8ms/step - loss: 0.1119 - accuracy: 0.9663 - val_loss: 0.4218 - val_accuracy: 0.9590\n",
            "Epoch 7/10\n",
            "1146/1146 [==============================] - 8s 7ms/step - loss: 0.1013 - accuracy: 0.9687 - val_loss: 0.5521 - val_accuracy: 0.9644\n",
            "Epoch 8/10\n",
            "1146/1146 [==============================] - 9s 8ms/step - loss: 0.0986 - accuracy: 0.9705 - val_loss: 0.6374 - val_accuracy: 0.9624\n",
            "Epoch 9/10\n",
            "1146/1146 [==============================] - 9s 7ms/step - loss: 0.0872 - accuracy: 0.9717 - val_loss: 0.6398 - val_accuracy: 0.9604\n",
            "Epoch 10/10\n",
            "1146/1146 [==============================] - 9s 7ms/step - loss: 0.0844 - accuracy: 0.9734 - val_loss: 0.5112 - val_accuracy: 0.9602\n",
            "573/573 [==============================] - 2s 3ms/step - loss: 0.4760 - accuracy: 0.9630\n",
            "Epoch 1/10\n",
            "1146/1146 [==============================] - 10s 8ms/step - loss: 0.3498 - accuracy: 0.8963 - val_loss: 0.5489 - val_accuracy: 0.9408\n",
            "Epoch 2/10\n",
            "1146/1146 [==============================] - 9s 7ms/step - loss: 0.2093 - accuracy: 0.9381 - val_loss: 0.3154 - val_accuracy: 0.9508\n",
            "Epoch 3/10\n",
            "1146/1146 [==============================] - 9s 7ms/step - loss: 0.1658 - accuracy: 0.9509 - val_loss: 0.2982 - val_accuracy: 0.9544\n",
            "Epoch 4/10\n",
            "1146/1146 [==============================] - 8s 7ms/step - loss: 0.1389 - accuracy: 0.9587 - val_loss: 0.5215 - val_accuracy: 0.9582\n",
            "Epoch 5/10\n",
            "1146/1146 [==============================] - 9s 7ms/step - loss: 0.1222 - accuracy: 0.9637 - val_loss: 0.2393 - val_accuracy: 0.9606\n",
            "Epoch 6/10\n",
            "1146/1146 [==============================] - 9s 7ms/step - loss: 0.1130 - accuracy: 0.9656 - val_loss: 0.6711 - val_accuracy: 0.9616\n",
            "Epoch 7/10\n",
            "1146/1146 [==============================] - 8s 7ms/step - loss: 0.1016 - accuracy: 0.9687 - val_loss: 0.4504 - val_accuracy: 0.9652\n",
            "Epoch 8/10\n",
            "1146/1146 [==============================] - 9s 7ms/step - loss: 0.0950 - accuracy: 0.9716 - val_loss: 0.6728 - val_accuracy: 0.9640\n",
            "Epoch 9/10\n",
            "1146/1146 [==============================] - 8s 7ms/step - loss: 0.0915 - accuracy: 0.9723 - val_loss: 0.4100 - val_accuracy: 0.9660\n",
            "Epoch 10/10\n",
            "1146/1146 [==============================] - 8s 7ms/step - loss: 0.0813 - accuracy: 0.9751 - val_loss: 0.6424 - val_accuracy: 0.9610\n",
            "573/573 [==============================] - 2s 3ms/step - loss: 1.0749 - accuracy: 0.9613\n",
            "Epoch 1/10\n",
            "1146/1146 [==============================] - 3s 2ms/step - loss: 11.4082 - accuracy: 0.8190 - val_loss: 6.4092 - val_accuracy: 0.8790\n",
            "Epoch 2/10\n",
            "1146/1146 [==============================] - 2s 2ms/step - loss: 6.5652 - accuracy: 0.8710 - val_loss: 5.2904 - val_accuracy: 0.8898\n",
            "Epoch 3/10\n",
            "1146/1146 [==============================] - 2s 2ms/step - loss: 5.8800 - accuracy: 0.8785 - val_loss: 6.2171 - val_accuracy: 0.8782\n",
            "Epoch 4/10\n",
            "1146/1146 [==============================] - 2s 2ms/step - loss: 5.5401 - accuracy: 0.8812 - val_loss: 5.5317 - val_accuracy: 0.8888\n",
            "Epoch 5/10\n",
            "1146/1146 [==============================] - 2s 2ms/step - loss: 5.3416 - accuracy: 0.8816 - val_loss: 6.0706 - val_accuracy: 0.8848\n",
            "Epoch 6/10\n",
            "1146/1146 [==============================] - 2s 2ms/step - loss: 5.1839 - accuracy: 0.8867 - val_loss: 5.6482 - val_accuracy: 0.8854\n",
            "Epoch 7/10\n",
            "1146/1146 [==============================] - 2s 2ms/step - loss: 5.2194 - accuracy: 0.8877 - val_loss: 4.9081 - val_accuracy: 0.8936\n",
            "Epoch 8/10\n",
            "1146/1146 [==============================] - 2s 2ms/step - loss: 5.0309 - accuracy: 0.8870 - val_loss: 8.0344 - val_accuracy: 0.8390\n",
            "Epoch 9/10\n",
            "1146/1146 [==============================] - 2s 2ms/step - loss: 5.0350 - accuracy: 0.8862 - val_loss: 5.4270 - val_accuracy: 0.8812\n",
            "Epoch 10/10\n",
            "1146/1146 [==============================] - 2s 2ms/step - loss: 4.9314 - accuracy: 0.8878 - val_loss: 5.7722 - val_accuracy: 0.8786\n",
            "573/573 [==============================] - 1s 2ms/step - loss: 6.9813 - accuracy: 0.8638\n",
            "Epoch 1/10\n",
            "1146/1146 [==============================] - 3s 2ms/step - loss: 11.2980 - accuracy: 0.8193 - val_loss: 6.7228 - val_accuracy: 0.8758\n",
            "Epoch 2/10\n",
            "1146/1146 [==============================] - 2s 2ms/step - loss: 6.5440 - accuracy: 0.8742 - val_loss: 9.8069 - val_accuracy: 0.8054\n",
            "Epoch 3/10\n",
            "1146/1146 [==============================] - 2s 2ms/step - loss: 5.9017 - accuracy: 0.8810 - val_loss: 5.6374 - val_accuracy: 0.8942\n",
            "Epoch 4/10\n",
            "1146/1146 [==============================] - 2s 2ms/step - loss: 5.4807 - accuracy: 0.8841 - val_loss: 5.7980 - val_accuracy: 0.8796\n",
            "Epoch 5/10\n",
            "1146/1146 [==============================] - 2s 2ms/step - loss: 5.3668 - accuracy: 0.8842 - val_loss: 5.8238 - val_accuracy: 0.8950\n",
            "Epoch 6/10\n",
            "1146/1146 [==============================] - 2s 2ms/step - loss: 5.1974 - accuracy: 0.8883 - val_loss: 6.0420 - val_accuracy: 0.8842\n",
            "Epoch 7/10\n",
            "1146/1146 [==============================] - 2s 2ms/step - loss: 5.0961 - accuracy: 0.8885 - val_loss: 5.1782 - val_accuracy: 0.8956\n",
            "Epoch 8/10\n",
            "1146/1146 [==============================] - 2s 2ms/step - loss: 4.9605 - accuracy: 0.8903 - val_loss: 6.2447 - val_accuracy: 0.8712\n",
            "Epoch 9/10\n",
            "1146/1146 [==============================] - 2s 2ms/step - loss: 4.9220 - accuracy: 0.8902 - val_loss: 6.5471 - val_accuracy: 0.8662\n",
            "Epoch 10/10\n",
            "1146/1146 [==============================] - 2s 2ms/step - loss: 4.8843 - accuracy: 0.8915 - val_loss: 5.2584 - val_accuracy: 0.8954\n",
            "573/573 [==============================] - 1s 2ms/step - loss: 6.0065 - accuracy: 0.8815\n",
            "Epoch 1/10\n",
            "1146/1146 [==============================] - 3s 2ms/step - loss: 11.9268 - accuracy: 0.8157 - val_loss: 7.2765 - val_accuracy: 0.8662\n",
            "Epoch 2/10\n",
            "1146/1146 [==============================] - 2s 2ms/step - loss: 6.8358 - accuracy: 0.8695 - val_loss: 7.8253 - val_accuracy: 0.8558\n",
            "Epoch 3/10\n",
            "1146/1146 [==============================] - 2s 2ms/step - loss: 6.1643 - accuracy: 0.8768 - val_loss: 5.6467 - val_accuracy: 0.8892\n",
            "Epoch 4/10\n",
            "1146/1146 [==============================] - 2s 2ms/step - loss: 5.7704 - accuracy: 0.8816 - val_loss: 6.4481 - val_accuracy: 0.8778\n",
            "Epoch 5/10\n",
            "1146/1146 [==============================] - 2s 2ms/step - loss: 5.5883 - accuracy: 0.8823 - val_loss: 5.6148 - val_accuracy: 0.8894\n",
            "Epoch 6/10\n",
            "1146/1146 [==============================] - 2s 2ms/step - loss: 5.3850 - accuracy: 0.8816 - val_loss: 5.7259 - val_accuracy: 0.8884\n",
            "Epoch 7/10\n",
            "1146/1146 [==============================] - 2s 2ms/step - loss: 5.3024 - accuracy: 0.8846 - val_loss: 7.2789 - val_accuracy: 0.8602\n",
            "Epoch 8/10\n",
            "1146/1146 [==============================] - 2s 2ms/step - loss: 5.1437 - accuracy: 0.8850 - val_loss: 5.1431 - val_accuracy: 0.9018\n",
            "Epoch 9/10\n",
            "1146/1146 [==============================] - 2s 2ms/step - loss: 5.1459 - accuracy: 0.8863 - val_loss: 5.4883 - val_accuracy: 0.9008\n",
            "Epoch 10/10\n",
            "1146/1146 [==============================] - 2s 2ms/step - loss: 5.0781 - accuracy: 0.8871 - val_loss: 5.2102 - val_accuracy: 0.8974\n",
            "573/573 [==============================] - 1s 2ms/step - loss: 5.4351 - accuracy: 0.8951\n",
            "Epoch 1/10\n",
            "1146/1146 [==============================] - 3s 2ms/step - loss: 11.8421 - accuracy: 0.8297 - val_loss: 7.7062 - val_accuracy: 0.8830\n",
            "Epoch 2/10\n",
            "1146/1146 [==============================] - 2s 2ms/step - loss: 8.4145 - accuracy: 0.8704 - val_loss: 8.7757 - val_accuracy: 0.8614\n",
            "Epoch 3/10\n",
            "1146/1146 [==============================] - 2s 2ms/step - loss: 8.0308 - accuracy: 0.8765 - val_loss: 6.8659 - val_accuracy: 0.8946\n",
            "Epoch 4/10\n",
            "1146/1146 [==============================] - 2s 2ms/step - loss: 7.7652 - accuracy: 0.8798 - val_loss: 7.7198 - val_accuracy: 0.8796\n",
            "Epoch 5/10\n",
            "1146/1146 [==============================] - 2s 2ms/step - loss: 7.5326 - accuracy: 0.8806 - val_loss: 7.2745 - val_accuracy: 0.8946\n",
            "Epoch 6/10\n",
            "1146/1146 [==============================] - 2s 2ms/step - loss: 7.4778 - accuracy: 0.8838 - val_loss: 7.7348 - val_accuracy: 0.8900\n",
            "Epoch 7/10\n",
            "1146/1146 [==============================] - 2s 2ms/step - loss: 7.3903 - accuracy: 0.8860 - val_loss: 7.4732 - val_accuracy: 0.8876\n",
            "Epoch 8/10\n",
            "1146/1146 [==============================] - 2s 2ms/step - loss: 7.1935 - accuracy: 0.8865 - val_loss: 8.2309 - val_accuracy: 0.8874\n",
            "Epoch 9/10\n",
            "1146/1146 [==============================] - 2s 2ms/step - loss: 7.2257 - accuracy: 0.8869 - val_loss: 9.4997 - val_accuracy: 0.8694\n",
            "Epoch 10/10\n",
            "1146/1146 [==============================] - 2s 2ms/step - loss: 7.1720 - accuracy: 0.8889 - val_loss: 9.3454 - val_accuracy: 0.8656\n",
            "573/573 [==============================] - 1s 2ms/step - loss: 10.6207 - accuracy: 0.8526\n",
            "Epoch 1/10\n",
            "1146/1146 [==============================] - 3s 2ms/step - loss: 11.7581 - accuracy: 0.8311 - val_loss: 10.5781 - val_accuracy: 0.8464\n",
            "Epoch 2/10\n",
            "1146/1146 [==============================] - 2s 2ms/step - loss: 8.3194 - accuracy: 0.8724 - val_loss: 9.4616 - val_accuracy: 0.8686\n",
            "Epoch 3/10\n",
            "1146/1146 [==============================] - 2s 2ms/step - loss: 7.8812 - accuracy: 0.8782 - val_loss: 7.6966 - val_accuracy: 0.8758\n",
            "Epoch 4/10\n",
            "1146/1146 [==============================] - 2s 2ms/step - loss: 7.6200 - accuracy: 0.8829 - val_loss: 7.2808 - val_accuracy: 0.8914\n",
            "Epoch 5/10\n",
            "1146/1146 [==============================] - 2s 2ms/step - loss: 7.4316 - accuracy: 0.8847 - val_loss: 7.5712 - val_accuracy: 0.8862\n",
            "Epoch 6/10\n",
            "1146/1146 [==============================] - 2s 2ms/step - loss: 7.2612 - accuracy: 0.8859 - val_loss: 7.9107 - val_accuracy: 0.8814\n",
            "Epoch 7/10\n",
            "1146/1146 [==============================] - 2s 2ms/step - loss: 7.2110 - accuracy: 0.8867 - val_loss: 7.9538 - val_accuracy: 0.8852\n",
            "Epoch 8/10\n",
            "1146/1146 [==============================] - 2s 2ms/step - loss: 7.2529 - accuracy: 0.8874 - val_loss: 8.7089 - val_accuracy: 0.8796\n",
            "Epoch 9/10\n",
            "1146/1146 [==============================] - 2s 2ms/step - loss: 7.1561 - accuracy: 0.8872 - val_loss: 9.5696 - val_accuracy: 0.8814\n",
            "Epoch 10/10\n",
            "1146/1146 [==============================] - 2s 2ms/step - loss: 7.0364 - accuracy: 0.8901 - val_loss: 8.7299 - val_accuracy: 0.8876\n",
            "573/573 [==============================] - 1s 2ms/step - loss: 9.8592 - accuracy: 0.8732\n",
            "Epoch 1/10\n",
            "1146/1146 [==============================] - 3s 2ms/step - loss: 12.3285 - accuracy: 0.8269 - val_loss: 8.1158 - val_accuracy: 0.8714\n",
            "Epoch 2/10\n",
            "1146/1146 [==============================] - 2s 2ms/step - loss: 8.7140 - accuracy: 0.8687 - val_loss: 8.0967 - val_accuracy: 0.8798\n",
            "Epoch 3/10\n",
            "1146/1146 [==============================] - 2s 2ms/step - loss: 8.0560 - accuracy: 0.8734 - val_loss: 9.5118 - val_accuracy: 0.8656\n",
            "Epoch 4/10\n",
            "1146/1146 [==============================] - 2s 2ms/step - loss: 7.8623 - accuracy: 0.8804 - val_loss: 7.3828 - val_accuracy: 0.9030\n",
            "Epoch 5/10\n",
            "1146/1146 [==============================] - 2s 2ms/step - loss: 7.7155 - accuracy: 0.8800 - val_loss: 8.9269 - val_accuracy: 0.8714\n",
            "Epoch 6/10\n",
            "1146/1146 [==============================] - 2s 2ms/step - loss: 7.6567 - accuracy: 0.8839 - val_loss: 8.6801 - val_accuracy: 0.8722\n",
            "Epoch 7/10\n",
            "1146/1146 [==============================] - 2s 2ms/step - loss: 7.4659 - accuracy: 0.8825 - val_loss: 8.0425 - val_accuracy: 0.8800\n",
            "Epoch 8/10\n",
            "1146/1146 [==============================] - 2s 2ms/step - loss: 7.5917 - accuracy: 0.8829 - val_loss: 9.8605 - val_accuracy: 0.8674\n",
            "Epoch 9/10\n",
            "1146/1146 [==============================] - 2s 2ms/step - loss: 7.4285 - accuracy: 0.8862 - val_loss: 9.0904 - val_accuracy: 0.8696\n",
            "Epoch 10/10\n",
            "1146/1146 [==============================] - 2s 2ms/step - loss: 7.3324 - accuracy: 0.8850 - val_loss: 7.5521 - val_accuracy: 0.8960\n",
            "573/573 [==============================] - 1s 2ms/step - loss: 8.2863 - accuracy: 0.8940\n",
            "Epoch 1/10\n",
            "1146/1146 [==============================] - 3s 2ms/step - loss: 11.7692 - accuracy: 0.8160 - val_loss: 7.4706 - val_accuracy: 0.8574\n",
            "Epoch 2/10\n",
            "1146/1146 [==============================] - 2s 2ms/step - loss: 6.6652 - accuracy: 0.8721 - val_loss: 6.5766 - val_accuracy: 0.8684\n",
            "Epoch 3/10\n",
            "1146/1146 [==============================] - 2s 2ms/step - loss: 6.0169 - accuracy: 0.8760 - val_loss: 6.2705 - val_accuracy: 0.8848\n",
            "Epoch 4/10\n",
            "1146/1146 [==============================] - 2s 2ms/step - loss: 5.6314 - accuracy: 0.8824 - val_loss: 6.5020 - val_accuracy: 0.8680\n",
            "Epoch 5/10\n",
            "1146/1146 [==============================] - 2s 2ms/step - loss: 5.3592 - accuracy: 0.8833 - val_loss: 4.9263 - val_accuracy: 0.8974\n",
            "Epoch 6/10\n",
            "1146/1146 [==============================] - 2s 2ms/step - loss: 5.2107 - accuracy: 0.8858 - val_loss: 4.9382 - val_accuracy: 0.8950\n",
            "Epoch 7/10\n",
            "1146/1146 [==============================] - 2s 2ms/step - loss: 5.0706 - accuracy: 0.8842 - val_loss: 5.3865 - val_accuracy: 0.8854\n",
            "Epoch 8/10\n",
            "1146/1146 [==============================] - 2s 2ms/step - loss: 5.0871 - accuracy: 0.8881 - val_loss: 5.3030 - val_accuracy: 0.8902\n",
            "Epoch 9/10\n",
            "1146/1146 [==============================] - 2s 2ms/step - loss: 5.0655 - accuracy: 0.8886 - val_loss: 5.7234 - val_accuracy: 0.8856\n",
            "Epoch 10/10\n",
            "1146/1146 [==============================] - 2s 2ms/step - loss: 4.9722 - accuracy: 0.8878 - val_loss: 5.1555 - val_accuracy: 0.8992\n",
            "573/573 [==============================] - 1s 2ms/step - loss: 5.9013 - accuracy: 0.8857\n",
            "Epoch 1/10\n",
            "1146/1146 [==============================] - 3s 2ms/step - loss: 11.7321 - accuracy: 0.8194 - val_loss: 6.7866 - val_accuracy: 0.8918\n",
            "Epoch 2/10\n",
            "1146/1146 [==============================] - 2s 2ms/step - loss: 6.5827 - accuracy: 0.8722 - val_loss: 6.8209 - val_accuracy: 0.8628\n",
            "Epoch 3/10\n",
            "1146/1146 [==============================] - 2s 2ms/step - loss: 5.9976 - accuracy: 0.8808 - val_loss: 5.1788 - val_accuracy: 0.9010\n",
            "Epoch 4/10\n",
            "1146/1146 [==============================] - 2s 2ms/step - loss: 5.5891 - accuracy: 0.8834 - val_loss: 6.4475 - val_accuracy: 0.8580\n",
            "Epoch 5/10\n",
            "1146/1146 [==============================] - 2s 2ms/step - loss: 5.4178 - accuracy: 0.8839 - val_loss: 6.2250 - val_accuracy: 0.8812\n",
            "Epoch 6/10\n",
            "1146/1146 [==============================] - 2s 2ms/step - loss: 5.3288 - accuracy: 0.8868 - val_loss: 5.3048 - val_accuracy: 0.8920\n",
            "Epoch 7/10\n",
            "1146/1146 [==============================] - 2s 2ms/step - loss: 5.1342 - accuracy: 0.8883 - val_loss: 5.6552 - val_accuracy: 0.8888\n",
            "Epoch 8/10\n",
            "1146/1146 [==============================] - 2s 2ms/step - loss: 5.0580 - accuracy: 0.8860 - val_loss: 5.0060 - val_accuracy: 0.8942\n",
            "Epoch 9/10\n",
            "1146/1146 [==============================] - 2s 2ms/step - loss: 4.9548 - accuracy: 0.8886 - val_loss: 6.6399 - val_accuracy: 0.8700\n",
            "Epoch 10/10\n",
            "1146/1146 [==============================] - 2s 2ms/step - loss: 4.9013 - accuracy: 0.8916 - val_loss: 6.9387 - val_accuracy: 0.8678\n",
            "573/573 [==============================] - 1s 2ms/step - loss: 7.4697 - accuracy: 0.8551\n",
            "Epoch 1/10\n",
            "1146/1146 [==============================] - 3s 2ms/step - loss: 11.2779 - accuracy: 0.8200 - val_loss: 6.5506 - val_accuracy: 0.8770\n",
            "Epoch 2/10\n",
            "1146/1146 [==============================] - 2s 2ms/step - loss: 6.6543 - accuracy: 0.8708 - val_loss: 5.9706 - val_accuracy: 0.8832\n",
            "Epoch 3/10\n",
            "1146/1146 [==============================] - 2s 2ms/step - loss: 6.0845 - accuracy: 0.8778 - val_loss: 8.1263 - val_accuracy: 0.8398\n",
            "Epoch 4/10\n",
            "1146/1146 [==============================] - 2s 2ms/step - loss: 5.7245 - accuracy: 0.8796 - val_loss: 7.1805 - val_accuracy: 0.8636\n",
            "Epoch 5/10\n",
            "1146/1146 [==============================] - 2s 2ms/step - loss: 5.5372 - accuracy: 0.8822 - val_loss: 5.4157 - val_accuracy: 0.8888\n",
            "Epoch 6/10\n",
            "1146/1146 [==============================] - 2s 2ms/step - loss: 5.3283 - accuracy: 0.8830 - val_loss: 4.8347 - val_accuracy: 0.8998\n",
            "Epoch 7/10\n",
            "1146/1146 [==============================] - 2s 2ms/step - loss: 5.2168 - accuracy: 0.8850 - val_loss: 4.8771 - val_accuracy: 0.8990\n",
            "Epoch 8/10\n",
            "1146/1146 [==============================] - 2s 2ms/step - loss: 5.1567 - accuracy: 0.8868 - val_loss: 7.0633 - val_accuracy: 0.8466\n",
            "Epoch 9/10\n",
            "1146/1146 [==============================] - 2s 2ms/step - loss: 5.0300 - accuracy: 0.8861 - val_loss: 5.5986 - val_accuracy: 0.8882\n",
            "Epoch 10/10\n",
            "1146/1146 [==============================] - 2s 2ms/step - loss: 5.1227 - accuracy: 0.8877 - val_loss: 6.2588 - val_accuracy: 0.8748\n",
            "573/573 [==============================] - 1s 2ms/step - loss: 7.3461 - accuracy: 0.8565\n",
            "Epoch 1/10\n",
            "1146/1146 [==============================] - 9s 7ms/step - loss: 0.3481 - accuracy: 0.9019 - val_loss: 0.5854 - val_accuracy: 0.9380\n",
            "Epoch 2/10\n",
            "1146/1146 [==============================] - 8s 7ms/step - loss: 0.2179 - accuracy: 0.9393 - val_loss: 0.4584 - val_accuracy: 0.9416\n",
            "Epoch 3/10\n",
            "1146/1146 [==============================] - 8s 7ms/step - loss: 0.1843 - accuracy: 0.9470 - val_loss: 0.5109 - val_accuracy: 0.9532\n",
            "Epoch 4/10\n",
            "1146/1146 [==============================] - 8s 7ms/step - loss: 0.1682 - accuracy: 0.9518 - val_loss: 0.5632 - val_accuracy: 0.9538\n",
            "Epoch 5/10\n",
            "1146/1146 [==============================] - 8s 7ms/step - loss: 0.1545 - accuracy: 0.9561 - val_loss: 0.7169 - val_accuracy: 0.9564\n",
            "Epoch 6/10\n",
            "1146/1146 [==============================] - 8s 7ms/step - loss: 0.1437 - accuracy: 0.9578 - val_loss: 0.8001 - val_accuracy: 0.9562\n",
            "Epoch 7/10\n",
            "1146/1146 [==============================] - 9s 7ms/step - loss: 0.1395 - accuracy: 0.9603 - val_loss: 1.4648 - val_accuracy: 0.9612\n",
            "Epoch 8/10\n",
            "1146/1146 [==============================] - 9s 8ms/step - loss: 0.1260 - accuracy: 0.9634 - val_loss: 0.7260 - val_accuracy: 0.9608\n",
            "Epoch 9/10\n",
            "1146/1146 [==============================] - 9s 7ms/step - loss: 0.1277 - accuracy: 0.9655 - val_loss: 0.9205 - val_accuracy: 0.9600\n",
            "Epoch 10/10\n",
            "1146/1146 [==============================] - 9s 8ms/step - loss: 0.1193 - accuracy: 0.9648 - val_loss: 0.9839 - val_accuracy: 0.9598\n",
            "573/573 [==============================] - 2s 3ms/step - loss: 1.4777 - accuracy: 0.9556\n",
            "Epoch 1/10\n",
            "1146/1146 [==============================] - 10s 8ms/step - loss: 0.3465 - accuracy: 0.9011 - val_loss: 0.3733 - val_accuracy: 0.9438\n",
            "Epoch 2/10\n",
            "1146/1146 [==============================] - 9s 8ms/step - loss: 0.2171 - accuracy: 0.9409 - val_loss: 0.8302 - val_accuracy: 0.9492\n",
            "Epoch 3/10\n",
            "1146/1146 [==============================] - 9s 8ms/step - loss: 0.1817 - accuracy: 0.9482 - val_loss: 0.5434 - val_accuracy: 0.9544\n",
            "Epoch 4/10\n",
            "1146/1146 [==============================] - 9s 8ms/step - loss: 0.1626 - accuracy: 0.9532 - val_loss: 0.5260 - val_accuracy: 0.9490\n",
            "Epoch 5/10\n",
            "1146/1146 [==============================] - 9s 8ms/step - loss: 0.1488 - accuracy: 0.9574 - val_loss: 0.7855 - val_accuracy: 0.9586\n",
            "Epoch 6/10\n",
            "1146/1146 [==============================] - 9s 8ms/step - loss: 0.1420 - accuracy: 0.9604 - val_loss: 0.6723 - val_accuracy: 0.9596\n",
            "Epoch 7/10\n",
            "1146/1146 [==============================] - 9s 7ms/step - loss: 0.1331 - accuracy: 0.9617 - val_loss: 0.4165 - val_accuracy: 0.9600\n",
            "Epoch 8/10\n",
            "1146/1146 [==============================] - 9s 8ms/step - loss: 0.1290 - accuracy: 0.9628 - val_loss: 0.5561 - val_accuracy: 0.9540\n",
            "Epoch 9/10\n",
            "1146/1146 [==============================] - 9s 8ms/step - loss: 0.1245 - accuracy: 0.9642 - val_loss: 0.6843 - val_accuracy: 0.9564\n",
            "Epoch 10/10\n",
            "1146/1146 [==============================] - 9s 8ms/step - loss: 0.1198 - accuracy: 0.9659 - val_loss: 0.7400 - val_accuracy: 0.9572\n",
            "573/573 [==============================] - 2s 3ms/step - loss: 0.7988 - accuracy: 0.9561\n",
            "Epoch 1/10\n",
            "1146/1146 [==============================] - 9s 8ms/step - loss: 0.3500 - accuracy: 0.9012 - val_loss: 0.8150 - val_accuracy: 0.9396\n",
            "Epoch 2/10\n",
            "1146/1146 [==============================] - 9s 7ms/step - loss: 0.2256 - accuracy: 0.9371 - val_loss: 0.6705 - val_accuracy: 0.9540\n",
            "Epoch 3/10\n",
            "1146/1146 [==============================] - 8s 7ms/step - loss: 0.1824 - accuracy: 0.9475 - val_loss: 0.6322 - val_accuracy: 0.9520\n",
            "Epoch 4/10\n",
            "1146/1146 [==============================] - 8s 7ms/step - loss: 0.1625 - accuracy: 0.9538 - val_loss: 0.5962 - val_accuracy: 0.9554\n",
            "Epoch 5/10\n",
            "1146/1146 [==============================] - 9s 8ms/step - loss: 0.1526 - accuracy: 0.9567 - val_loss: 0.6773 - val_accuracy: 0.9562\n",
            "Epoch 6/10\n",
            "1146/1146 [==============================] - 8s 7ms/step - loss: 0.1450 - accuracy: 0.9592 - val_loss: 0.8719 - val_accuracy: 0.9570\n",
            "Epoch 7/10\n",
            "1146/1146 [==============================] - 8s 7ms/step - loss: 0.1366 - accuracy: 0.9606 - val_loss: 0.9631 - val_accuracy: 0.9574\n",
            "Epoch 8/10\n",
            "1146/1146 [==============================] - 8s 7ms/step - loss: 0.1252 - accuracy: 0.9645 - val_loss: 1.0556 - val_accuracy: 0.9546\n",
            "Epoch 9/10\n",
            "1146/1146 [==============================] - 9s 7ms/step - loss: 0.1256 - accuracy: 0.9642 - val_loss: 0.7826 - val_accuracy: 0.9566\n",
            "Epoch 10/10\n",
            "1146/1146 [==============================] - 9s 8ms/step - loss: 0.1174 - accuracy: 0.9655 - val_loss: 0.7116 - val_accuracy: 0.9538\n",
            "573/573 [==============================] - 2s 3ms/step - loss: 0.9887 - accuracy: 0.9573\n",
            "Epoch 1/10\n",
            "1719/1719 [==============================] - 15s 8ms/step - loss: 0.3137 - accuracy: 0.9081 - val_loss: 0.5696 - val_accuracy: 0.9412\n",
            "Epoch 2/10\n",
            "1719/1719 [==============================] - 14s 8ms/step - loss: 0.1894 - accuracy: 0.9451 - val_loss: 0.5600 - val_accuracy: 0.9516\n",
            "Epoch 3/10\n",
            "1719/1719 [==============================] - 14s 8ms/step - loss: 0.1516 - accuracy: 0.9566 - val_loss: 0.4201 - val_accuracy: 0.9584\n",
            "Epoch 4/10\n",
            "1719/1719 [==============================] - 14s 8ms/step - loss: 0.1296 - accuracy: 0.9623 - val_loss: 0.6329 - val_accuracy: 0.9600\n",
            "Epoch 5/10\n",
            "1719/1719 [==============================] - 14s 8ms/step - loss: 0.1185 - accuracy: 0.9660 - val_loss: 0.6727 - val_accuracy: 0.9640\n",
            "Epoch 6/10\n",
            "1719/1719 [==============================] - 14s 8ms/step - loss: 0.1090 - accuracy: 0.9676 - val_loss: 0.6783 - val_accuracy: 0.9664\n",
            "Epoch 7/10\n",
            "1719/1719 [==============================] - 14s 8ms/step - loss: 0.1012 - accuracy: 0.9699 - val_loss: 0.9508 - val_accuracy: 0.9660\n",
            "Epoch 8/10\n",
            "1719/1719 [==============================] - 14s 8ms/step - loss: 0.0956 - accuracy: 0.9720 - val_loss: 0.6415 - val_accuracy: 0.9676\n",
            "Epoch 9/10\n",
            "1719/1719 [==============================] - 14s 8ms/step - loss: 0.0901 - accuracy: 0.9728 - val_loss: 0.7648 - val_accuracy: 0.9650\n",
            "Epoch 10/10\n",
            "1719/1719 [==============================] - 14s 8ms/step - loss: 0.0871 - accuracy: 0.9740 - val_loss: 0.8731 - val_accuracy: 0.9652\n"
          ]
        },
        {
          "output_type": "execute_result",
          "data": {
            "text/plain": [
              "RandomizedSearchCV(cv=3,\n",
              "                   estimator=<keras.wrappers.scikit_learn.KerasClassifier object at 0x7f0ade80a1d0>,\n",
              "                   param_distributions={'learning_rate': array([0.0005, 0.001 , 0.0015]),\n",
              "                                        'n_hidden': [0, 1],\n",
              "                                        'n_neurons': array([300, 320, 340, 360, 380])})"
            ]
          },
          "metadata": {},
          "execution_count": 37
        }
      ]
    },
    {
      "cell_type": "code",
      "metadata": {
        "id": "AJ7iKGOwlmgQ",
        "colab": {
          "base_uri": "https://localhost:8080/"
        },
        "outputId": "8eb1ebae-4ecf-4be8-a310-bb2ba6259d52"
      },
      "source": [
        "print(rnd_search_cv.best_params_)\n",
        "print(rnd_search_cv.best_score_)"
      ],
      "execution_count": null,
      "outputs": [
        {
          "output_type": "stream",
          "name": "stdout",
          "text": [
            "{'n_neurons': 360, 'n_hidden': 1, 'learning_rate': 0.0005}\n",
            "0.9616727630297343\n"
          ]
        }
      ]
    },
    {
      "cell_type": "code",
      "metadata": {
        "id": "mkfyYPkxIaD7"
      },
      "source": [
        "model_best = rnd_search_cv.best_estimator_.model"
      ],
      "execution_count": null,
      "outputs": []
    },
    {
      "cell_type": "code",
      "metadata": {
        "colab": {
          "base_uri": "https://localhost:8080/",
          "height": 132
        },
        "id": "v9YgRjQCJubz",
        "outputId": "3778a6ba-e1df-4934-ebd3-bdd849d850c1"
      },
      "source": [
        "history_best = model_best.fit(X_train, y_train, validation_data=(X_valid, y_valid), batch_size=100. epochs=10)"
      ],
      "execution_count": null,
      "outputs": [
        {
          "output_type": "error",
          "ename": "SyntaxError",
          "evalue": "ignored",
          "traceback": [
            "\u001b[0;36m  File \u001b[0;32m\"<ipython-input-86-2f6bf8d65fad>\"\u001b[0;36m, line \u001b[0;32m1\u001b[0m\n\u001b[0;31m    history_best = model_best.fit(X_train, y_train, validation_data=(X_valid, y_valid), batch_size=100. epochs=10)\u001b[0m\n\u001b[0m                                                                                                             ^\u001b[0m\n\u001b[0;31mSyntaxError\u001b[0m\u001b[0;31m:\u001b[0m invalid syntax\n"
          ]
        }
      ]
    },
    {
      "cell_type": "code",
      "metadata": {
        "colab": {
          "base_uri": "https://localhost:8080/"
        },
        "id": "p44UU1QwIc5S",
        "outputId": "a43cf1f1-9b1a-4e7f-8863-c48ac1cd19bf"
      },
      "source": [
        "score_best = model_best.evaluate(X_test, y_test, verbose=0)\n",
        "print('Test loss is:', score_best[0])\n",
        "print(\"Test accuracy is:\", score_best[1])"
      ],
      "execution_count": null,
      "outputs": [
        {
          "output_type": "stream",
          "name": "stdout",
          "text": [
            "Test loss is: 1279.1053466796875\n",
            "Test accuracy is: 0.14550000429153442\n"
          ]
        }
      ]
    }
  ]
}