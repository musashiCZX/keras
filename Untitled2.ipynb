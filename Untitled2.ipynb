{
  "nbformat": 4,
  "nbformat_minor": 0,
  "metadata": {
    "colab": {
      "name": "Untitled2.ipynb",
      "provenance": [],
      "collapsed_sections": [],
      "toc_visible": true,
      "authorship_tag": "ABX9TyOfDpDppd2rT5R0ltCPeS++",
      "include_colab_link": true
    },
    "kernelspec": {
      "display_name": "Python 3",
      "name": "python3"
    },
    "language_info": {
      "name": "python"
    }
  },
  "cells": [
    {
      "cell_type": "markdown",
      "metadata": {
        "id": "view-in-github",
        "colab_type": "text"
      },
      "source": [
        "<a href=\"https://colab.research.google.com/github/musashiCZX/keras/blob/master/Untitled2.ipynb\" target=\"_parent\"><img src=\"https://colab.research.google.com/assets/colab-badge.svg\" alt=\"Open In Colab\"/></a>"
      ]
    },
    {
      "cell_type": "code",
      "metadata": {
        "id": "1i6txfKlgL33",
        "colab": {
          "resources": {
            "http://localhost:8080/nbextensions/google.colab/files.js": {
              "data": "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",
              "ok": true,
              "headers": [
                [
                  "content-type",
                  "application/javascript"
                ]
              ],
              "status": 200,
              "status_text": ""
            }
          },
          "base_uri": "https://localhost:8080/",
          "height": 40
        },
        "cellView": "form",
        "outputId": "cc5daf09-5a75-4b72-a440-908ff9023f67"
      },
      "source": [
        "#@title Report of Assignment 1\n",
        "\n",
        "from google.colab import files\n",
        "import pandas as pd\n",
        "import numpy as np\n",
        "from sklearn.decomposition import PCA\n",
        "from sklearn import preprocessing \n",
        "import matplotlib.pyplot as plt\n",
        "from sklearn.manifold import TSNE\n",
        "import io\n",
        "from sklearn.manifold import LocallyLinearEmbedding\n",
        "import matplotlib.colors as mcolors\n",
        "from sklearn.metrics import classification_report, confusion_matrix\n",
        "from sklearn.neighbors import KNeighborsClassifier\n",
        "uploaded = files.upload()"
      ],
      "execution_count": 55,
      "outputs": [
        {
          "output_type": "display_data",
          "data": {
            "text/html": [
              "\n",
              "     <input type=\"file\" id=\"files-6219d6c4-1852-46fe-a24d-46408687bdab\" name=\"files[]\" multiple disabled\n",
              "        style=\"border:none\" />\n",
              "     <output id=\"result-6219d6c4-1852-46fe-a24d-46408687bdab\">\n",
              "      Upload widget is only available when the cell has been executed in the\n",
              "      current browser session. Please rerun this cell to enable.\n",
              "      </output>\n",
              "      <script src=\"/nbextensions/google.colab/files.js\"></script> "
            ],
            "text/plain": [
              "<IPython.core.display.HTML object>"
            ]
          },
          "metadata": {}
        }
      ]
    },
    {
      "cell_type": "code",
      "metadata": {
        "id": "_fzlt5-VswoR",
        "cellView": "form"
      },
      "source": [
        "#@title \n",
        "\n",
        "X_train = pd.read_csv (io.StringIO(uploaded['train_in.csv'].decode('utf-8')),sep = ',',header = None)\n",
        "X_test = pd.read_csv (io.StringIO(uploaded['test_in.csv'].decode('utf-8')),sep = ',',header = None)\n",
        "y_train = pd.read_csv (io.StringIO(uploaded['train_out.csv'].decode('utf-8')),sep = ',',header = None)\n",
        "y_test = pd.read_csv (io.StringIO(uploaded['test_out.csv'].decode('utf-8')),sep = ',',header = None)"
      ],
      "execution_count": 3,
      "outputs": []
    },
    {
      "cell_type": "code",
      "metadata": {
        "id": "ZjCGcqhyZc22"
      },
      "source": [
        ""
      ],
      "execution_count": 3,
      "outputs": []
    },
    {
      "cell_type": "markdown",
      "metadata": {
        "id": "_bydy_1hM7zI"
      },
      "source": [
        "#Task 1"
      ]
    },
    {
      "cell_type": "markdown",
      "metadata": {
        "id": "d12djxdLNDN2"
      },
      "source": [
        "##1.1 Distance-base method\n",
        "For the distance-base method, we group the data by the class and calculate the mean with respect to the columns. The aggregate data with 10 rows and 256 columns is the centers of each class. Then we classifier the observations to their closest center."
      ]
    },
    {
      "cell_type": "code",
      "metadata": {
        "id": "ukBH7uj8zSFk",
        "cellView": "form"
      },
      "source": [
        "#@title\n",
        "train_complete = pd.concat([X_train.reset_index(drop = True),y_train.reset_index(drop = True)],axis = 1)"
      ],
      "execution_count": 4,
      "outputs": []
    },
    {
      "cell_type": "code",
      "metadata": {
        "id": "-y1C7qRI6b-t",
        "cellView": "form"
      },
      "source": [
        "#@title\n",
        "train_complete.columns = ['Line ' + str(i) for i in range(train_complete.shape[1] - 1)] + ['Group']\n",
        "#train_complete.columns[train_complete.shape[1]] = 'Group'\n",
        "#train_complete.set_index('256', inplace = True)"
      ],
      "execution_count": 5,
      "outputs": []
    },
    {
      "cell_type": "code",
      "metadata": {
        "id": "6iFdB5GtcruP",
        "cellView": "form"
      },
      "source": [
        "#@title\n",
        "def distance(x, y):\n",
        "  return np.sqrt(np.sum([(x[i] - y[i])**2 for i in range(len(x))]))"
      ],
      "execution_count": 6,
      "outputs": []
    },
    {
      "cell_type": "code",
      "metadata": {
        "id": "1YSgo4TWdFQe",
        "cellView": "form"
      },
      "source": [
        "#@title\n",
        "Centers = pd.DataFrame()"
      ],
      "execution_count": 7,
      "outputs": []
    },
    {
      "cell_type": "code",
      "metadata": {
        "id": "rlA8EUzreBzX",
        "cellView": "form"
      },
      "source": [
        "#@title\n",
        "for i in range(10):\n",
        "  subdata = train_complete[train_complete['Group'] == i]\n",
        "  Centers[i] = subdata.apply(np.mean, 0)"
      ],
      "execution_count": 8,
      "outputs": []
    },
    {
      "cell_type": "markdown",
      "metadata": {
        "id": "9qxa6iZkaQl1"
      },
      "source": [
        "We calculate the centers for each group and visulize them."
      ]
    },
    {
      "cell_type": "code",
      "metadata": {
        "cellView": "form",
        "id": "l_32PtTwaOhx"
      },
      "source": [
        "#@title\n",
        "for i in range(10):\n",
        "    plt.imshow(Centers.values[i].reshape(16,16),cmap='gray')\n",
        "    plt.show()"
      ],
      "execution_count": null,
      "outputs": []
    },
    {
      "cell_type": "markdown",
      "metadata": {
        "id": "KU1XQvtNax3J"
      },
      "source": [
        "Then we calculate the Euclidean distance for each pair of centers. And we expect the pair with the smallest distance are the most difficult to recogonize. In this case, they are digit 7 and 9."
      ]
    },
    {
      "cell_type": "code",
      "metadata": {
        "id": "6apC9IhOerMX",
        "cellView": "form"
      },
      "source": [
        "#@title\n",
        "distance_centers = np.zeros(shape = (10, 10))\n",
        "closest_groups = []\n",
        "min_distance = 10**22\n",
        "for i in range(9):\n",
        "  for j in range(i + 1, 10):\n",
        "    distance_centers[i,j] = distance_centers[j,i] = np.sqrt(np.sum((Centers[i] - Centers[j])**2))\n",
        "    if distance_centers[i,j] < min_distance:\n",
        "      min_distance = distance_centers[i,j]\n",
        "      closest_groups = [i,j]"
      ],
      "execution_count": 9,
      "outputs": []
    },
    {
      "cell_type": "code",
      "metadata": {
        "id": "duDqfyQCe2O8",
        "colab": {
          "base_uri": "https://localhost:8080/",
          "height": 0
        },
        "cellView": "form",
        "outputId": "3ab5cf20-4638-44e5-b0a7-9ab1a5a55b7e"
      },
      "source": [
        "#@title\n",
        "print('The closest group pair is:', closest_groups)"
      ],
      "execution_count": 10,
      "outputs": [
        {
          "output_type": "stream",
          "name": "stdout",
          "text": [
            "The closest group pair is: [7, 9]\n"
          ]
        }
      ]
    },
    {
      "cell_type": "markdown",
      "metadata": {
        "id": "fpIJhQrCj0EH"
      },
      "source": [
        "Hence, we make the assumption that the digit '7' and '9' are the most difficult pairs to recogonize."
      ]
    },
    {
      "cell_type": "markdown",
      "metadata": {
        "id": "fZnXZuKMbmic"
      },
      "source": [
        "##Dimension Reduction and Visulisation Methods"
      ]
    },
    {
      "cell_type": "markdown",
      "metadata": {
        "id": "P464cQnEbwd6"
      },
      "source": [
        "We apply the PCA, LLE, and t-SNE methods to curve the observations to check our hypothesis. For easy visulization, we choose 2 dimension for all methods.  "
      ]
    },
    {
      "cell_type": "markdown",
      "metadata": {
        "id": "A2FnPwUWNIce"
      },
      "source": [
        "###PCA"
      ]
    },
    {
      "cell_type": "markdown",
      "metadata": {
        "id": "1hd1M9pmc8wj"
      },
      "source": [
        "PCA is a classical dimension reduction method bases on matrix decomposition."
      ]
    },
    {
      "cell_type": "code",
      "metadata": {
        "cellView": "form",
        "id": "YcZUnGRfZv_5"
      },
      "source": [
        "#@title\n",
        "\n",
        "colors = list(mcolors.TABLEAU_COLORS) ##Some preparation."
      ],
      "execution_count": 58,
      "outputs": []
    },
    {
      "cell_type": "code",
      "metadata": {
        "id": "F9xIciqcrRnB",
        "cellView": "form"
      },
      "source": [
        "#@title\n",
        "pca = PCA(n_components=2)\n",
        "pca.fit(X_train)\n",
        "pca_data = pca.transform(X_train)"
      ],
      "execution_count": 12,
      "outputs": []
    },
    {
      "cell_type": "code",
      "metadata": {
        "id": "KU9Ntylg0Vop",
        "cellView": "form"
      },
      "source": [
        "#@title\n",
        "per_var = np.round(pca.explained_variance_ratio_*100,decimals = 1)"
      ],
      "execution_count": 13,
      "outputs": []
    },
    {
      "cell_type": "code",
      "metadata": {
        "id": "LHMrKvdZ0ntY",
        "cellView": "form"
      },
      "source": [
        "#@title\n",
        "labels = ['PC'+str(x) for x in range(1,len(per_var)+1)]"
      ],
      "execution_count": 14,
      "outputs": []
    },
    {
      "cell_type": "markdown",
      "metadata": {
        "id": "JlpRGVDcdgtZ"
      },
      "source": [
        "For the normal PCA, we need the scree plot to select the optimal dimension we need base on the explained variance. In this case, although the first two principle components only explain less than 30% of the variance, we choose two dimension to curve the data as it is clear."
      ]
    },
    {
      "cell_type": "code",
      "metadata": {
        "colab": {
          "base_uri": "https://localhost:8080/",
          "height": 295
        },
        "id": "zImBnCaQ3Tj3",
        "cellView": "form",
        "outputId": "1454d7c5-cfec-400a-f63c-b9133e94e6a0"
      },
      "source": [
        "#@title\n",
        "plt.bar(x = range(1,len(per_var)+1), height = per_var, tick_label = labels)\n",
        "plt.ylabel('Percentage of Explained variance')\n",
        "plt.xlabel('Principle components')\n",
        "plt.title('Two dimensions')\n",
        "plt.show()"
      ],
      "execution_count": 15,
      "outputs": [
        {
          "output_type": "display_data",
          "data": {
            "image/png": "[encoded data removed]",
            "text/plain": [
              "<Figure size 432x288 with 1 Axes>"
            ]
          },
          "metadata": {
            "needs_background": "light"
          }
        }
      ]
    },
    {
      "cell_type": "code",
      "metadata": {
        "id": "iUs1cS_r4zXK",
        "cellView": "form"
      },
      "source": [
        "#@title\n",
        "pca.df = pd.DataFrame(pca_data, columns = labels)"
      ],
      "execution_count": 16,
      "outputs": []
    },
    {
      "cell_type": "code",
      "metadata": {
        "id": "5WUVpyEg5VkK",
        "cellView": "form"
      },
      "source": [
        "#@title\n",
        "pca_complete_data = pd.concat([pca.df, y_train], axis = 1)\n",
        "pca_complete_data = pca_complete_data.rename({0:'outcome'}, axis = 'columns')\n",
        "#pca_complete_data.set_index(0,inplace = True)"
      ],
      "execution_count": 17,
      "outputs": []
    },
    {
      "cell_type": "code",
      "metadata": {
        "colab": {
          "base_uri": "https://localhost:8080/",
          "height": 205
        },
        "id": "sbPGx3bZGZSm",
        "cellView": "form",
        "outputId": "9bdfd1d4-786b-436e-aa2b-3715bd1a026e"
      },
      "source": [
        "#@title\n",
        "pca_complete_data.head()\n"
      ],
      "execution_count": 57,
      "outputs": [
        {
          "output_type": "execute_result",
          "data": {
            "text/html": [
              "<div>\n",
              "<style scoped>\n",
              "    .dataframe tbody tr th:only-of-type {\n",
              "        vertical-align: middle;\n",
              "    }\n",
              "\n",
              "    .dataframe tbody tr th {\n",
              "        vertical-align: top;\n",
              "    }\n",
              "\n",
              "    .dataframe thead th {\n",
              "        text-align: right;\n",
              "    }\n",
              "</style>\n",
              "<table border=\"1\" class=\"dataframe\">\n",
              "  <thead>\n",
              "    <tr style=\"text-align: right;\">\n",
              "      <th></th>\n",
              "      <th>PC1</th>\n",
              "      <th>PC2</th>\n",
              "      <th>outcome</th>\n",
              "    </tr>\n",
              "  </thead>\n",
              "  <tbody>\n",
              "    <tr>\n",
              "      <th>0</th>\n",
              "      <td>4.811395</td>\n",
              "      <td>-5.657780</td>\n",
              "      <td>6</td>\n",
              "    </tr>\n",
              "    <tr>\n",
              "      <th>1</th>\n",
              "      <td>6.619904</td>\n",
              "      <td>-1.025009</td>\n",
              "      <td>5</td>\n",
              "    </tr>\n",
              "    <tr>\n",
              "      <th>2</th>\n",
              "      <td>1.032756</td>\n",
              "      <td>2.203029</td>\n",
              "      <td>4</td>\n",
              "    </tr>\n",
              "    <tr>\n",
              "      <th>3</th>\n",
              "      <td>-2.485330</td>\n",
              "      <td>6.425832</td>\n",
              "      <td>7</td>\n",
              "    </tr>\n",
              "    <tr>\n",
              "      <th>4</th>\n",
              "      <td>2.261413</td>\n",
              "      <td>0.340733</td>\n",
              "      <td>3</td>\n",
              "    </tr>\n",
              "  </tbody>\n",
              "</table>\n",
              "</div>"
            ],
            "text/plain": [
              "        PC1       PC2  outcome\n",
              "0  4.811395 -5.657780        6\n",
              "1  6.619904 -1.025009        5\n",
              "2  1.032756  2.203029        4\n",
              "3 -2.485330  6.425832        7\n",
              "4  2.261413  0.340733        3"
            ]
          },
          "metadata": {},
          "execution_count": 57
        }
      ]
    },
    {
      "cell_type": "markdown",
      "metadata": {
        "id": "U5S8hD_zcQAt"
      },
      "source": [
        "The scatter plot of the observations is:"
      ]
    },
    {
      "cell_type": "code",
      "metadata": {
        "colab": {
          "base_uri": "https://localhost:8080/",
          "height": 265
        },
        "id": "lDPcmpBR51wm",
        "cellView": "form",
        "outputId": "0638cef0-d5eb-4884-b20b-22752e89aa7d"
      },
      "source": [
        "#@title\n",
        "fig_pca, ax_pca = plt.subplots()\n",
        "for i in range(10):\n",
        "  pca_temp = pca_complete_data[pca_complete_data['outcome'] == i]\n",
        "  ax_pca.scatter(x = pca_temp.PC1, y = pca_temp.PC2, c = colors[i], alpha = 0.7, label = 'number'+str(i))\n",
        "ax_pca.legend()\n",
        "ax_pca.grid(True)\n",
        "\n",
        "plt.show()"
      ],
      "execution_count": 19,
      "outputs": [
        {
          "output_type": "display_data",
          "data": {
            "image/png": "[encoded data removed]",
            "text/plain": [
              "<Figure size 432x288 with 1 Axes>"
            ]
          },
          "metadata": {
            "needs_background": "light"
          }
        }
      ]
    },
    {
      "cell_type": "markdown",
      "metadata": {
        "id": "H0It5Lh5evMw"
      },
      "source": [
        "From the plot, no clear clusters and boundary exist. For the digit 7 and digit 9, they mix at the topleft. (The light blue is 9 and the grey is 7)"
      ]
    },
    {
      "cell_type": "markdown",
      "metadata": {
        "id": "Wsud-ADkNNIT"
      },
      "source": [
        "##LLE\n",
        "\n"
      ]
    },
    {
      "cell_type": "code",
      "metadata": {
        "id": "hyCxIOG1Gngf",
        "cellView": "form"
      },
      "source": [
        "#@title\n",
        "data_lle = pd.concat([pd.DataFrame(LocallyLinearEmbedding(n_components=2, n_neighbors = 30).fit_transform(X_train)), y_train], axis = 1)"
      ],
      "execution_count": 20,
      "outputs": []
    },
    {
      "cell_type": "code",
      "metadata": {
        "cellView": "form",
        "id": "uz8MsMr_jJEk"
      },
      "source": [
        "#@title\n",
        "data_lle.columns = ['item1', 'item2', 'outcome']"
      ],
      "execution_count": 21,
      "outputs": []
    },
    {
      "cell_type": "code",
      "metadata": {
        "colab": {
          "base_uri": "https://localhost:8080/",
          "height": 422
        },
        "id": "so0QBxZ7Re0i",
        "cellView": "form",
        "outputId": "e50e0d26-9234-4441-a334-c932687c3c68"
      },
      "source": [
        "#@title\n",
        "data_lle"
      ],
      "execution_count": 22,
      "outputs": [
        {
          "output_type": "execute_result",
          "data": {
            "text/html": [
              "<div>\n",
              "<style scoped>\n",
              "    .dataframe tbody tr th:only-of-type {\n",
              "        vertical-align: middle;\n",
              "    }\n",
              "\n",
              "    .dataframe tbody tr th {\n",
              "        vertical-align: top;\n",
              "    }\n",
              "\n",
              "    .dataframe thead th {\n",
              "        text-align: right;\n",
              "    }\n",
              "</style>\n",
              "<table border=\"1\" class=\"dataframe\">\n",
              "  <thead>\n",
              "    <tr style=\"text-align: right;\">\n",
              "      <th></th>\n",
              "      <th>item1</th>\n",
              "      <th>item2</th>\n",
              "      <th>outcome</th>\n",
              "    </tr>\n",
              "  </thead>\n",
              "  <tbody>\n",
              "    <tr>\n",
              "      <th>0</th>\n",
              "      <td>-0.011719</td>\n",
              "      <td>-0.004901</td>\n",
              "      <td>6</td>\n",
              "    </tr>\n",
              "    <tr>\n",
              "      <th>1</th>\n",
              "      <td>-0.011371</td>\n",
              "      <td>-0.011900</td>\n",
              "      <td>5</td>\n",
              "    </tr>\n",
              "    <tr>\n",
              "      <th>2</th>\n",
              "      <td>-0.019179</td>\n",
              "      <td>0.001358</td>\n",
              "      <td>4</td>\n",
              "    </tr>\n",
              "    <tr>\n",
              "      <th>3</th>\n",
              "      <td>0.006054</td>\n",
              "      <td>-0.013983</td>\n",
              "      <td>7</td>\n",
              "    </tr>\n",
              "    <tr>\n",
              "      <th>4</th>\n",
              "      <td>-0.005621</td>\n",
              "      <td>-0.011793</td>\n",
              "      <td>3</td>\n",
              "    </tr>\n",
              "    <tr>\n",
              "      <th>...</th>\n",
              "      <td>...</td>\n",
              "      <td>...</td>\n",
              "      <td>...</td>\n",
              "    </tr>\n",
              "    <tr>\n",
              "      <th>1702</th>\n",
              "      <td>0.005526</td>\n",
              "      <td>0.037372</td>\n",
              "      <td>8</td>\n",
              "    </tr>\n",
              "    <tr>\n",
              "      <th>1703</th>\n",
              "      <td>0.009273</td>\n",
              "      <td>-0.007658</td>\n",
              "      <td>9</td>\n",
              "    </tr>\n",
              "    <tr>\n",
              "      <th>1704</th>\n",
              "      <td>0.008241</td>\n",
              "      <td>-0.012453</td>\n",
              "      <td>7</td>\n",
              "    </tr>\n",
              "    <tr>\n",
              "      <th>1705</th>\n",
              "      <td>-0.002342</td>\n",
              "      <td>-0.009934</td>\n",
              "      <td>9</td>\n",
              "    </tr>\n",
              "    <tr>\n",
              "      <th>1706</th>\n",
              "      <td>-0.010722</td>\n",
              "      <td>0.010589</td>\n",
              "      <td>8</td>\n",
              "    </tr>\n",
              "  </tbody>\n",
              "</table>\n",
              "<p>1707 rows × 3 columns</p>\n",
              "</div>"
            ],
            "text/plain": [
              "         item1     item2  outcome\n",
              "0    -0.011719 -0.004901        6\n",
              "1    -0.011371 -0.011900        5\n",
              "2    -0.019179  0.001358        4\n",
              "3     0.006054 -0.013983        7\n",
              "4    -0.005621 -0.011793        3\n",
              "...        ...       ...      ...\n",
              "1702  0.005526  0.037372        8\n",
              "1703  0.009273 -0.007658        9\n",
              "1704  0.008241 -0.012453        7\n",
              "1705 -0.002342 -0.009934        9\n",
              "1706 -0.010722  0.010589        8\n",
              "\n",
              "[1707 rows x 3 columns]"
            ]
          },
          "metadata": {},
          "execution_count": 22
        }
      ]
    },
    {
      "cell_type": "code",
      "metadata": {
        "colab": {
          "base_uri": "https://localhost:8080/",
          "height": 266
        },
        "id": "1noPit3OR_19",
        "outputId": "d5068168-24fd-4ec0-f74a-025239a361cd"
      },
      "source": [
        "fig_lle, ax_lle = plt.subplots()\n",
        "for i in range(10):\n",
        "  lle_temp = data_lle[data_lle['outcome'] == i]\n",
        "  ax_lle.scatter(x = lle_temp.item1, y = lle_temp.item2, c = colors[i], alpha = 0.7, label = 'number'+str(i))\n",
        "ax_lle.legend()\n",
        "ax_lle.grid(True)\n",
        "\n",
        "plt.show()"
      ],
      "execution_count": 23,
      "outputs": [
        {
          "output_type": "display_data",
          "data": {
            "image/png": "[encoded data removed]",
            "text/plain": [
              "<Figure size 432x288 with 1 Axes>"
            ]
          },
          "metadata": {
            "needs_background": "light"
          }
        }
      ]
    },
    {
      "cell_type": "markdown",
      "metadata": {
        "id": "2R0A9pTIToYU"
      },
      "source": [
        "##T-SNE"
      ]
    },
    {
      "cell_type": "code",
      "metadata": {
        "id": "LNkx_7UqTq4u"
      },
      "source": [
        "tsne = TSNE(n_components=2)\n",
        "data_tsne = pd.concat([pd.DataFrame(tsne.fit_transform(X_train)), y_train], axis = 1)\n",
        "data_tsne.columns = ['item1', 'item2', 'outcome']"
      ],
      "execution_count": 24,
      "outputs": []
    },
    {
      "cell_type": "code",
      "metadata": {
        "colab": {
          "base_uri": "https://localhost:8080/",
          "height": 268
        },
        "id": "j_zPFZD_lopO",
        "outputId": "8830cde0-ab65-40fa-c8b6-8fc6dad70cad"
      },
      "source": [
        "fig_tsne, ax_tsne = plt.subplots()\n",
        "for i in range(10):\n",
        "  tsne_temp = data_tsne[data_tsne['outcome'] == i]\n",
        "  ax_tsne.scatter(x = tsne_temp.item1, y = tsne_temp.item2, c = colors[i], alpha = 0.7, label = 'number'+str(i))\n",
        "ax_tsne.legend()\n",
        "ax_tsne.grid(True)\n",
        "\n",
        "plt.show()"
      ],
      "execution_count": 25,
      "outputs": [
        {
          "output_type": "display_data",
          "data": {
            "image/png": "[encoded data removed]",
            "text/plain": [
              "<Figure size 432x288 with 1 Axes>"
            ]
          },
          "metadata": {
            "needs_background": "light"
          }
        }
      ]
    },
    {
      "cell_type": "markdown",
      "metadata": {
        "id": "wp45pqb6nHy2"
      },
      "source": [
        "The PCA and LLE poorly perform on the classification. The T-SNE method assigns the pictures into clear clusters. From all the threes methods. Class 7 and Class 9 are the closest pairs. Therefore the result follows our hypothesis confidently. "
      ]
    },
    {
      "cell_type": "markdown",
      "metadata": {
        "id": "2L30XoEZoMv0"
      },
      "source": [
        "Then let's try to compare the distance-base classifier and KNN."
      ]
    },
    {
      "cell_type": "code",
      "metadata": {
        "id": "TCSGNHu3oXvy"
      },
      "source": [
        "class distance_classifier:\n",
        "  def fit(train_data, train_outcome):\n",
        "    temp_data = pd.concat([train_data, train_outcome], axis = 1)\n",
        "    cname = []\n",
        "    for i in range(train_data.shape[1]):\n",
        "      cname.append('item'+str(i + 1))\n",
        "    cname += ['outcome']\n",
        "    temp_data.columns = cname\n",
        "    centers = temp_data.groupby('outcome').mean()\n",
        "    return centers\n",
        "  def predict(data_test, centers):\n",
        "    number_center = centers.shape[0]\n",
        "    number_obs = data_test.shape[0]\n",
        "    assigned_class = []\n",
        "    for i in range(number_obs):\n",
        "      dist_temp = 10**22\n",
        "      assign = 3254234567\n",
        "      for j in range(number_center):\n",
        "        dist = distance(data_test.iloc[i], centers.iloc[j])\n",
        "        if dist_temp > dist:\n",
        "          dist_temp = dist\n",
        "          assign = j\n",
        "\n",
        "      assigned_class.append(assign)\n",
        "    return pd.DataFrame(assigned_class, columns = ['prediction'])"
      ],
      "execution_count": 26,
      "outputs": []
    },
    {
      "cell_type": "code",
      "metadata": {
        "id": "OPb7CK4Hu9vl"
      },
      "source": [
        "Centers = distance_classifier.fit(train_data = X_train, train_outcome = y_train)\n",
        "Prediction = distance_classifier.predict(data_test = X_test, centers = Centers)"
      ],
      "execution_count": 27,
      "outputs": []
    },
    {
      "cell_type": "markdown",
      "metadata": {
        "id": "JrjzYaLlI-_s"
      },
      "source": [
        "Here we can visulize the plot of the centers."
      ]
    },
    {
      "cell_type": "code",
      "metadata": {
        "colab": {
          "base_uri": "https://localhost:8080/",
          "height": 2497
        },
        "id": "ym2l3Gix8dGA",
        "outputId": "18a2be1d-ee99-44fd-fb9f-100143067a6a"
      },
      "source": [
        "for i in range(10):\n",
        "    plt.imshow(Centers.values[i].reshape(16,16),cmap='gray')\n",
        "    plt.show()"
      ],
      "execution_count": 28,
      "outputs": [
        {
          "output_type": "display_data",
          "data": {
            "image/png": "[encoded data removed]",
            "text/plain": [
              "<Figure size 432x288 with 1 Axes>"
            ]
          },
          "metadata": {
            "needs_background": "light"
          }
        },
        {
          "output_type": "display_data",
          "data": {
            "image/png": "[encoded data removed]",
            "text/plain": [
              "<Figure size 432x288 with 1 Axes>"
            ]
          },
          "metadata": {
            "needs_background": "light"
          }
        },
        {
          "output_type": "display_data",
          "data": {
            "image/png": "[encoded data removed]",
            "text/plain": [
              "<Figure size 432x288 with 1 Axes>"
            ]
          },
          "metadata": {
            "needs_background": "light"
          }
        },
        {
          "output_type": "display_data",
          "data": {
            "image/png": "[encoded data removed]",
            "text/plain": [
              "<Figure size 432x288 with 1 Axes>"
            ]
          },
          "metadata": {
            "needs_background": "light"
          }
        },
        {
          "output_type": "display_data",
          "data": {
            "image/png": "[encoded data removed]",
            "text/plain": [
              "<Figure size 432x288 with 1 Axes>"
            ]
          },
          "metadata": {
            "needs_background": "light"
          }
        },
        {
          "output_type": "display_data",
          "data": {
            "image/png": "[encoded data removed]",
            "text/plain": [
              "<Figure size 432x288 with 1 Axes>"
            ]
          },
          "metadata": {
            "needs_background": "light"
          }
        },
        {
          "output_type": "display_data",
          "data": {
            "image/png": "[encoded data removed]",
            "text/plain": [
              "<Figure size 432x288 with 1 Axes>"
            ]
          },
          "metadata": {
            "needs_background": "light"
          }
        },
        {
          "output_type": "display_data",
          "data": {
            "image/png": "[encoded data removed]",
            "text/plain": [
              "<Figure size 432x288 with 1 Axes>"
            ]
          },
          "metadata": {
            "needs_background": "light"
          }
        },
        {
          "output_type": "display_data",
          "data": {
            "image/png": "[encoded data removed]",
            "text/plain": [
              "<Figure size 432x288 with 1 Axes>"
            ]
          },
          "metadata": {
            "needs_background": "light"
          }
        },
        {
          "output_type": "display_data",
          "data": {
            "image/png": "[encoded data removed]",
            "text/plain": [
              "<Figure size 432x288 with 1 Axes>"
            ]
          },
          "metadata": {
            "needs_background": "light"
          }
        }
      ]
    },
    {
      "cell_type": "markdown",
      "metadata": {
        "id": "xjoXK8OoJUdG"
      },
      "source": [
        "Next we apply KNN to the data."
      ]
    },
    {
      "cell_type": "code",
      "metadata": {
        "id": "zhIKjdxOJXz9"
      },
      "source": [
        "error = []\n",
        "for i in range(1, 40):\n",
        "    knn = KNeighborsClassifier(n_neighbors=i)\n",
        "    knn.fit(X_train, y_train.values.reshape(1707,))\n",
        "    pred_i = knn.predict(X_test)\n",
        "    error.append(np.mean(pred_i.reshape(1000,1) != y_test.values))"
      ],
      "execution_count": 29,
      "outputs": []
    },
    {
      "cell_type": "code",
      "metadata": {
        "colab": {
          "base_uri": "https://localhost:8080/",
          "height": 0
        },
        "id": "lYGcPb_0KZzL",
        "outputId": "cf73080b-6402-4baa-e6c9-8446797ebafa"
      },
      "source": [
        "best_neighbor = np.where(error == min(error))[0][0] + 1   \n",
        "print('The best neighbor parameter is:',best_neighbor)"
      ],
      "execution_count": 30,
      "outputs": [
        {
          "output_type": "stream",
          "name": "stdout",
          "text": [
            "The best neighbor parameter is: 1\n"
          ]
        }
      ]
    },
    {
      "cell_type": "code",
      "metadata": {
        "id": "_gm8J5gGLv9G"
      },
      "source": [
        "knn = KNeighborsClassifier(n_neighbors=1)\n",
        "knn.fit(X_train, y_train.values.reshape(1707,))\n",
        "Prediction_KNN = knn.predict(X_test)\n",
        "error_KNN = np.mean(Prediction_KNN.reshape(1000,1) != y_test.values)"
      ],
      "execution_count": 31,
      "outputs": []
    },
    {
      "cell_type": "code",
      "metadata": {
        "colab": {
          "base_uri": "https://localhost:8080/",
          "height": 0
        },
        "id": "GwNUShR4ORGT",
        "outputId": "8d346c91-7555-458c-b468-a21582c6996c"
      },
      "source": [
        "print('The accuracy rate of the KNN classifier is:', 1 - error_KNN)"
      ],
      "execution_count": 32,
      "outputs": [
        {
          "output_type": "stream",
          "name": "stdout",
          "text": [
            "The accuracy rate of the KNN classifier is: 0.915\n"
          ]
        }
      ]
    },
    {
      "cell_type": "code",
      "metadata": {
        "id": "657bUV5uOT-f"
      },
      "source": [
        "confusion_matrix_KNN = confusion_matrix(y_test, Prediction_KNN)\n",
        "Report_KNN = classification_report(y_test, Prediction_KNN)"
      ],
      "execution_count": 33,
      "outputs": []
    },
    {
      "cell_type": "markdown",
      "metadata": {
        "id": "AJlpn7KmO8Jo"
      },
      "source": [
        "The Confusion matrix for KNN is:"
      ]
    },
    {
      "cell_type": "code",
      "metadata": {
        "colab": {
          "base_uri": "https://localhost:8080/",
          "height": 0
        },
        "id": "UENww4oxOzbK",
        "outputId": "716a29a7-538e-4ed6-d000-66d474181907"
      },
      "source": [
        "confusion_matrix_KNN"
      ],
      "execution_count": 34,
      "outputs": [
        {
          "output_type": "execute_result",
          "data": {
            "text/plain": [
              "array([[219,   0,   2,   0,   0,   0,   1,   1,   0,   1],\n",
              "       [  0, 118,   0,   0,   0,   0,   2,   1,   0,   0],\n",
              "       [  5,   1,  84,   2,   0,   0,   1,   3,   4,   1],\n",
              "       [  3,   0,   2,  71,   0,   2,   0,   0,   0,   1],\n",
              "       [  0,   2,   3,   0,  77,   0,   0,   2,   0,   2],\n",
              "       [  3,   0,   0,   5,   0,  41,   0,   3,   2,   1],\n",
              "       [  4,   0,   0,   0,   2,   0,  84,   0,   0,   0],\n",
              "       [  0,   1,   0,   1,   3,   0,   0,  59,   0,   0],\n",
              "       [  1,   1,   0,   6,   0,   2,   1,   1,  78,   2],\n",
              "       [  1,   0,   0,   0,   0,   0,   0,   2,   1,  84]])"
            ]
          },
          "metadata": {},
          "execution_count": 34
        }
      ]
    },
    {
      "cell_type": "markdown",
      "metadata": {
        "id": "2z4EC8x2PRy2"
      },
      "source": [
        "The Confusion matrix for the distance-base method:"
      ]
    },
    {
      "cell_type": "code",
      "metadata": {
        "colab": {
          "base_uri": "https://localhost:8080/",
          "height": 0
        },
        "id": "U3EE3CTfPAE0",
        "outputId": "6ac24cdc-f532-45d6-8ae9-8cd1153b1ef5"
      },
      "source": [
        "confusion_matrix_distance = confusion_matrix(y_test, Prediction)\n",
        "Report_distance = classification_report(y_test, Prediction)\n",
        "confusion_matrix_distance"
      ],
      "execution_count": 35,
      "outputs": [
        {
          "output_type": "execute_result",
          "data": {
            "text/plain": [
              "array([[178,   0,   3,   2,   4,   2,  23,   1,  10,   1],\n",
              "       [  0, 120,   0,   0,   0,   0,   1,   0,   0,   0],\n",
              "       [  2,   0,  69,   6,   8,   1,   0,   2,  13,   0],\n",
              "       [  3,   0,   3,  61,   1,   8,   0,   0,   1,   2],\n",
              "       [  1,   3,   3,   0,  69,   0,   1,   1,   0,   8],\n",
              "       [  3,   0,   0,   6,   3,  38,   1,   0,   0,   4],\n",
              "       [  7,   0,   2,   0,   2,   1,  78,   0,   0,   0],\n",
              "       [  0,   2,   1,   0,   5,   0,   0,  50,   0,   6],\n",
              "       [  3,   2,   0,   6,   3,   3,   0,   0,  73,   2],\n",
              "       [  0,   5,   0,   0,   8,   0,   0,   5,   2,  68]])"
            ]
          },
          "metadata": {},
          "execution_count": 35
        }
      ]
    },
    {
      "cell_type": "code",
      "metadata": {
        "colab": {
          "base_uri": "https://localhost:8080/",
          "height": 0
        },
        "id": "v64ef7nKdajm",
        "outputId": "ac708c08-84eb-474b-d62c-498e9c0c72d5"
      },
      "source": [
        "accuracy_rate_distance = np.sum(np.diag(confusion_matrix_distance))/1000\n",
        "print('The accuracy rate of the distance-base classifier is:', accuracy_rate_distance)"
      ],
      "execution_count": 36,
      "outputs": [
        {
          "output_type": "stream",
          "name": "stdout",
          "text": [
            "The accuracy rate of the distance-base classifier is: 0.804\n"
          ]
        }
      ]
    },
    {
      "cell_type": "markdown",
      "metadata": {
        "id": "T5EQS7YReaA7"
      },
      "source": [
        "The report for the KNN is:\n"
      ]
    },
    {
      "cell_type": "code",
      "metadata": {
        "colab": {
          "base_uri": "https://localhost:8080/",
          "height": 0
        },
        "id": "uHzi5GSqeeI4",
        "outputId": "54eb8f5c-80dc-4b18-fc59-f1f34804d80d"
      },
      "source": [
        "print(Report_KNN)"
      ],
      "execution_count": 37,
      "outputs": [
        {
          "output_type": "stream",
          "name": "stdout",
          "text": [
            "              precision    recall  f1-score   support\n",
            "\n",
            "           0       0.93      0.98      0.95       224\n",
            "           1       0.96      0.98      0.97       121\n",
            "           2       0.92      0.83      0.87       101\n",
            "           3       0.84      0.90      0.87        79\n",
            "           4       0.94      0.90      0.92        86\n",
            "           5       0.91      0.75      0.82        55\n",
            "           6       0.94      0.93      0.94        90\n",
            "           7       0.82      0.92      0.87        64\n",
            "           8       0.92      0.85      0.88        92\n",
            "           9       0.91      0.95      0.93        88\n",
            "\n",
            "    accuracy                           0.92      1000\n",
            "   macro avg       0.91      0.90      0.90      1000\n",
            "weighted avg       0.92      0.92      0.91      1000\n",
            "\n"
          ]
        }
      ]
    },
    {
      "cell_type": "markdown",
      "metadata": {
        "id": "a-MbrcMtemOh"
      },
      "source": [
        "The report for the distance-base classifer is:"
      ]
    },
    {
      "cell_type": "code",
      "metadata": {
        "colab": {
          "base_uri": "https://localhost:8080/",
          "height": 0
        },
        "id": "xlPhz-Voes_e",
        "outputId": "16360f97-c617-44a5-841b-d217827bbb77"
      },
      "source": [
        "print(Report_distance)"
      ],
      "execution_count": 38,
      "outputs": [
        {
          "output_type": "stream",
          "name": "stdout",
          "text": [
            "              precision    recall  f1-score   support\n",
            "\n",
            "           0       0.90      0.79      0.85       224\n",
            "           1       0.91      0.99      0.95       121\n",
            "           2       0.85      0.68      0.76       101\n",
            "           3       0.75      0.77      0.76        79\n",
            "           4       0.67      0.80      0.73        86\n",
            "           5       0.72      0.69      0.70        55\n",
            "           6       0.75      0.87      0.80        90\n",
            "           7       0.85      0.78      0.81        64\n",
            "           8       0.74      0.79      0.76        92\n",
            "           9       0.75      0.77      0.76        88\n",
            "\n",
            "    accuracy                           0.80      1000\n",
            "   macro avg       0.79      0.79      0.79      1000\n",
            "weighted avg       0.81      0.80      0.80      1000\n",
            "\n"
          ]
        }
      ]
    },
    {
      "cell_type": "markdown",
      "metadata": {
        "id": "4f1FIV6HdRpy"
      },
      "source": [
        "\n",
        "Accuracy = (TP + TN) / (TP + TN + FP + FN) \\\\\n",
        "Recall = TP / (TP + FN) \\\\\n",
        "Precision = TP / (TP + FP) \\\\\n",
        "Fmeasure = (2 * Recall * Precision) / (Recall + Presision) \\\\"
      ]
    },
    {
      "cell_type": "markdown",
      "metadata": {
        "id": "BejB_-Y5OT5U"
      },
      "source": [
        "#Task 2"
      ]
    },
    {
      "cell_type": "markdown",
      "metadata": {
        "id": "0a4zmWWhOWlT"
      },
      "source": [
        "Implement the single layer network ourselves."
      ]
    },
    {
      "cell_type": "code",
      "metadata": {
        "id": "9HA6OiTdGpSS"
      },
      "source": [
        "np.random.seed(323)\n",
        "def fit_single_layer(input_train, outcome_train, max_times):\n",
        "    input_train = pd.concat([input_train, pd.DataFrame(data = np.ones(shape = (input_train.shape[0],)))], axis = 1)\n",
        "    weight = np.random.rand(257,10)\n",
        "    time = 0\n",
        "    error_rate = 1\n",
        "    while error_rate != 0 and time < max_times:\n",
        "      outcome_predict_org = np.matmul(input_train.values, weight)\n",
        "      outcome_predict_arg = np.argmax(outcome_predict_org, axis = 1)\n",
        "      error_rate = np.mean(outcome_predict_arg != outcome_train.values)\n",
        "      wrong_class = np.where(outcome_predict_arg != outcome_train.values)[0]\n",
        "      for i in wrong_class:\n",
        "          wrong_output = outcome_predict_org[i]\n",
        "          wrong_label = outcome_train.values[i][0].astype(int)\n",
        "          larger_values = np.where(outcome_predict_org[i, wrong_label] < outcome_predict_org[i,:])\n",
        "          for j in larger_values[0]:\n",
        "            weight[:,j] -= input_train.values[i,:]\n",
        "          weight[:,wrong_label] += input_train.values[i,:]\n",
        "      time += 1\n",
        "      print(time)\n",
        "    return weight\n",
        "\n",
        "\n",
        "\n"
      ],
      "execution_count": 39,
      "outputs": []
    },
    {
      "cell_type": "code",
      "metadata": {
        "colab": {
          "base_uri": "https://localhost:8080/",
          "height": 0
        },
        "id": "0OLeq5tCtmgK",
        "outputId": "892a8ec3-294a-4712-cb4b-6370d4b4f611"
      },
      "source": [
        "weight = fit_single_layer(X_train, y_train, 10)"
      ],
      "execution_count": 40,
      "outputs": [
        {
          "output_type": "stream",
          "name": "stdout",
          "text": [
            "1\n",
            "2\n",
            "3\n",
            "4\n",
            "5\n",
            "6\n",
            "7\n",
            "8\n",
            "9\n",
            "10\n"
          ]
        }
      ]
    },
    {
      "cell_type": "markdown",
      "metadata": {
        "id": "iAFH1Hk84sWB"
      },
      "source": [
        "Then we use the fitted weights to predict the Test data."
      ]
    },
    {
      "cell_type": "code",
      "metadata": {
        "id": "ZNklt4OO1AWH"
      },
      "source": [
        "Test_data = pd.concat([X_test, pd.DataFrame(data = np.ones(shape = (X_test.shape[0],)))], axis = 1)"
      ],
      "execution_count": 41,
      "outputs": []
    },
    {
      "cell_type": "code",
      "metadata": {
        "id": "v9CfD8u5t0S4"
      },
      "source": [
        "Prediction_single_layer = np.argmax(np.matmul(Test_data.values, weight), axis = 1)"
      ],
      "execution_count": 42,
      "outputs": []
    },
    {
      "cell_type": "markdown",
      "metadata": {
        "id": "REz6hMHU40Up"
      },
      "source": [
        "The Confusion matrix and the Report are:"
      ]
    },
    {
      "cell_type": "code",
      "metadata": {
        "id": "-If6siOLz2oE"
      },
      "source": [
        "confusion_matrix_single_layer = confusion_matrix(y_test, Prediction_single_layer)\n",
        "Report_single_layer = classification_report(y_test, Prediction_single_layer)"
      ],
      "execution_count": 43,
      "outputs": []
    },
    {
      "cell_type": "code",
      "metadata": {
        "id": "ktfpuXdc4Hru",
        "outputId": "0dad4583-85b0-4c63-edda-3c62b05cae18",
        "colab": {
          "base_uri": "https://localhost:8080/",
          "height": 0
        }
      },
      "source": [
        "print('The confusion matrix of the single layer perceptron is: \\n', confusion_matrix_single_layer,'\\n')\n",
        "print('The report of the single layer perceptron is: \\n', Report_single_layer)"
      ],
      "execution_count": 44,
      "outputs": [
        {
          "output_type": "stream",
          "name": "stdout",
          "text": [
            "The confusion matrix of the single layer perceptron is: \n",
            " [[213   3   0   0   2   0   2   0   3   1]\n",
            " [  0 121   0   0   0   0   0   0   0   0]\n",
            " [  9   9  70   1   3   0   0   3   6   0]\n",
            " [ 19   3   3  49   0   0   0   3   1   1]\n",
            " [  3  16   2   0  51   0   0   3   0  11]\n",
            " [ 23   8   0   7   1   5   4   3   2   2]\n",
            " [ 17  10   0   0   0   0  63   0   0   0]\n",
            " [  1   6   1   0   1   0   0  55   0   0]\n",
            " [  8  17   2   2   0   0   0   3  60   0]\n",
            " [  1  17   0   0   1   0   0  15   0  54]] \n",
            "\n",
            "The report of the single layer perceptron is: \n",
            "               precision    recall  f1-score   support\n",
            "\n",
            "           0       0.72      0.95      0.82       224\n",
            "           1       0.58      1.00      0.73       121\n",
            "           2       0.90      0.69      0.78       101\n",
            "           3       0.83      0.62      0.71        79\n",
            "           4       0.86      0.59      0.70        86\n",
            "           5       1.00      0.09      0.17        55\n",
            "           6       0.91      0.70      0.79        90\n",
            "           7       0.65      0.86      0.74        64\n",
            "           8       0.83      0.65      0.73        92\n",
            "           9       0.78      0.61      0.69        88\n",
            "\n",
            "    accuracy                           0.74      1000\n",
            "   macro avg       0.81      0.68      0.69      1000\n",
            "weighted avg       0.79      0.74      0.72      1000\n",
            "\n"
          ]
        }
      ]
    },
    {
      "cell_type": "code",
      "metadata": {
        "id": "ZxML1P-6cDA1"
      },
      "source": [
        ""
      ],
      "execution_count": 44,
      "outputs": []
    },
    {
      "cell_type": "markdown",
      "metadata": {
        "id": "a7JQVxEycZ8-"
      },
      "source": [
        "#Task 3"
      ]
    },
    {
      "cell_type": "markdown",
      "metadata": {
        "id": "-HgFujf8ceut"
      },
      "source": [
        "Define the network myself.\n"
      ]
    },
    {
      "cell_type": "code",
      "metadata": {
        "id": "a18IC7j8cjd4"
      },
      "source": [
        "def sigmoid_array(x):                                        \n",
        "   return 1 / (1 + np.exp(-x))\n",
        "class my_XOR_network:\n",
        "  def xor_net(x1, x2, weights = np.random.randn(3,3)):\n",
        "     input = np.array([x1,x2,1])\n",
        "     first_layer_input = [sigmoid_array(np.dot(input, weights[:,0])), sigmoid_array(np.dot(input, weights[:,1])), 1]\n",
        "     output = sigmoid_array(np.dot(first_layer_input, weights[:,2]))\n",
        "     return output\n",
        "  def mse(weights):\n",
        "    se1 = my_XOR_network.xor_net(0,0,weights)\n",
        "    se2 = 1 - my_XOR_network.xor_net(0,1,weights)\n",
        "    se3 = 1 - my_XOR_network.xor_net(1,0,weights)\n",
        "    se4 = my_XOR_network.xor_net(1,1,weights)\n",
        "\n",
        "    return (se1**2 + se2**2 + se3**2 + se4**2)/4\n",
        "  def grdmse(weights, delta = 0.000000001):\n",
        "    \n",
        "    derivative = np.empty([3,3])\n",
        "    for i in range(derivative.shape[0]):\n",
        "      for j in range(derivative.shape[1]):\n",
        "        current_mse = my_XOR_network.mse(weights)\n",
        "        weights[i,j] = weights[i,j] + delta\n",
        "        new_mse = my_XOR_network.mse(weights)\n",
        "        derivative[i,j] = (new_mse - current_mse)/delta\n",
        "        weights[i,j] = weights[i,j] - delta\n",
        "    return derivative\n",
        "  def gda(weights = np.random.randn(3,3), step = 0.05):\n",
        "    pred = (my_XOR_network.xor_net(0,0,weights) < 0.5) and (my_XOR_network.xor_net(1,1,weights) < 0.5) and (my_XOR_network.xor_net(0,1,weights) > 0.5) and (my_XOR_network.xor_net(1,0,weights) > 0.5)\n",
        "    i = 0\n",
        "    while(pred == False): #and (i <= 5000))\n",
        "      weights = weights - step*my_XOR_network.grdmse(weights)\n",
        "      pred = (my_XOR_network.xor_net(0,0,weights) < 0.5) and (my_XOR_network.xor_net(1,1,weights) < 0.5) and (my_XOR_network.xor_net(0,1,weights) > 0.5) and (my_XOR_network.xor_net(1,0,weights) > 0.5)\n",
        "      i += 1\n",
        "      \n",
        "    return weights\n",
        "\n",
        "\n",
        "\n",
        "  \n",
        "\n"
      ],
      "execution_count": 45,
      "outputs": []
    },
    {
      "cell_type": "code",
      "metadata": {
        "id": "eseLqMOAgU1y"
      },
      "source": [
        "weights = np.random.randn(3,3)"
      ],
      "execution_count": 46,
      "outputs": []
    },
    {
      "cell_type": "code",
      "metadata": {
        "id": "oTYR2BGh8nGN",
        "colab": {
          "base_uri": "https://localhost:8080/",
          "height": 0
        },
        "outputId": "73d2d52f-15f1-4301-dd2e-f23ff3b8cd7c"
      },
      "source": [
        "print((my_XOR_network.xor_net(1,0,weights) > 0.5))\n",
        "print((my_XOR_network.xor_net(0,1,weights) > 0.5))\n",
        "print((my_XOR_network.xor_net(1,1,weights) < 0.5))\n",
        "print((my_XOR_network.xor_net(0,0,weights) < 0.5))"
      ],
      "execution_count": 47,
      "outputs": [
        {
          "output_type": "stream",
          "name": "stdout",
          "text": [
            "False\n",
            "True\n",
            "False\n",
            "False\n"
          ]
        }
      ]
    },
    {
      "cell_type": "code",
      "metadata": {
        "id": "OMnEMnVV7saF",
        "colab": {
          "base_uri": "https://localhost:8080/",
          "height": 0
        },
        "outputId": "d308852c-3c7a-4272-b655-cf71441ba296"
      },
      "source": [
        "weights"
      ],
      "execution_count": 48,
      "outputs": [
        {
          "output_type": "execute_result",
          "data": {
            "text/plain": [
              "array([[-0.7984499 , -0.51978053,  1.74058551],\n",
              "       [ 1.62054738, -0.68502254,  0.07117314],\n",
              "       [ 0.10295299, -0.60644401, -0.7128456 ]])"
            ]
          },
          "metadata": {},
          "execution_count": 48
        }
      ]
    },
    {
      "cell_type": "code",
      "metadata": {
        "id": "ivRLLrxTgVjJ",
        "colab": {
          "base_uri": "https://localhost:8080/",
          "height": 0
        },
        "outputId": "b47f9118-a6f7-42cb-c77c-76990a13cc62"
      },
      "source": [
        "my_XOR_network.mse(weights = weights)"
      ],
      "execution_count": 49,
      "outputs": [
        {
          "output_type": "execute_result",
          "data": {
            "text/plain": [
              "0.27217951404077084"
            ]
          },
          "metadata": {},
          "execution_count": 49
        }
      ]
    },
    {
      "cell_type": "code",
      "metadata": {
        "id": "xWMQVRcaoJ7_",
        "colab": {
          "base_uri": "https://localhost:8080/",
          "height": 0
        },
        "outputId": "f23c57b2-d73f-4166-e93f-c7266603c5de"
      },
      "source": [
        "my_XOR_network.xor_net(1,1,weights)"
      ],
      "execution_count": 50,
      "outputs": [
        {
          "output_type": "execute_result",
          "data": {
            "text/plain": [
              "0.6326342483381137"
            ]
          },
          "metadata": {},
          "execution_count": 50
        }
      ]
    },
    {
      "cell_type": "code",
      "metadata": {
        "id": "G8J90VCNoQ4t",
        "cellView": "form"
      },
      "source": [
        "#@title The final fitted weights.\n",
        "final_weights = my_XOR_network.gda(weights = weights)"
      ],
      "execution_count": 51,
      "outputs": []
    },
    {
      "cell_type": "code",
      "metadata": {
        "id": "NXVJpTgT8Rop"
      },
      "source": [
        "final_weights"
      ],
      "execution_count": null,
      "outputs": []
    },
    {
      "cell_type": "code",
      "metadata": {
        "id": "m6ThdXgq5aq1"
      },
      "source": [
        "print((my_XOR_network.xor_net(1,0,final_weights) > 0.5))\n",
        "print((my_XOR_network.xor_net(0,1,final_weights) > 0.5))\n",
        "print((my_XOR_network.xor_net(1,1,final_weights) < 0.5))\n",
        "print((my_XOR_network.xor_net(0,0,final_weights) < 0.5))"
      ],
      "execution_count": null,
      "outputs": []
    },
    {
      "cell_type": "code",
      "metadata": {
        "id": "MaOGR7tP7euI"
      },
      "source": [
        ""
      ],
      "execution_count": 53,
      "outputs": []
    }
  ]
}